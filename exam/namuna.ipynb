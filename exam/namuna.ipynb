{
 "cells": [
  {
   "cell_type": "code",
   "execution_count": 17,
   "metadata": {},
   "outputs": [
    {
     "data": {
      "text/plain": [
       "False"
      ]
     },
     "execution_count": 17,
     "metadata": {},
     "output_type": "execute_result"
    }
   ],
   "source": [
    "def is_prime(n: int):\n",
    "    a = 0\n",
    "    for i in range(1, n + 1):\n",
    "        if n % i == 0:\n",
    "            a += 1\n",
    "    if a < 3:\n",
    "        return True\n",
    "    else:\n",
    "        return False\n",
    "is_prime(10)\n",
    "        "
   ]
  },
  {
   "cell_type": "code",
   "execution_count": 22,
   "metadata": {},
   "outputs": [
    {
     "name": "stdout",
     "output_type": "stream",
     "text": [
      "Kunni 1 dan 31 gacha kiriting\n"
     ]
    }
   ],
   "source": [
    "class Date:\n",
    "    \n",
    "    def __init__(self, day: int, month: int, year: int):\n",
    "        self.day = day\n",
    "        self.month = month\n",
    "        self.year = year\n",
    "        \n",
    "    def print_date(self):\n",
    "        if self.day > 0 and self.day < 32:\n",
    "            if self.month > 0 and self.month < 12:\n",
    "                if self.month == 1:\n",
    "                    return f'{self.day}/yanvar/{self.year}'\n",
    "                elif self.month == 2:\n",
    "                    return f'{self.day}/fevral/{self.year}'\n",
    "                elif self.month == 3:\n",
    "                    return f'{self.day}/mart/{self.year}'\n",
    "                elif self.month == 4:\n",
    "                    return f'{self.day}/april/{self.year}'\n",
    "                elif self.month == 5:\n",
    "                    return f'{self.day}/may/{self.year}'\n",
    "                elif self.month == 6:\n",
    "                    return f'{self.day}/iyun/{self.year}'\n",
    "                elif self.month == 7:\n",
    "                    return f'{self.day}/avgust/{self.year}'\n",
    "                elif self.month == 8:\n",
    "                    return f'{self.day}/sentabr/{self.year}'\n",
    "                elif self.month == 9:\n",
    "                    return f'{self.day}/oktabr/{self.year}'\n",
    "                \n",
    "            else:\n",
    "                return 'Oyni 1 dan 12 gacha kiriting'\n",
    "        else:\n",
    "            return f'Kunni 1 dan 31 gacha kiriting'\n",
    "        \n",
    "            \n",
    "a = Date(0, 3, 2024)\n",
    "print(a.print_date())"
   ]
  },
  {
   "cell_type": "code",
   "execution_count": 25,
   "metadata": {},
   "outputs": [
    {
     "name": "stdout",
     "output_type": "stream",
     "text": [
      "[0, None, 1, 2, 3, None, 4, None, None]\n"
     ]
    }
   ],
   "source": [
    "a = list()\n",
    "a = [0, None, 1, 2, 3, None, 4, None, None]\n",
    "x = None\n",
    "for i in range(len(a)):\n",
    "    if i in a:\n",
    "        if i != None:\n",
    "            x = i\n",
    "        elif i == None:\n",
    "            a.replace(i, x)\n",
    "            \n",
    "print(a)"
   ]
  },
  {
   "cell_type": "code",
   "execution_count": 26,
   "metadata": {},
   "outputs": [],
   "source": [
    "import pandas as pd"
   ]
  },
  {
   "cell_type": "code",
   "execution_count": null,
   "metadata": {},
   "outputs": [
    {
     "name": "stdout",
     "output_type": "stream",
     "text": [
      "101\n"
     ]
    }
   ],
   "source": [
    "file = pd.read_csv('TestMax.csv')\n",
    "a = []\n",
    "b = []\n",
    "c = []\n",
    "d = []\n",
    "z = []\n",
    "for i in file.columns[2:]:\n",
    "    a.append(file[i][0])\n",
    "    b.append(file[i][0])\n",
    "    c.append(file[i][0])\n",
    "    d.append(file[i][0])\n",
    "\n"
   ]
  },
  {
   "cell_type": "code",
   "execution_count": 31,
   "metadata": {},
   "outputs": [],
   "source": [
    "import numpy as np"
   ]
  },
  {
   "cell_type": "code",
   "execution_count": 36,
   "metadata": {},
   "outputs": [
    {
     "name": "stdout",
     "output_type": "stream",
     "text": [
      "-39.698200517645304 -44.685882818986485 67.0861302745227\n"
     ]
    }
   ],
   "source": [
    "data = np.random.normal(1, 100, 10)\n",
    "\n",
    "a = data.mean()\n",
    "b = np.median(data)\n",
    "c = np.std(data)\n",
    "print(a, b, c)"
   ]
  },
  {
   "cell_type": "code",
   "execution_count": null,
   "metadata": {},
   "outputs": [],
   "source": []
  }
 ],
 "metadata": {
  "kernelspec": {
   "display_name": "Python 3",
   "language": "python",
   "name": "python3"
  },
  "language_info": {
   "codemirror_mode": {
    "name": "ipython",
    "version": 3
   },
   "file_extension": ".py",
   "mimetype": "text/x-python",
   "name": "python",
   "nbconvert_exporter": "python",
   "pygments_lexer": "ipython3",
   "version": "3.12.8"
  }
 },
 "nbformat": 4,
 "nbformat_minor": 2
}
