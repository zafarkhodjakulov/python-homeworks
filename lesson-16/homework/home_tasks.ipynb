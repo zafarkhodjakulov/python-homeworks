{
 "cells": [
  {
   "cell_type": "code",
   "execution_count": 33,
   "metadata": {},
   "outputs": [],
   "source": [
    "import numpy as np"
   ]
  },
  {
   "cell_type": "markdown",
   "metadata": {},
   "source": [
    "Haroratni Farengeytdan Selsiyga aylantiruvchi Python funksiyasini yozing. Bu funksiyani haroratlar massiviga qo‘llash uchun numpy.vectorize dan foydalaning: [32, 68, 100, 212, 77]. Formula: \n",
    "$$\n",
    "𝐶 = ( 𝐹 − 32 ) × 5 / 9\n",
    "$$"
   ]
  },
  {
   "cell_type": "markdown",
   "metadata": {},
   "source": []
  },
  {
   "cell_type": "code",
   "execution_count": 22,
   "metadata": {},
   "outputs": [
    {
     "data": {
      "text/plain": [
       "array([  0.        ,  20.        ,  37.77777778, 100.        ,\n",
       "        25.        ])"
      ]
     },
     "execution_count": 22,
     "metadata": {},
     "output_type": "execute_result"
    }
   ],
   "source": [
    "def convert_far_celsiy(f):\n",
    "    return (f - 32) * 5 / 9\n",
    "\n",
    "vfunc = np.vectorize(convert_far_celsiy)\n",
    "\n",
    "a = np.array([32, 68, 100, 212, 77])\n",
    "\n",
    "vfunc([32, 68, 100, 212, 77])"
   ]
  },
  {
   "cell_type": "markdown",
   "metadata": {},
   "source": [
    "Ikkita argumentni qabul qiladigan maxsus funksiya yarating: raqam va quvvat. Ikki massivdagi har bir son juftligi uchun quvvatni hisoblash uchun numpy.vectorize dan foydalaning: [2, 3, 4, 5] va [1, 2, 3, 4]."
   ]
  },
  {
   "cell_type": "code",
   "execution_count": 27,
   "metadata": {},
   "outputs": [
    {
     "data": {
      "text/plain": [
       "array([  2,   9,  64, 625])"
      ]
     },
     "execution_count": 27,
     "metadata": {},
     "output_type": "execute_result"
    }
   ],
   "source": [
    "def power_function(x, y):\n",
    "    return x ** y\n",
    "\n",
    "vectorized_power = np.vectorize(power_function)\n",
    "\n",
    "x = np.array([2, 3, 4, 5])\n",
    "y = np.array([1, 2, 3, 4])\n",
    "\n",
    "vectorized_power(x, y)\n"
   ]
  },
  {
   "cell_type": "markdown",
   "metadata": {},
   "source": [
    "Numpy yordamida tenglamalar tizimini yeching: \n",
    "$$\n",
    "\\begin{cases}\n",
    "4𝑥 + 5𝑦 + 6𝑧 = 7 \\\\\n",
    "3𝑥 − 𝑦 + 𝑧 = 4 \\\\\n",
    "2𝑥 + 𝑦 − 2𝑧 = 5\n",
    "\\end{cases}\n",
    "$$"
   ]
  },
  {
   "cell_type": "markdown",
   "metadata": {},
   "source": []
  },
  {
   "cell_type": "code",
   "execution_count": 31,
   "metadata": {},
   "outputs": [
    {
     "data": {
      "text/plain": [
       "np.float64(7.0)"
      ]
     },
     "execution_count": 31,
     "metadata": {},
     "output_type": "execute_result"
    }
   ],
   "source": [
    "W = np.array([\n",
    "    [4, 5, 6],\n",
    "    [3, -1, 1],\n",
    "    [2, 1, -2]\n",
    "])\n",
    "Y = np.array([7, 4, 5])\n",
    "\n",
    "func_system = np.linalg.solve(W, Y)\n",
    "func_system"
   ]
  },
  {
   "cell_type": "markdown",
   "metadata": {},
   "source": [
    "Quyidagi elektr zanjiri tenglamalarini hisobga olib, eching 𝐼 1 , 𝐼 2 , 𝐼 3 (filiallardagi oqimlar):\n",
    "$$\n",
    "\\begin{cases}\n",
    "10𝐼_1 - 2𝐼_2 + 3𝐼_3 = 12 \\\\\n",
    "-2𝐼_1 + 8𝐼_2 - 𝐼_3 = - 5 \\\\\n",
    "3𝐼_1 - 𝐼_2 + 6𝐼_3 = 15\n",
    "\\end{cases}"
   ]
  },
  {
   "cell_type": "markdown",
   "metadata": {},
   "source": []
  },
  {
   "cell_type": "code",
   "execution_count": 32,
   "metadata": {},
   "outputs": [
    {
     "data": {
      "text/plain": [
       "array([ 0.48963731, -0.2253886 ,  2.21761658])"
      ]
     },
     "execution_count": 32,
     "metadata": {},
     "output_type": "execute_result"
    }
   ],
   "source": [
    "W = np.array([\n",
    "    [10, -2, 3],\n",
    "    [-2, 8, -1],\n",
    "    [3, -1, 6]\n",
    "])\n",
    "Y = np.array([12, -5, 15])\n",
    "\n",
    "func1_system = np.linalg.solve(W, Y)\n",
    "func1_system"
   ]
  },
  {
   "cell_type": "markdown",
   "metadata": {},
   "source": [
    "NumPy va PIL yordamida tasvirni manipulyatsiya qilish Tasvir fayli: images/birds.jpg. Sizning vazifangiz tasvirni o'qish va saqlash uchun PIL-dan foydalangan holda NumPy kutubxonasi yordamida quyidagi rasm manipulyatsiyalarini bajarishdir. Ko'rsatmalar: Tasvirni aylantiring: Tasvirni gorizontal va vertikal (chapdan o'ngga va yuqoridan pastga) aylantiring. Tasodifiy shovqin qo'shing: Tasvirga tasodifiy shovqin qo'shing. Kanallarni yoritish: Kanallarning yorqinligini (r.g. qizil kanal) belgilangan qiymatga (masalan, 40) oshiring. Qiymatlar 0 dan 255 gacha bo'lgan diapazonda qolishini ta'minlash uchun ularni kesib tashlang. Maskani qo'llang: Ushbu hududdagi barcha piksel qiymatlarini qora rangga (0, 0, 0) o'rnatish orqali tasvirdagi to'rtburchaklar hududni (masalan, markazdagi 100x100 maydon) niqoblang. Talablar: PIL modulidan quyidagi maqsadlarda foydalaning: Rasmni o'qing. Numpy massivini rasmga o'zgartiring. O'zgartirilgan rasmni yana faylga saqlang. NumPy funksiyalaridan foydalangan holda barcha manipulyatsiyalarni bajaring. PIL yoki boshqa kutubxonalardagi tasvirni tahrirlash funksiyalaridan foydalanmang. Bonus sinovi: Kodning modulliligi va qayta ishlatilishini rag'batlantirish uchun har bir manipulyatsiya uchun funktsiya yarating (masalan, flip_image, add_noise, lighten_channels, apply_mask)."
   ]
  },
  {
   "cell_type": "markdown",
   "metadata": {},
   "source": []
  },
  {
   "cell_type": "code",
   "execution_count": 36,
   "metadata": {},
   "outputs": [],
   "source": [
    "import numpy as np\n",
    "from PIL import Image\n",
    "file_path='../images/rabbit.jpg'"
   ]
  },
  {
   "cell_type": "code",
   "execution_count": 37,
   "metadata": {},
   "outputs": [],
   "source": [
    "def img_read():\n",
    "    with Image.open(file_path, mode='r') as img:\n",
    "        img = img.convert('RGB')\n",
    "        img_arr = np.array(img)\n",
    "    return img_arr\n",
    "    \n",
    "def flip_image(save_path):\n",
    "    with Image.open(file_path, mode='r') as img:\n",
    "        img = img.transpose(method=Image.FLIP_LEFT_RIGHT) #FLIP_TOP_BOTTOM\n",
    "        img.save(save_path)\n",
    "    return img.show()\n",
    "    \n",
    "\n",
    "\n",
    "def add_noise(save_path):\n",
    "    with Image.open(file_path, mode='r') as img:\n",
    "        img_arr = np.array(img)\n",
    "    noise = np.random.normal(0, 25, img_arr.shape) \n",
    "    noisy_image = img_arr + noise\n",
    "    noisy_image = np.clip(noisy_image, 0, 255).astype(np.uint8)\n",
    "    noisy_image = Image.fromarray(noisy_image)\n",
    "    noisy_image.save(save_path)\n",
    "    return noisy_image.show()\n",
    "\n",
    "def brighten_channels(save_path):\n",
    "    increase_value = 40\n",
    "    with Image.open('../images/puppy.jpg') as img:\n",
    "        image_array = np.array(img)\n",
    "    image_array[:, :, 0] = np.clip(image_array[:, :, 0] + increase_value, 0, 255)\n",
    "    image_array[:, :, 1] = np.clip(image_array[:, :, 1] + increase_value, 0, 255)\n",
    "    image_array[:, :, 2] = np.clip(image_array[:, :, 2] + increase_value, 0, 255)\n",
    "    new_img = Image.fromarray(image_array.astype(np.uint8))\n",
    "    new_img.save(save_path)\n",
    "    return new_img.show()\n",
    "\n",
    "\n",
    "def apply_mask(save_path):\n",
    "    with Image.open('../images/puppy.jpg') as img:\n",
    "        image_array = np.array(img)\n",
    "    image_array[50:243, :, :] = image_array[50:243, :, :] * np.zeros([193, 236, 3]).astype(int)\n",
    "    image = Image.fromarray(image_array.astype(np.uint8))\n",
    "    image.save(save_path)\n",
    "    return image.show()\n",
    "        \n"
   ]
  }
 ],
 "metadata": {
  "kernelspec": {
   "display_name": "Python 3",
   "language": "python",
   "name": "python3"
  },
  "language_info": {
   "codemirror_mode": {
    "name": "ipython",
    "version": 3
   },
   "file_extension": ".py",
   "mimetype": "text/x-python",
   "name": "python",
   "nbconvert_exporter": "python",
   "pygments_lexer": "ipython3",
   "version": "3.12.8"
  }
 },
 "nbformat": 4,
 "nbformat_minor": 2
}
