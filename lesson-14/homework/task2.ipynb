{
 "cells": [
  {
   "cell_type": "code",
   "execution_count": 5,
   "metadata": {},
   "outputs": [
    {
     "name": "stdout",
     "output_type": "stream",
     "text": [
      "Yangi ish e'lonlari yuklandi va bazaga saqlandi!\n"
     ]
    },
    {
     "name": "stderr",
     "output_type": "stream",
     "text": [
      "C:\\Users\\Hp\\AppData\\Local\\Temp\\ipykernel_50416\\1637259182.py:39: DeprecationWarning: The 'text' argument to find()-type methods is deprecated. Use 'string' instead.\n",
      "  apply_tag = job.find(\"a\", text=\"Apply\")\n"
     ]
    }
   ],
   "source": [
    "import requests\n",
    "import sqlite3\n",
    "import pandas as pd\n",
    "from bs4 import BeautifulSoup\n",
    "\n",
    "URL = \"https://realpython.github.io/fake-jobs\"\n",
    "\n",
    "response = requests.get(URL)\n",
    "soup = BeautifulSoup(response.text, \"html.parser\")\n",
    "\n",
    "conn = sqlite3.connect(\"jobs.db\")\n",
    "cursor = conn.cursor()\n",
    "\n",
    "cursor.execute(\"\"\"\n",
    "CREATE TABLE IF NOT EXISTS jobs (\n",
    "    id INTEGER PRIMARY KEY AUTOINCREMENT,\n",
    "    title TEXT,\n",
    "    company TEXT,\n",
    "    location TEXT,\n",
    "    description TEXT,\n",
    "    apply_link TEXT,\n",
    "    UNIQUE(title, company, location)\n",
    ")\n",
    "\"\"\")\n",
    "conn.commit()\n",
    "\n",
    "job_list = []\n",
    "\n",
    "jobs = soup.find_all(\"div\", class_=\"card-content\")\n",
    "\n",
    "for job in jobs:\n",
    "    title = job.find(\"h2\", class_=\"title\").text.strip()\n",
    "    company = job.find(\"h3\", class_=\"company\").text.strip()\n",
    "    location = job.find(\"p\", class_=\"location\").text.strip()\n",
    "\n",
    "    description_tag = job.find(\"div\", class_=\"description\")\n",
    "    description = description_tag.text.strip() if description_tag else \"No description available\"\n",
    "\n",
    "    apply_tag = job.find(\"a\", text=\"Apply\")\n",
    "    apply_link = apply_tag[\"href\"] if apply_tag else \"No link available\"\n",
    "\n",
    "    job_list.append((title, company, location, description, apply_link))\n",
    "\n",
    "for job in job_list:\n",
    "    cursor.execute(\"\"\"\n",
    "    INSERT OR IGNORE INTO jobs (title, company, location, description, apply_link)\n",
    "    VALUES (?, ?, ?, ?, ?)\n",
    "    \"\"\", job)\n",
    "\n",
    "conn.commit()\n",
    "conn.close()\n",
    "\n",
    "print(\"Yangi ish e'lonlari yuklandi va bazaga saqlandi!\")\n"
   ]
  },
  {
   "cell_type": "code",
   "execution_count": 6,
   "metadata": {},
   "outputs": [
    {
     "name": "stdout",
     "output_type": "stream",
     "text": [
      "Ma'lumotlar jobs.csv fayliga eksport qilindi!\n"
     ]
    }
   ],
   "source": [
    "def export_to_csv(filename=\"jobs.csv\"):\n",
    "    conn = sqlite3.connect(\"jobs.db\")\n",
    "    df = pd.read_sql_query(\"SELECT * FROM jobs\", conn)\n",
    "    df.to_csv(filename, index=False, encoding=\"utf-8\")\n",
    "    conn.close()\n",
    "    print(f\"Ma'lumotlar {filename} fayliga eksport qilindi!\")\n",
    "\n",
    "export_to_csv()"
   ]
  },
  {
   "cell_type": "code",
   "execution_count": 7,
   "metadata": {},
   "outputs": [],
   "source": [
    "def filter_jobs(location=None, company=None):\n",
    "    conn = sqlite3.connect(\"jobs.db\")\n",
    "    cursor = conn.cursor()\n",
    "\n",
    "    query = \"SELECT * FROM jobs WHERE 1=1\"\n",
    "    params = []\n",
    "\n",
    "    if location:\n",
    "        query += \" AND location LIKE ?\"\n",
    "        params.append(f\"%{location}%\")\n",
    "\n",
    "    if company:\n",
    "        query += \" AND company LIKE ?\"\n",
    "        params.append(f\"%{company}%\")\n",
    "\n",
    "    cursor.execute(query, params)\n",
    "    results = cursor.fetchall()\n",
    "    conn.close()\n",
    "\n",
    "    for job in results:\n",
    "        print(job)\n",
    "\n",
    "filter_jobs(location=\"New York\") \n",
    "filter_jobs(company=\"ABC Inc.\")  \n"
   ]
  },
  {
   "cell_type": "code",
   "execution_count": null,
   "metadata": {},
   "outputs": [],
   "source": []
  }
 ],
 "metadata": {
  "kernelspec": {
   "display_name": "Python 3",
   "language": "python",
   "name": "python3"
  },
  "language_info": {
   "codemirror_mode": {
    "name": "ipython",
    "version": 3
   },
   "file_extension": ".py",
   "mimetype": "text/x-python",
   "name": "python",
   "nbconvert_exporter": "python",
   "pygments_lexer": "ipython3",
   "version": "3.12.8"
  }
 },
 "nbformat": 4,
 "nbformat_minor": 2
}
