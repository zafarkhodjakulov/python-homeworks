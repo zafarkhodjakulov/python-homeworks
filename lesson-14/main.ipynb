{
 "cells": [
  {
   "cell_type": "code",
   "execution_count": 1,
   "metadata": {},
   "outputs": [
    {
     "name": "stdout",
     "output_type": "stream",
     "text": [
      "Defaulting to user installation because normal site-packages is not writeable\n",
      "Collecting beautifulsoup4\n",
      "  Downloading beautifulsoup4-4.12.3-py3-none-any.whl.metadata (3.8 kB)\n",
      "Collecting soupsieve>1.2 (from beautifulsoup4)\n",
      "  Downloading soupsieve-2.6-py3-none-any.whl.metadata (4.6 kB)\n",
      "Downloading beautifulsoup4-4.12.3-py3-none-any.whl (147 kB)\n",
      "Downloading soupsieve-2.6-py3-none-any.whl (36 kB)\n",
      "Installing collected packages: soupsieve, beautifulsoup4\n",
      "Successfully installed beautifulsoup4-4.12.3 soupsieve-2.6\n"
     ]
    },
    {
     "name": "stderr",
     "output_type": "stream",
     "text": [
      "\n",
      "[notice] A new release of pip is available: 24.3.1 -> 25.0\n",
      "[notice] To update, run: C:\\Users\\Hp\\AppData\\Local\\Microsoft\\WindowsApps\\PythonSoftwareFoundation.Python.3.12_qbz5n2kfra8p0\\python.exe -m pip install --upgrade pip\n"
     ]
    }
   ],
   "source": [
    "!pip install beautifulsoup4"
   ]
  },
  {
   "cell_type": "code",
   "execution_count": 2,
   "metadata": {},
   "outputs": [
    {
     "name": "stdout",
     "output_type": "stream",
     "text": [
      "Defaulting to user installation because normal site-packages is not writeable"
     ]
    },
    {
     "name": "stderr",
     "output_type": "stream",
     "text": [
      "\n",
      "[notice] A new release of pip is available: 24.3.1 -> 25.0\n",
      "[notice] To update, run: C:\\Users\\Hp\\AppData\\Local\\Microsoft\\WindowsApps\\PythonSoftwareFoundation.Python.3.12_qbz5n2kfra8p0\\python.exe -m pip install --upgrade pip\n"
     ]
    },
    {
     "name": "stdout",
     "output_type": "stream",
     "text": [
      "\n",
      "Collecting selenium\n",
      "  Downloading selenium-4.28.1-py3-none-any.whl.metadata (7.1 kB)\n",
      "Requirement already satisfied: urllib3<3,>=1.26 in c:\\users\\hp\\appdata\\local\\packages\\pythonsoftwarefoundation.python.3.12_qbz5n2kfra8p0\\localcache\\local-packages\\python312\\site-packages (from urllib3[socks]<3,>=1.26->selenium) (2.3.0)\n",
      "Collecting trio~=0.17 (from selenium)\n",
      "  Downloading trio-0.28.0-py3-none-any.whl.metadata (8.5 kB)\n",
      "Collecting trio-websocket~=0.9 (from selenium)\n",
      "  Downloading trio_websocket-0.11.1-py3-none-any.whl.metadata (4.7 kB)\n",
      "Requirement already satisfied: certifi>=2021.10.8 in c:\\users\\hp\\appdata\\local\\packages\\pythonsoftwarefoundation.python.3.12_qbz5n2kfra8p0\\localcache\\local-packages\\python312\\site-packages (from selenium) (2025.1.31)\n",
      "Requirement already satisfied: typing_extensions~=4.9 in c:\\users\\hp\\appdata\\local\\packages\\pythonsoftwarefoundation.python.3.12_qbz5n2kfra8p0\\localcache\\local-packages\\python312\\site-packages (from selenium) (4.12.2)\n",
      "Collecting websocket-client~=1.8 (from selenium)\n",
      "  Downloading websocket_client-1.8.0-py3-none-any.whl.metadata (8.0 kB)\n",
      "Requirement already satisfied: attrs>=23.2.0 in c:\\users\\hp\\appdata\\local\\packages\\pythonsoftwarefoundation.python.3.12_qbz5n2kfra8p0\\localcache\\local-packages\\python312\\site-packages (from trio~=0.17->selenium) (25.1.0)\n",
      "Collecting sortedcontainers (from trio~=0.17->selenium)\n",
      "  Downloading sortedcontainers-2.4.0-py2.py3-none-any.whl.metadata (10 kB)\n",
      "Requirement already satisfied: idna in c:\\users\\hp\\appdata\\local\\packages\\pythonsoftwarefoundation.python.3.12_qbz5n2kfra8p0\\localcache\\local-packages\\python312\\site-packages (from trio~=0.17->selenium) (3.10)\n",
      "Collecting outcome (from trio~=0.17->selenium)\n",
      "  Downloading outcome-1.3.0.post0-py2.py3-none-any.whl.metadata (2.6 kB)\n",
      "Requirement already satisfied: sniffio>=1.3.0 in c:\\users\\hp\\appdata\\local\\packages\\pythonsoftwarefoundation.python.3.12_qbz5n2kfra8p0\\localcache\\local-packages\\python312\\site-packages (from trio~=0.17->selenium) (1.3.1)\n",
      "Requirement already satisfied: cffi>=1.14 in c:\\users\\hp\\appdata\\local\\packages\\pythonsoftwarefoundation.python.3.12_qbz5n2kfra8p0\\localcache\\local-packages\\python312\\site-packages (from trio~=0.17->selenium) (1.17.1)\n",
      "Collecting wsproto>=0.14 (from trio-websocket~=0.9->selenium)\n",
      "  Downloading wsproto-1.2.0-py3-none-any.whl.metadata (5.6 kB)\n",
      "Collecting pysocks!=1.5.7,<2.0,>=1.5.6 (from urllib3[socks]<3,>=1.26->selenium)\n",
      "  Downloading PySocks-1.7.1-py3-none-any.whl.metadata (13 kB)\n",
      "Requirement already satisfied: pycparser in c:\\users\\hp\\appdata\\local\\packages\\pythonsoftwarefoundation.python.3.12_qbz5n2kfra8p0\\localcache\\local-packages\\python312\\site-packages (from cffi>=1.14->trio~=0.17->selenium) (2.22)\n",
      "Requirement already satisfied: h11<1,>=0.9.0 in c:\\users\\hp\\appdata\\local\\packages\\pythonsoftwarefoundation.python.3.12_qbz5n2kfra8p0\\localcache\\local-packages\\python312\\site-packages (from wsproto>=0.14->trio-websocket~=0.9->selenium) (0.14.0)\n",
      "Downloading selenium-4.28.1-py3-none-any.whl (9.5 MB)\n",
      "   ---------------------------------------- 0.0/9.5 MB ? eta -:--:--\n",
      "   ---------------------------------------- 0.0/9.5 MB ? eta -:--:--\n",
      "   ---------------------------------------- 0.0/9.5 MB ? eta -:--:--\n",
      "   - -------------------------------------- 0.3/9.5 MB ? eta -:--:--\n",
      "   -- ------------------------------------- 0.5/9.5 MB 985.5 kB/s eta 0:00:10\n",
      "   -- ------------------------------------- 0.5/9.5 MB 985.5 kB/s eta 0:00:10\n",
      "   --- ------------------------------------ 0.8/9.5 MB 958.5 kB/s eta 0:00:10\n",
      "   ---- ----------------------------------- 1.0/9.5 MB 1.0 MB/s eta 0:00:09\n",
      "   ----- ---------------------------------- 1.3/9.5 MB 1.0 MB/s eta 0:00:08\n",
      "   ------ --------------------------------- 1.6/9.5 MB 1.1 MB/s eta 0:00:08\n",
      "   ------- -------------------------------- 1.8/9.5 MB 1.1 MB/s eta 0:00:08\n",
      "   -------- ------------------------------- 2.1/9.5 MB 1.1 MB/s eta 0:00:07\n",
      "   --------- ------------------------------ 2.4/9.5 MB 1.1 MB/s eta 0:00:07\n",
      "   --------- ------------------------------ 2.4/9.5 MB 1.1 MB/s eta 0:00:07\n",
      "   --------- ------------------------------ 2.4/9.5 MB 1.1 MB/s eta 0:00:07\n",
      "   ----------- ---------------------------- 2.6/9.5 MB 955.6 kB/s eta 0:00:08\n",
      "   ----------- ---------------------------- 2.6/9.5 MB 955.6 kB/s eta 0:00:08\n",
      "   ------------ --------------------------- 2.9/9.5 MB 878.5 kB/s eta 0:00:08\n",
      "   ------------ --------------------------- 2.9/9.5 MB 878.5 kB/s eta 0:00:08\n",
      "   ------------ --------------------------- 2.9/9.5 MB 878.5 kB/s eta 0:00:08\n",
      "   ------------ --------------------------- 2.9/9.5 MB 878.5 kB/s eta 0:00:08\n",
      "   ------------- -------------------------- 3.1/9.5 MB 762.7 kB/s eta 0:00:09\n",
      "   ------------- -------------------------- 3.1/9.5 MB 762.7 kB/s eta 0:00:09\n",
      "   -------------- ------------------------- 3.4/9.5 MB 771.4 kB/s eta 0:00:08\n",
      "   --------------- ------------------------ 3.7/9.5 MB 770.7 kB/s eta 0:00:08\n",
      "   --------------- ------------------------ 3.7/9.5 MB 770.7 kB/s eta 0:00:08\n",
      "   ---------------- ----------------------- 3.9/9.5 MB 772.6 kB/s eta 0:00:08\n",
      "   ----------------- ---------------------- 4.2/9.5 MB 796.3 kB/s eta 0:00:07\n",
      "   ------------------- -------------------- 4.7/9.5 MB 841.3 kB/s eta 0:00:06\n",
      "   ------------------- -------------------- 4.7/9.5 MB 841.3 kB/s eta 0:00:06\n",
      "   ---------------------- ----------------- 5.2/9.5 MB 875.7 kB/s eta 0:00:05\n",
      "   ---------------------- ----------------- 5.2/9.5 MB 875.7 kB/s eta 0:00:05\n",
      "   ---------------------- ----------------- 5.2/9.5 MB 875.7 kB/s eta 0:00:05\n",
      "   ---------------------- ----------------- 5.2/9.5 MB 875.7 kB/s eta 0:00:05\n",
      "   ---------------------- ----------------- 5.2/9.5 MB 875.7 kB/s eta 0:00:05\n",
      "   ----------------------- ---------------- 5.5/9.5 MB 789.5 kB/s eta 0:00:06\n",
      "   ------------------------ --------------- 5.8/9.5 MB 809.9 kB/s eta 0:00:05\n",
      "   ------------------------- -------------- 6.0/9.5 MB 804.1 kB/s eta 0:00:05\n",
      "   ------------------------- -------------- 6.0/9.5 MB 804.1 kB/s eta 0:00:05\n",
      "   --------------------------- ------------ 6.6/9.5 MB 830.2 kB/s eta 0:00:04\n",
      "   ---------------------------- ----------- 6.8/9.5 MB 847.4 kB/s eta 0:00:04\n",
      "   ----------------------------- ---------- 7.1/9.5 MB 862.1 kB/s eta 0:00:03\n",
      "   ------------------------------ --------- 7.3/9.5 MB 877.8 kB/s eta 0:00:03\n",
      "   ------------------------------- -------- 7.6/9.5 MB 881.4 kB/s eta 0:00:03\n",
      "   ---------------------------------- ----- 8.1/9.5 MB 910.1 kB/s eta 0:00:02\n",
      "   ----------------------------------- ---- 8.4/9.5 MB 923.8 kB/s eta 0:00:02\n",
      "   ------------------------------------ --- 8.7/9.5 MB 935.3 kB/s eta 0:00:01\n",
      "   -------------------------------------- - 9.2/9.5 MB 961.9 kB/s eta 0:00:01\n",
      "   ---------------------------------------- 9.5/9.5 MB 978.8 kB/s eta 0:00:00\n",
      "Downloading trio-0.28.0-py3-none-any.whl (486 kB)\n",
      "Downloading trio_websocket-0.11.1-py3-none-any.whl (17 kB)\n",
      "Downloading websocket_client-1.8.0-py3-none-any.whl (58 kB)\n",
      "Downloading PySocks-1.7.1-py3-none-any.whl (16 kB)\n",
      "Downloading wsproto-1.2.0-py3-none-any.whl (24 kB)\n",
      "Downloading outcome-1.3.0.post0-py2.py3-none-any.whl (10 kB)\n",
      "Downloading sortedcontainers-2.4.0-py2.py3-none-any.whl (29 kB)\n",
      "Installing collected packages: sortedcontainers, wsproto, websocket-client, pysocks, outcome, trio, trio-websocket, selenium\n",
      "Successfully installed outcome-1.3.0.post0 pysocks-1.7.1 selenium-4.28.1 sortedcontainers-2.4.0 trio-0.28.0 trio-websocket-0.11.1 websocket-client-1.8.0 wsproto-1.2.0\n"
     ]
    }
   ],
   "source": [
    "!pip install selenium"
   ]
  },
  {
   "cell_type": "code",
   "execution_count": null,
   "metadata": {},
   "outputs": [],
   "source": []
  }
 ],
 "metadata": {
  "kernelspec": {
   "display_name": "Python 3",
   "language": "python",
   "name": "python3"
  },
  "language_info": {
   "codemirror_mode": {
    "name": "ipython",
    "version": 3
   },
   "file_extension": ".py",
   "mimetype": "text/x-python",
   "name": "python",
   "nbconvert_exporter": "python",
   "pygments_lexer": "ipython3",
   "version": "3.12.8"
  }
 },
 "nbformat": 4,
 "nbformat_minor": 2
}
