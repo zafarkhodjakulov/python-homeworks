{
 "cells": [
  {
   "cell_type": "code",
   "execution_count": 1,
   "metadata": {},
   "outputs": [
    {
     "name": "stdout",
     "output_type": "stream",
     "text": [
      "Defaulting to user installation because normal site-packages is not writeable\n",
      "Collecting beautifulsoup4\n",
      "  Downloading beautifulsoup4-4.12.3-py3-none-any.whl.metadata (3.8 kB)\n",
      "Collecting soupsieve>1.2 (from beautifulsoup4)\n",
      "  Downloading soupsieve-2.6-py3-none-any.whl.metadata (4.6 kB)\n",
      "Downloading beautifulsoup4-4.12.3-py3-none-any.whl (147 kB)\n",
      "Downloading soupsieve-2.6-py3-none-any.whl (36 kB)\n",
      "Installing collected packages: soupsieve, beautifulsoup4\n",
      "Successfully installed beautifulsoup4-4.12.3 soupsieve-2.6\n"
     ]
    },
    {
     "name": "stderr",
     "output_type": "stream",
     "text": [
      "\n",
      "[notice] A new release of pip is available: 24.3.1 -> 25.0\n",
      "[notice] To update, run: C:\\Users\\Hp\\AppData\\Local\\Microsoft\\WindowsApps\\PythonSoftwareFoundation.Python.3.12_qbz5n2kfra8p0\\python.exe -m pip install --upgrade pip\n"
     ]
    }
   ],
   "source": [
    "!pip install beautifulsoup4"
   ]
  },
  {
   "cell_type": "code",
   "execution_count": 2,
   "metadata": {},
   "outputs": [
    {
     "name": "stdout",
     "output_type": "stream",
     "text": [
      "Defaulting to user installation because normal site-packages is not writeable"
     ]
    },
    {
     "name": "stderr",
     "output_type": "stream",
     "text": [
      "\n",
      "[notice] A new release of pip is available: 24.3.1 -> 25.0\n",
      "[notice] To update, run: C:\\Users\\Hp\\AppData\\Local\\Microsoft\\WindowsApps\\PythonSoftwareFoundation.Python.3.12_qbz5n2kfra8p0\\python.exe -m pip install --upgrade pip\n"
     ]
    },
    {
     "name": "stdout",
     "output_type": "stream",
     "text": [
      "\n",
      "Collecting selenium\n",
      "  Downloading selenium-4.28.1-py3-none-any.whl.metadata (7.1 kB)\n",
      "Requirement already satisfied: urllib3<3,>=1.26 in c:\\users\\hp\\appdata\\local\\packages\\pythonsoftwarefoundation.python.3.12_qbz5n2kfra8p0\\localcache\\local-packages\\python312\\site-packages (from urllib3[socks]<3,>=1.26->selenium) (2.3.0)\n",
      "Collecting trio~=0.17 (from selenium)\n",
      "  Downloading trio-0.28.0-py3-none-any.whl.metadata (8.5 kB)\n",
      "Collecting trio-websocket~=0.9 (from selenium)\n",
      "  Downloading trio_websocket-0.11.1-py3-none-any.whl.metadata (4.7 kB)\n",
      "Requirement already satisfied: certifi>=2021.10.8 in c:\\users\\hp\\appdata\\local\\packages\\pythonsoftwarefoundation.python.3.12_qbz5n2kfra8p0\\localcache\\local-packages\\python312\\site-packages (from selenium) (2025.1.31)\n",
      "Requirement already satisfied: typing_extensions~=4.9 in c:\\users\\hp\\appdata\\local\\packages\\pythonsoftwarefoundation.python.3.12_qbz5n2kfra8p0\\localcache\\local-packages\\python312\\site-packages (from selenium) (4.12.2)\n",
      "Collecting websocket-client~=1.8 (from selenium)\n",
      "  Downloading websocket_client-1.8.0-py3-none-any.whl.metadata (8.0 kB)\n",
      "Requirement already satisfied: attrs>=23.2.0 in c:\\users\\hp\\appdata\\local\\packages\\pythonsoftwarefoundation.python.3.12_qbz5n2kfra8p0\\localcache\\local-packages\\python312\\site-packages (from trio~=0.17->selenium) (25.1.0)\n",
      "Collecting sortedcontainers (from trio~=0.17->selenium)\n",
      "  Downloading sortedcontainers-2.4.0-py2.py3-none-any.whl.metadata (10 kB)\n",
      "Requirement already satisfied: idna in c:\\users\\hp\\appdata\\local\\packages\\pythonsoftwarefoundation.python.3.12_qbz5n2kfra8p0\\localcache\\local-packages\\python312\\site-packages (from trio~=0.17->selenium) (3.10)\n",
      "Collecting outcome (from trio~=0.17->selenium)\n",
      "  Downloading outcome-1.3.0.post0-py2.py3-none-any.whl.metadata (2.6 kB)\n",
      "Requirement already satisfied: sniffio>=1.3.0 in c:\\users\\hp\\appdata\\local\\packages\\pythonsoftwarefoundation.python.3.12_qbz5n2kfra8p0\\localcache\\local-packages\\python312\\site-packages (from trio~=0.17->selenium) (1.3.1)\n",
      "Requirement already satisfied: cffi>=1.14 in c:\\users\\hp\\appdata\\local\\packages\\pythonsoftwarefoundation.python.3.12_qbz5n2kfra8p0\\localcache\\local-packages\\python312\\site-packages (from trio~=0.17->selenium) (1.17.1)\n",
      "Collecting wsproto>=0.14 (from trio-websocket~=0.9->selenium)\n",
      "  Downloading wsproto-1.2.0-py3-none-any.whl.metadata (5.6 kB)\n",
      "Collecting pysocks!=1.5.7,<2.0,>=1.5.6 (from urllib3[socks]<3,>=1.26->selenium)\n",
      "  Downloading PySocks-1.7.1-py3-none-any.whl.metadata (13 kB)\n",
      "Requirement already satisfied: pycparser in c:\\users\\hp\\appdata\\local\\packages\\pythonsoftwarefoundation.python.3.12_qbz5n2kfra8p0\\localcache\\local-packages\\python312\\site-packages (from cffi>=1.14->trio~=0.17->selenium) (2.22)\n",
      "Requirement already satisfied: h11<1,>=0.9.0 in c:\\users\\hp\\appdata\\local\\packages\\pythonsoftwarefoundation.python.3.12_qbz5n2kfra8p0\\localcache\\local-packages\\python312\\site-packages (from wsproto>=0.14->trio-websocket~=0.9->selenium) (0.14.0)\n",
      "Downloading selenium-4.28.1-py3-none-any.whl (9.5 MB)\n",
      "   ---------------------------------------- 0.0/9.5 MB ? eta -:--:--\n",
      "   ---------------------------------------- 0.0/9.5 MB ? eta -:--:--\n",
      "   ---------------------------------------- 0.0/9.5 MB ? eta -:--:--\n",
      "   - -------------------------------------- 0.3/9.5 MB ? eta -:--:--\n",
      "   -- ------------------------------------- 0.5/9.5 MB 985.5 kB/s eta 0:00:10\n",
      "   -- ------------------------------------- 0.5/9.5 MB 985.5 kB/s eta 0:00:10\n",
      "   --- ------------------------------------ 0.8/9.5 MB 958.5 kB/s eta 0:00:10\n",
      "   ---- ----------------------------------- 1.0/9.5 MB 1.0 MB/s eta 0:00:09\n",
      "   ----- ---------------------------------- 1.3/9.5 MB 1.0 MB/s eta 0:00:08\n",
      "   ------ --------------------------------- 1.6/9.5 MB 1.1 MB/s eta 0:00:08\n",
      "   ------- -------------------------------- 1.8/9.5 MB 1.1 MB/s eta 0:00:08\n",
      "   -------- ------------------------------- 2.1/9.5 MB 1.1 MB/s eta 0:00:07\n",
      "   --------- ------------------------------ 2.4/9.5 MB 1.1 MB/s eta 0:00:07\n",
      "   --------- ------------------------------ 2.4/9.5 MB 1.1 MB/s eta 0:00:07\n",
      "   --------- ------------------------------ 2.4/9.5 MB 1.1 MB/s eta 0:00:07\n",
      "   ----------- ---------------------------- 2.6/9.5 MB 955.6 kB/s eta 0:00:08\n",
      "   ----------- ---------------------------- 2.6/9.5 MB 955.6 kB/s eta 0:00:08\n",
      "   ------------ --------------------------- 2.9/9.5 MB 878.5 kB/s eta 0:00:08\n",
      "   ------------ --------------------------- 2.9/9.5 MB 878.5 kB/s eta 0:00:08\n",
      "   ------------ --------------------------- 2.9/9.5 MB 878.5 kB/s eta 0:00:08\n",
      "   ------------ --------------------------- 2.9/9.5 MB 878.5 kB/s eta 0:00:08\n",
      "   ------------- -------------------------- 3.1/9.5 MB 762.7 kB/s eta 0:00:09\n",
      "   ------------- -------------------------- 3.1/9.5 MB 762.7 kB/s eta 0:00:09\n",
      "   -------------- ------------------------- 3.4/9.5 MB 771.4 kB/s eta 0:00:08\n",
      "   --------------- ------------------------ 3.7/9.5 MB 770.7 kB/s eta 0:00:08\n",
      "   --------------- ------------------------ 3.7/9.5 MB 770.7 kB/s eta 0:00:08\n",
      "   ---------------- ----------------------- 3.9/9.5 MB 772.6 kB/s eta 0:00:08\n",
      "   ----------------- ---------------------- 4.2/9.5 MB 796.3 kB/s eta 0:00:07\n",
      "   ------------------- -------------------- 4.7/9.5 MB 841.3 kB/s eta 0:00:06\n",
      "   ------------------- -------------------- 4.7/9.5 MB 841.3 kB/s eta 0:00:06\n",
      "   ---------------------- ----------------- 5.2/9.5 MB 875.7 kB/s eta 0:00:05\n",
      "   ---------------------- ----------------- 5.2/9.5 MB 875.7 kB/s eta 0:00:05\n",
      "   ---------------------- ----------------- 5.2/9.5 MB 875.7 kB/s eta 0:00:05\n",
      "   ---------------------- ----------------- 5.2/9.5 MB 875.7 kB/s eta 0:00:05\n",
      "   ---------------------- ----------------- 5.2/9.5 MB 875.7 kB/s eta 0:00:05\n",
      "   ----------------------- ---------------- 5.5/9.5 MB 789.5 kB/s eta 0:00:06\n",
      "   ------------------------ --------------- 5.8/9.5 MB 809.9 kB/s eta 0:00:05\n",
      "   ------------------------- -------------- 6.0/9.5 MB 804.1 kB/s eta 0:00:05\n",
      "   ------------------------- -------------- 6.0/9.5 MB 804.1 kB/s eta 0:00:05\n",
      "   --------------------------- ------------ 6.6/9.5 MB 830.2 kB/s eta 0:00:04\n",
      "   ---------------------------- ----------- 6.8/9.5 MB 847.4 kB/s eta 0:00:04\n",
      "   ----------------------------- ---------- 7.1/9.5 MB 862.1 kB/s eta 0:00:03\n",
      "   ------------------------------ --------- 7.3/9.5 MB 877.8 kB/s eta 0:00:03\n",
      "   ------------------------------- -------- 7.6/9.5 MB 881.4 kB/s eta 0:00:03\n",
      "   ---------------------------------- ----- 8.1/9.5 MB 910.1 kB/s eta 0:00:02\n",
      "   ----------------------------------- ---- 8.4/9.5 MB 923.8 kB/s eta 0:00:02\n",
      "   ------------------------------------ --- 8.7/9.5 MB 935.3 kB/s eta 0:00:01\n",
      "   -------------------------------------- - 9.2/9.5 MB 961.9 kB/s eta 0:00:01\n",
      "   ---------------------------------------- 9.5/9.5 MB 978.8 kB/s eta 0:00:00\n",
      "Downloading trio-0.28.0-py3-none-any.whl (486 kB)\n",
      "Downloading trio_websocket-0.11.1-py3-none-any.whl (17 kB)\n",
      "Downloading websocket_client-1.8.0-py3-none-any.whl (58 kB)\n",
      "Downloading PySocks-1.7.1-py3-none-any.whl (16 kB)\n",
      "Downloading wsproto-1.2.0-py3-none-any.whl (24 kB)\n",
      "Downloading outcome-1.3.0.post0-py2.py3-none-any.whl (10 kB)\n",
      "Downloading sortedcontainers-2.4.0-py2.py3-none-any.whl (29 kB)\n",
      "Installing collected packages: sortedcontainers, wsproto, websocket-client, pysocks, outcome, trio, trio-websocket, selenium\n",
      "Successfully installed outcome-1.3.0.post0 pysocks-1.7.1 selenium-4.28.1 sortedcontainers-2.4.0 trio-0.28.0 trio-websocket-0.11.1 websocket-client-1.8.0 wsproto-1.2.0\n"
     ]
    }
   ],
   "source": [
    "!pip install selenium"
   ]
  },
  {
   "cell_type": "code",
   "execution_count": 2,
   "metadata": {},
   "outputs": [
    {
     "ename": "NoSuchElementException",
     "evalue": "Message: no such element: Unable to locate element: {\"method\":\"css selector\",\"selector\":\"[id=\"login-btn\"]\"}\n  (Session info: chrome=132.0.6834.160); For documentation on this error, please visit: https://www.selenium.dev/documentation/webdriver/troubleshooting/errors#no-such-element-exception\nStacktrace:\n\tGetHandleVerifier [0x00007FF7E20B02F5+28725]\n\t(No symbol) [0x00007FF7E2012AE0]\n\t(No symbol) [0x00007FF7E1EA510A]\n\t(No symbol) [0x00007FF7E1EF93D2]\n\t(No symbol) [0x00007FF7E1EF95FC]\n\t(No symbol) [0x00007FF7E1F43407]\n\t(No symbol) [0x00007FF7E1F1FFEF]\n\t(No symbol) [0x00007FF7E1F40181]\n\t(No symbol) [0x00007FF7E1F1FD53]\n\t(No symbol) [0x00007FF7E1EEA0E3]\n\t(No symbol) [0x00007FF7E1EEB471]\n\tGetHandleVerifier [0x00007FF7E23DF30D+3366989]\n\tGetHandleVerifier [0x00007FF7E23F12F0+3440688]\n\tGetHandleVerifier [0x00007FF7E23E78FD+3401277]\n\tGetHandleVerifier [0x00007FF7E217AAAB+858091]\n\t(No symbol) [0x00007FF7E201E74F]\n\t(No symbol) [0x00007FF7E201A304]\n\t(No symbol) [0x00007FF7E201A49D]\n\t(No symbol) [0x00007FF7E2008B69]\n\tBaseThreadInitThunk [0x00007FFAE33F259D+29]\n\tRtlUserThreadStart [0x00007FFAE3E4AF38+40]\n",
     "output_type": "error",
     "traceback": [
      "\u001b[1;31m---------------------------------------------------------------------------\u001b[0m",
      "\u001b[1;31mNoSuchElementException\u001b[0m                    Traceback (most recent call last)",
      "Cell \u001b[1;32mIn[2], line 37\u001b[0m\n\u001b[0;32m     34\u001b[0m password_input\u001b[38;5;241m.\u001b[39msend_keys(password \u001b[38;5;241m+\u001b[39m Keys\u001b[38;5;241m.\u001b[39mENTER)\n\u001b[0;32m     35\u001b[0m time\u001b[38;5;241m.\u001b[39msleep(\u001b[38;5;241m3\u001b[39m)\n\u001b[1;32m---> 37\u001b[0m \u001b[43mdriver\u001b[49m\u001b[38;5;241;43m.\u001b[39;49m\u001b[43mfind_element\u001b[49m\u001b[43m(\u001b[49m\u001b[43mBy\u001b[49m\u001b[38;5;241;43m.\u001b[39;49m\u001b[43mID\u001b[49m\u001b[43m,\u001b[49m\u001b[43m \u001b[49m\u001b[38;5;124;43m'\u001b[39;49m\u001b[38;5;124;43mlogin-btn\u001b[39;49m\u001b[38;5;124;43m'\u001b[39;49m\u001b[43m)\u001b[49m\u001b[38;5;241m.\u001b[39mclick()\n\u001b[0;32m     38\u001b[0m time\u001b[38;5;241m.\u001b[39msleep(\u001b[38;5;241m4\u001b[39m)\n\u001b[0;32m     39\u001b[0m \u001b[38;5;28;01mtry\u001b[39;00m:\n",
      "File \u001b[1;32m~\\AppData\\Local\\Packages\\PythonSoftwareFoundation.Python.3.12_qbz5n2kfra8p0\\LocalCache\\local-packages\\Python312\\site-packages\\selenium\\webdriver\\remote\\webdriver.py:888\u001b[0m, in \u001b[0;36mWebDriver.find_element\u001b[1;34m(self, by, value)\u001b[0m\n\u001b[0;32m    885\u001b[0m         \u001b[38;5;28;01mraise\u001b[39;00m NoSuchElementException(\u001b[38;5;124mf\u001b[39m\u001b[38;5;124m\"\u001b[39m\u001b[38;5;124mCannot locate relative element with: \u001b[39m\u001b[38;5;132;01m{\u001b[39;00mby\u001b[38;5;241m.\u001b[39mroot\u001b[38;5;132;01m}\u001b[39;00m\u001b[38;5;124m\"\u001b[39m)\n\u001b[0;32m    886\u001b[0m     \u001b[38;5;28;01mreturn\u001b[39;00m elements[\u001b[38;5;241m0\u001b[39m]\n\u001b[1;32m--> 888\u001b[0m \u001b[38;5;28;01mreturn\u001b[39;00m \u001b[38;5;28;43mself\u001b[39;49m\u001b[38;5;241;43m.\u001b[39;49m\u001b[43mexecute\u001b[49m\u001b[43m(\u001b[49m\u001b[43mCommand\u001b[49m\u001b[38;5;241;43m.\u001b[39;49m\u001b[43mFIND_ELEMENT\u001b[49m\u001b[43m,\u001b[49m\u001b[43m \u001b[49m\u001b[43m{\u001b[49m\u001b[38;5;124;43m\"\u001b[39;49m\u001b[38;5;124;43musing\u001b[39;49m\u001b[38;5;124;43m\"\u001b[39;49m\u001b[43m:\u001b[49m\u001b[43m \u001b[49m\u001b[43mby\u001b[49m\u001b[43m,\u001b[49m\u001b[43m \u001b[49m\u001b[38;5;124;43m\"\u001b[39;49m\u001b[38;5;124;43mvalue\u001b[39;49m\u001b[38;5;124;43m\"\u001b[39;49m\u001b[43m:\u001b[49m\u001b[43m \u001b[49m\u001b[43mvalue\u001b[49m\u001b[43m}\u001b[49m\u001b[43m)\u001b[49m[\u001b[38;5;124m\"\u001b[39m\u001b[38;5;124mvalue\u001b[39m\u001b[38;5;124m\"\u001b[39m]\n",
      "File \u001b[1;32m~\\AppData\\Local\\Packages\\PythonSoftwareFoundation.Python.3.12_qbz5n2kfra8p0\\LocalCache\\local-packages\\Python312\\site-packages\\selenium\\webdriver\\remote\\webdriver.py:429\u001b[0m, in \u001b[0;36mWebDriver.execute\u001b[1;34m(self, driver_command, params)\u001b[0m\n\u001b[0;32m    427\u001b[0m response \u001b[38;5;241m=\u001b[39m \u001b[38;5;28mself\u001b[39m\u001b[38;5;241m.\u001b[39mcommand_executor\u001b[38;5;241m.\u001b[39mexecute(driver_command, params)\n\u001b[0;32m    428\u001b[0m \u001b[38;5;28;01mif\u001b[39;00m response:\n\u001b[1;32m--> 429\u001b[0m     \u001b[38;5;28;43mself\u001b[39;49m\u001b[38;5;241;43m.\u001b[39;49m\u001b[43merror_handler\u001b[49m\u001b[38;5;241;43m.\u001b[39;49m\u001b[43mcheck_response\u001b[49m\u001b[43m(\u001b[49m\u001b[43mresponse\u001b[49m\u001b[43m)\u001b[49m\n\u001b[0;32m    430\u001b[0m     response[\u001b[38;5;124m\"\u001b[39m\u001b[38;5;124mvalue\u001b[39m\u001b[38;5;124m\"\u001b[39m] \u001b[38;5;241m=\u001b[39m \u001b[38;5;28mself\u001b[39m\u001b[38;5;241m.\u001b[39m_unwrap_value(response\u001b[38;5;241m.\u001b[39mget(\u001b[38;5;124m\"\u001b[39m\u001b[38;5;124mvalue\u001b[39m\u001b[38;5;124m\"\u001b[39m, \u001b[38;5;28;01mNone\u001b[39;00m))\n\u001b[0;32m    431\u001b[0m     \u001b[38;5;28;01mreturn\u001b[39;00m response\n",
      "File \u001b[1;32m~\\AppData\\Local\\Packages\\PythonSoftwareFoundation.Python.3.12_qbz5n2kfra8p0\\LocalCache\\local-packages\\Python312\\site-packages\\selenium\\webdriver\\remote\\errorhandler.py:232\u001b[0m, in \u001b[0;36mErrorHandler.check_response\u001b[1;34m(self, response)\u001b[0m\n\u001b[0;32m    230\u001b[0m         alert_text \u001b[38;5;241m=\u001b[39m value[\u001b[38;5;124m\"\u001b[39m\u001b[38;5;124malert\u001b[39m\u001b[38;5;124m\"\u001b[39m]\u001b[38;5;241m.\u001b[39mget(\u001b[38;5;124m\"\u001b[39m\u001b[38;5;124mtext\u001b[39m\u001b[38;5;124m\"\u001b[39m)\n\u001b[0;32m    231\u001b[0m     \u001b[38;5;28;01mraise\u001b[39;00m exception_class(message, screen, stacktrace, alert_text)  \u001b[38;5;66;03m# type: ignore[call-arg]  # mypy is not smart enough here\u001b[39;00m\n\u001b[1;32m--> 232\u001b[0m \u001b[38;5;28;01mraise\u001b[39;00m exception_class(message, screen, stacktrace)\n",
      "\u001b[1;31mNoSuchElementException\u001b[0m: Message: no such element: Unable to locate element: {\"method\":\"css selector\",\"selector\":\"[id=\"login-btn\"]\"}\n  (Session info: chrome=132.0.6834.160); For documentation on this error, please visit: https://www.selenium.dev/documentation/webdriver/troubleshooting/errors#no-such-element-exception\nStacktrace:\n\tGetHandleVerifier [0x00007FF7E20B02F5+28725]\n\t(No symbol) [0x00007FF7E2012AE0]\n\t(No symbol) [0x00007FF7E1EA510A]\n\t(No symbol) [0x00007FF7E1EF93D2]\n\t(No symbol) [0x00007FF7E1EF95FC]\n\t(No symbol) [0x00007FF7E1F43407]\n\t(No symbol) [0x00007FF7E1F1FFEF]\n\t(No symbol) [0x00007FF7E1F40181]\n\t(No symbol) [0x00007FF7E1F1FD53]\n\t(No symbol) [0x00007FF7E1EEA0E3]\n\t(No symbol) [0x00007FF7E1EEB471]\n\tGetHandleVerifier [0x00007FF7E23DF30D+3366989]\n\tGetHandleVerifier [0x00007FF7E23F12F0+3440688]\n\tGetHandleVerifier [0x00007FF7E23E78FD+3401277]\n\tGetHandleVerifier [0x00007FF7E217AAAB+858091]\n\t(No symbol) [0x00007FF7E201E74F]\n\t(No symbol) [0x00007FF7E201A304]\n\t(No symbol) [0x00007FF7E201A49D]\n\t(No symbol) [0x00007FF7E2008B69]\n\tBaseThreadInitThunk [0x00007FFAE33F259D+29]\n\tRtlUserThreadStart [0x00007FFAE3E4AF38+40]\n"
     ]
    }
   ],
   "source": [
    "import time\n",
    "import json\n",
    "from selenium import webdriver\n",
    "from selenium.webdriver.common.keys import Keys\n",
    "from selenium.webdriver.common.by import By\n",
    "from selenium.webdriver.chrome.service import Service\n",
    "from selenium.webdriver.chrome.options import Options\n",
    "from webdriver_manager.chrome import ChromeDriverManager\n",
    "from selenium.common.exceptions import NoSuchElementException\n",
    "\n",
    "\n",
    "chrome_options = Options()\n",
    "chrome_options.add_argument(\"--disable-popup-blocking\")\n",
    "chrome_options.add_argument(\"--window-position=-2500,-200\")\n",
    "chrome_options.add_experimental_option(\"detach\", True)\n",
    "\n",
    "service = Service(ChromeDriverManager().install())\n",
    "driver = webdriver.Chrome(service=service, options=chrome_options)\n",
    "\n",
    "url = 'https://lms.tuit.uz/auth/login'\n",
    "driver = webdriver.Chrome()\n",
    "driver.get(url)\n",
    "login = '1BK18287'\n",
    "password = 'Zafar_2457'\n",
    "time.sleep(3)\n",
    "\n",
    "\n",
    "login_input = driver.find_element(By.ID, 'login')\n",
    "login_input.send_keys(login)\n",
    "time.sleep(3)\n",
    "\n",
    "\n",
    "password_input = driver.find_element(By.ID, 'password')\n",
    "password_input.send_keys(password + Keys.ENTER)\n",
    "time.sleep(3)\n",
    "\n",
    "driver.find_element(By.ID, 'login-btn').click()\n",
    "time.sleep(4)\n",
    "try:\n",
    "    driver.find_element(By.CLASS_NAME, 'close').click()\n",
    "    time.sleep(5)\n",
    "except NoSuchElementException as e:\n",
    "    a = driver.find_element(By.CLASS_NAME, 'modal-header')\n",
    "    btn = a.find_element(By.TAG_NAME, 'button').click()\n",
    "\n",
    "lst = driver.find_elements(By.TAG_NAME, 'span')\n",
    "for i in lst:\n",
    "    print(i)\n",
    "\n",
    "# items = driver.find_elements(By.CLASS_NAME, \"card-block\")\n",
    "# for i in items:\n",
    "#     name = i.find_element(By.TAG_NAME, 'h4').text.strip()\n",
    "#     price = i.find_element(By.TAG_NAME, 'h5').text\n",
    "#     description = i.find_element(By.TAG_NAME, 'p').text\n",
    "\n",
    "\n",
    "\n",
    "\n",
    "\n",
    "    \n",
    "\n",
    "\n",
    "driver.quit()\n",
    "\n"
   ]
  },
  {
   "cell_type": "code",
   "execution_count": null,
   "metadata": {},
   "outputs": [],
   "source": []
  }
 ],
 "metadata": {
  "kernelspec": {
   "display_name": "Python 3",
   "language": "python",
   "name": "python3"
  },
  "language_info": {
   "codemirror_mode": {
    "name": "ipython",
    "version": 3
   },
   "file_extension": ".py",
   "mimetype": "text/x-python",
   "name": "python",
   "nbconvert_exporter": "python",
   "pygments_lexer": "ipython3",
   "version": "3.12.8"
  }
 },
 "nbformat": 4,
 "nbformat_minor": 2
}
