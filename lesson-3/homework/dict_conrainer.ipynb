{
 "cells": [
  {
   "cell_type": "code",
   "execution_count": 3,
   "metadata": {},
   "outputs": [
    {
     "name": "stdout",
     "output_type": "stream",
     "text": [
      "None\n"
     ]
    }
   ],
   "source": [
    "# 1. Qiymatni olish: Agar lug'at va kalit berilgan bo'lsa, agar kalit mavjud bo'lmasa, nimani qaytarish kerakligini hisobga olib, \n",
    "# tegishli qiymatni oling.\n",
    "empty_dict = {}\n",
    "students_dict = {\n",
    "    'name': 'Ali',\n",
    "    'age' : 19,\n",
    "    'student': True,\n",
    "    'course': 3,\n",
    "    'get_married': False,\n",
    "    'lan': 'English and Russia'\n",
    "}\n",
    "if empty_dict:\n",
    "    print(students_dict['name'])\n",
    "else:\n",
    "    print(None)"
   ]
  },
  {
   "cell_type": "code",
   "execution_count": 5,
   "metadata": {},
   "outputs": [
    {
     "data": {
      "text/plain": [
       "True"
      ]
     },
     "execution_count": 5,
     "metadata": {},
     "output_type": "execute_result"
    }
   ],
   "source": [
    "# 2. Kalitni tekshirish: Lug'at va kalit berilgan bo'lsa, kalit lug'atda mavjudligini tekshiring.\n",
    "key_name = 'age'\n",
    "bool(key_name in students_dict)"
   ]
  },
  {
   "cell_type": "code",
   "execution_count": 6,
   "metadata": {},
   "outputs": [
    {
     "data": {
      "text/plain": [
       "6"
      ]
     },
     "execution_count": 6,
     "metadata": {},
     "output_type": "execute_result"
    }
   ],
   "source": [
    "# 3. Hisoblash tugmalari: Lug'atdagi kalitlar sonini aniqlang.\n",
    "len(students_dict)"
   ]
  },
  {
   "cell_type": "code",
   "execution_count": 21,
   "metadata": {},
   "outputs": [
    {
     "name": "stdout",
     "output_type": "stream",
     "text": [
      "name\n",
      "age\n",
      "student\n",
      "course\n",
      "get_married\n",
      "lan\n"
     ]
    }
   ],
   "source": [
    "# 4. Barcha kalitlarni oling: Lug'atdagi barcha kalitlarni o'z ichiga olgan ro'yxat yarating.\n",
    "# for key in students_dict:\n",
    "#     print(key)\n",
    "students_dict.keys()\n"
   ]
  },
  {
   "cell_type": "code",
   "execution_count": 20,
   "metadata": {},
   "outputs": [
    {
     "data": {
      "text/plain": [
       "dict_values(['Ali', 19, True, 3, False, 'English and Russia'])"
      ]
     },
     "execution_count": 20,
     "metadata": {},
     "output_type": "execute_result"
    }
   ],
   "source": [
    "# 5. Barcha qiymatlarni oling: Lug'atdagi barcha qiymatlarni o'z ichiga olgan ro'yxat yarating.\n",
    "# for key in students_dict:\n",
    "#     print(students_dict[key])\n",
    "students_dict.values()"
   ]
  },
  {
   "cell_type": "code",
   "execution_count": 6,
   "metadata": {},
   "outputs": [
    {
     "data": {
      "text/plain": [
       "{'name': 'Ali',\n",
       " 'age': 19,\n",
       " 'student': True,\n",
       " 'course': 3,\n",
       " 'get_married': False,\n",
       " 'lan': 'English and Russia',\n",
       " 'father': 'Hafiz',\n",
       " 'mother': 'Safiya',\n",
       " 'brothers': 2,\n",
       " 'sisters': 3,\n",
       " 'address': 'inTashkent'}"
      ]
     },
     "execution_count": 6,
     "metadata": {},
     "output_type": "execute_result"
    }
   ],
   "source": [
    "# 6. Lug'atlarni birlashtirish: Ikkita lug'at berilgan bo'lsa, ikkalasini birlashtirgan yangi lug'at yarating.\n",
    "information = {\n",
    "    'father': 'Hafiz',\n",
    "    'mother': 'Safiya',\n",
    "    'brothers': 2,\n",
    "    'sisters': 3,\n",
    "    'address': 'inTashkent'\n",
    "}\n",
    "\n",
    "full_data = students_dict | information\n",
    "full_data"
   ]
  },
  {
   "cell_type": "code",
   "execution_count": 25,
   "metadata": {},
   "outputs": [
    {
     "data": {
      "text/plain": [
       "{'name': 'Ali',\n",
       " 'student': True,\n",
       " 'course': 3,\n",
       " 'get_married': False,\n",
       " 'lan': 'English and Russia'}"
      ]
     },
     "execution_count": 25,
     "metadata": {},
     "output_type": "execute_result"
    }
   ],
   "source": [
    "# 7. Kalitni olib tashlash: Agar lug'at va kalit berilgan bo'lsa, agar mavjud bo'lsa, kalitni olib tashlang, agar mavjud bo'lmasa, ishni boshqaring.\n",
    "key_name\n",
    "if key_name in students_dict:\n",
    "    students_dict.pop(key_name)\n",
    "students_dict"
   ]
  },
  {
   "cell_type": "code",
   "execution_count": 28,
   "metadata": {},
   "outputs": [
    {
     "data": {
      "text/plain": [
       "{}"
      ]
     },
     "execution_count": 28,
     "metadata": {},
     "output_type": "execute_result"
    }
   ],
   "source": [
    "# 8. Yangi bo'sh dictionary yarating.\n",
    "new_dictionary = dict()\n",
    "full_data.clear()\n",
    "full_data"
   ]
  },
  {
   "cell_type": "code",
   "execution_count": 29,
   "metadata": {},
   "outputs": [
    {
     "name": "stdout",
     "output_type": "stream",
     "text": [
      "False\n",
      "True\n"
     ]
    }
   ],
   "source": [
    "# 9. Lug'at bo'sh yoki yo'qligini tekshiring: Lug'atda biron bir element mavjudligini aniqlang.\n",
    "print(bool(full_data))\n",
    "print(bool(information))"
   ]
  },
  {
   "cell_type": "code",
   "execution_count": 32,
   "metadata": {},
   "outputs": [
    {
     "name": "stdout",
     "output_type": "stream",
     "text": [
      "inTashkent\n"
     ]
    }
   ],
   "source": [
    "# 10. Kalit-qiymat juftligini oling: Agar lug'at va kalit berilgan bo'lsa, kalit mavjud bo'lsa, kalit-qiymat juftligini oling.\n",
    "address = 'address'\n",
    "if address in information:\n",
    "    print(information[address])\n"
   ]
  },
  {
   "cell_type": "code",
   "execution_count": 34,
   "metadata": {},
   "outputs": [
    {
     "data": {
      "text/plain": [
       "{'father': 'Hafiz',\n",
       " 'mother': 'Safiya',\n",
       " 'brothers': 2,\n",
       " 'sisters': 3,\n",
       " 'address': 'inTokio'}"
      ]
     },
     "execution_count": 34,
     "metadata": {},
     "output_type": "execute_result"
    }
   ],
   "source": [
    "# 11. Yangilash qiymati: Lug'at berilganda, belgilangan kalit uchun qiymatni yangilang.\n",
    "information.update({'inBorn' : 'Kashkadaryo'})\n",
    "information\n"
   ]
  },
  {
   "cell_type": "code",
   "execution_count": 7,
   "metadata": {},
   "outputs": [
    {
     "data": {
      "text/plain": [
       "1"
      ]
     },
     "execution_count": 7,
     "metadata": {},
     "output_type": "execute_result"
    }
   ],
   "source": [
    "# 12. Qiymatli hodisalarni hisoblash: Lug'at berilganda, ma'lum bir qiymat kalitlar bo'ylab necha marta paydo bo'lishini hisoblang.\n",
    "val = 'Safiya'\n",
    "a = list(information.values()).count(val)\n",
    "a"
   ]
  },
  {
   "cell_type": "code",
   "execution_count": 41,
   "metadata": {},
   "outputs": [
    {
     "data": {
      "text/plain": [
       "{'Hafiz': 'father',\n",
       " 'Safiya': 'mother',\n",
       " 2: 'brothers',\n",
       " 3: 'sisters',\n",
       " 'inTokio': 'address',\n",
       " 'Kashkadaryo': 'inBorn'}"
      ]
     },
     "execution_count": 41,
     "metadata": {},
     "output_type": "execute_result"
    }
   ],
   "source": [
    "# 13. Lug'atni o'zgartir: Lug'at berilgan bo'lsa, kalit va qiymatlarni almashtiradigan yangi lug'at yarating.\n",
    "personality = dict()\n",
    "inverted_dict = {value: key for key, value in information.items()}\n",
    "inverted_dict"
   ]
  },
  {
   "cell_type": "code",
   "execution_count": 22,
   "metadata": {},
   "outputs": [
    {
     "name": "stdout",
     "output_type": "stream",
     "text": [
      "Keys with value 1: []\n"
     ]
    }
   ],
   "source": [
    "# 14. Qiymatli kalitlarni toping: Lug'at va qiymatni hisobga olgan holda, ushbu qiymatga ega bo'lgan barcha kalitlar ro'yxatini yarating.\n",
    "def find_keys_with_value(dictionary, target_value):\n",
    "    return [key for key, value in dictionary.items() if value == target_value]\n",
    "\n",
    "result = find_keys_with_value(information, 1)\n",
    "print(\"Keys with value 1:\", result)\n"
   ]
  },
  {
   "cell_type": "code",
   "execution_count": 12,
   "metadata": {},
   "outputs": [
    {
     "data": {
      "text/plain": [
       "{'olma': 'lion',\n",
       " 'olcha': 'tiger',\n",
       " 'gilos': 'wolf',\n",
       " 'uzum': 'fox',\n",
       " 'shaftoli': 'bear'}"
      ]
     },
     "execution_count": 12,
     "metadata": {},
     "output_type": "execute_result"
    }
   ],
   "source": [
    "# 15. Roʻyxatlardan lugʻat yarating: ikkita roʻyxatni (bir kalit va bitta qiymat) hisobga olib, ularni juftlashtiruvchi lugʻat yarating.\n",
    "fruits = ['olma', 'olcha', 'gilos', 'uzum', 'shaftoli']\n",
    "animals = ['lion', 'tiger', 'wolf', 'fox', 'bear']\n",
    "\n",
    "zip_dict = dict(zip(fruits, animals))\n",
    "zip_dict\n"
   ]
  },
  {
   "cell_type": "code",
   "execution_count": 51,
   "metadata": {},
   "outputs": [
    {
     "data": {
      "text/plain": [
       "True"
      ]
     },
     "execution_count": 51,
     "metadata": {},
     "output_type": "execute_result"
    }
   ],
   "source": [
    "# 16. Ichki lug'atlarni tekshiring: Lug'at berilgan bo'lsa, qiymatlar ham lug'at ekanligini tekshiring.\n",
    "myfamily = {\n",
    "  \"child1\" : {\n",
    "    \"name\" : \"Emil\",\n",
    "    \"year\" : 2004\n",
    "  },\n",
    "  \"child2\" : {\n",
    "    \"name\" : \"Tobias\",\n",
    "    \"year\" : 2007\n",
    "  },\n",
    "  \"child3\" : {\n",
    "    \"name\" : \"Linus\",\n",
    "    \"year\" : 2011\n",
    "  }\n",
    "}\n",
    "\n",
    "any(isinstance(value, dict) for value in myfamily.values())"
   ]
  },
  {
   "cell_type": "code",
   "execution_count": 52,
   "metadata": {},
   "outputs": [
    {
     "data": {
      "text/plain": [
       "'Tobias'"
      ]
     },
     "execution_count": 52,
     "metadata": {},
     "output_type": "execute_result"
    }
   ],
   "source": [
    "# 17. Ichki qiymatni oling: Ichki lug'at berilgan bo'lsa, ichki lug'atlardan biridagi qiymatni oling.\n",
    "myfamily['child2']['name']"
   ]
  },
  {
   "cell_type": "code",
   "execution_count": 1,
   "metadata": {},
   "outputs": [
    {
     "name": "stdout",
     "output_type": "stream",
     "text": [
      "5\n",
      "0\n",
      "defaultdict(<function <lambda> at 0x000002248E0C9B20>, {'a': 5, 'b': 10, 'c': 0})\n"
     ]
    }
   ],
   "source": [
    "# 18. Standart lug'at yaratish: etishmayotgan kalitlar uchun standart qiymatni beruvchi lug'at yarating.\n",
    "from collections import defaultdict\n",
    "default_dict = defaultdict(lambda: 0)\n",
    "default_dict['a'] = 5\n",
    "default_dict['b'] = 10\n",
    "print(default_dict['a']) \n",
    "print(default_dict['c'])\n",
    "print(default_dict)  "
   ]
  },
  {
   "cell_type": "code",
   "execution_count": 4,
   "metadata": {},
   "outputs": [
    {
     "data": {
      "text/plain": [
       "6"
      ]
     },
     "execution_count": 4,
     "metadata": {},
     "output_type": "execute_result"
    }
   ],
   "source": [
    "# 19. Noyob qiymatlarni sanash: Lug'at berilgan bo'lsa, undagi noyob qiymatlar sonini aniqlang.\n",
    "unique_values = len(set(students_dict.values()))\n",
    "unique_values"
   ]
  },
  {
   "cell_type": "code",
   "execution_count": 25,
   "metadata": {},
   "outputs": [
    {
     "data": {
      "text/plain": [
       "{'gilos': 'wolf',\n",
       " 'olcha': 'tiger',\n",
       " 'olma': 'lion',\n",
       " 'shaftoli': 'bear',\n",
       " 'uzum': 'fox'}"
      ]
     },
     "execution_count": 25,
     "metadata": {},
     "output_type": "execute_result"
    }
   ],
   "source": [
    "# 20. Lug'atni kalit bo'yicha saralash: Kalitlar bo'yicha tartiblangan yangi lug'at yarating.\n",
    "sorted_dict = dict()\n",
    "sorted_dict = {key: value for key, value in sorted(zip_dict.items())}\n",
    "sorted_dict"
   ]
  },
  {
   "cell_type": "code",
   "execution_count": 27,
   "metadata": {},
   "outputs": [
    {
     "data": {
      "text/plain": [
       "{'shaftoli': 'bear',\n",
       " 'uzum': 'fox',\n",
       " 'olma': 'lion',\n",
       " 'olcha': 'tiger',\n",
       " 'gilos': 'wolf'}"
      ]
     },
     "execution_count": 27,
     "metadata": {},
     "output_type": "execute_result"
    }
   ],
   "source": [
    "# 21. Lug'atni qiymat bo'yicha saralash: qiymatlar bo'yicha saralangan yangi lug'at yarating.\n",
    "sorted_dict = {key: value for key, value in sorted(zip_dict.items(), key=lambda item: item[1])}\n",
    "sorted_dict"
   ]
  },
  {
   "cell_type": "code",
   "execution_count": 28,
   "metadata": {},
   "outputs": [
    {
     "data": {
      "text/plain": [
       "{'olma': 'lion', 'gilos': 'wolf', 'shaftoli': 'bear'}"
      ]
     },
     "execution_count": 28,
     "metadata": {},
     "output_type": "execute_result"
    }
   ],
   "source": [
    "# 22. Qiymat boʻyicha filtrlash: Lugʻat berilgan boʻlsa, faqat maʼlum shartlarga javob beradigan qiymatlarga ega elementlarni oʻz ichiga olgan yangi lugʻat yarating.\n",
    "filtered_dict = {key: value for key, value in zip_dict.items() if len(value) == 4}\n",
    "filtered_dict"
   ]
  },
  {
   "cell_type": "code",
   "execution_count": 33,
   "metadata": {},
   "outputs": [
    {
     "data": {
      "text/plain": [
       "{'b'}"
      ]
     },
     "execution_count": 33,
     "metadata": {},
     "output_type": "execute_result"
    }
   ],
   "source": [
    "# 23. Umumiy kalitlarni tekshiring: ikkita lug'at berilgan bo'lsa, ularning umumiy kalitlari bor-yo'qligini tekshiring.\n",
    "dict1 = {'a': 1, 'b': 2, 'c': 3}\n",
    "dict2 = {'b': 4, 'd': 5, 'e': 6}\n",
    "common_check = dict1.keys() & dict2.keys()\n",
    "common_check\n"
   ]
  },
  {
   "cell_type": "code",
   "execution_count": 34,
   "metadata": {},
   "outputs": [
    {
     "data": {
      "text/plain": [
       "{'a': 1, 'b': 2, 'c': 3}"
      ]
     },
     "execution_count": 34,
     "metadata": {},
     "output_type": "execute_result"
    }
   ],
   "source": [
    "# 24. Tuple'dan lug'at yaratish: kalit-qiymat juftliklari to'plamini hisobga olib, undan lug'at yarating.\n",
    "tuple_items = (('a', 1), ('b', 2), ('c', 3))\n",
    "tuple_dict = dict(tuple_items)\n",
    "tuple_dict"
   ]
  },
  {
   "cell_type": "code",
   "execution_count": 47,
   "metadata": {},
   "outputs": [
    {
     "data": {
      "text/plain": [
       "('a', 1)"
      ]
     },
     "execution_count": 47,
     "metadata": {},
     "output_type": "execute_result"
    }
   ],
   "source": [
    "# 25. Birinchi kalit-qiymat juftligini oling: birinchi kalit-qiymat juftligini lug'atdan oling.\n",
    "first_pair = next(iter(tuple_dict.items()))\n",
    "first_pair"
   ]
  }
 ],
 "metadata": {
  "kernelspec": {
   "display_name": "Python 3",
   "language": "python",
   "name": "python3"
  },
  "language_info": {
   "codemirror_mode": {
    "name": "ipython",
    "version": 3
   },
   "file_extension": ".py",
   "mimetype": "text/x-python",
   "name": "python",
   "nbconvert_exporter": "python",
   "pygments_lexer": "ipython3",
   "version": "3.12.8"
  }
 },
 "nbformat": 4,
 "nbformat_minor": 2
}
