{
 "cells": [
  {
   "cell_type": "code",
   "execution_count": 4,
   "metadata": {},
   "outputs": [
    {
     "name": "stdout",
     "output_type": "stream",
     "text": [
      "None\n"
     ]
    }
   ],
   "source": [
    "# 1. Qiymatni olish: Agar lug'at va kalit berilgan bo'lsa, agar kalit mavjud bo'lmasa, nimani qaytarish kerakligini hisobga olib, \n",
    "# tegishli qiymatni oling.\n",
    "empty_dict = {}\n",
    "students_dict = {\n",
    "    'name': 'Ali',\n",
    "    'age' : 19,\n",
    "    'student': True,\n",
    "    'course': 3,\n",
    "    'get_married': False,\n",
    "    'lan': 'English and Russia'\n",
    "}\n",
    "if empty_dict:\n",
    "    print(students_dict['name'])\n",
    "else:\n",
    "    print(None)"
   ]
  },
  {
   "cell_type": "code",
   "execution_count": 5,
   "metadata": {},
   "outputs": [
    {
     "data": {
      "text/plain": [
       "True"
      ]
     },
     "execution_count": 5,
     "metadata": {},
     "output_type": "execute_result"
    }
   ],
   "source": [
    "# 2. Kalitni tekshirish: Lug'at va kalit berilgan bo'lsa, kalit lug'atda mavjudligini tekshiring.\n",
    "key_name = 'age'\n",
    "bool(key_name in students_dict)"
   ]
  },
  {
   "cell_type": "code",
   "execution_count": 6,
   "metadata": {},
   "outputs": [
    {
     "data": {
      "text/plain": [
       "6"
      ]
     },
     "execution_count": 6,
     "metadata": {},
     "output_type": "execute_result"
    }
   ],
   "source": [
    "# 3. Hisoblash tugmalari: Lug'atdagi kalitlar sonini aniqlang.\n",
    "len(students_dict)"
   ]
  },
  {
   "cell_type": "code",
   "execution_count": 21,
   "metadata": {},
   "outputs": [
    {
     "name": "stdout",
     "output_type": "stream",
     "text": [
      "name\n",
      "age\n",
      "student\n",
      "course\n",
      "get_married\n",
      "lan\n"
     ]
    }
   ],
   "source": [
    "# 4. Barcha kalitlarni oling: Lug'atdagi barcha kalitlarni o'z ichiga olgan ro'yxat yarating.\n",
    "# for key in students_dict:\n",
    "#     print(key)\n",
    "students_dict.keys()\n"
   ]
  },
  {
   "cell_type": "code",
   "execution_count": 20,
   "metadata": {},
   "outputs": [
    {
     "data": {
      "text/plain": [
       "dict_values(['Ali', 19, True, 3, False, 'English and Russia'])"
      ]
     },
     "execution_count": 20,
     "metadata": {},
     "output_type": "execute_result"
    }
   ],
   "source": [
    "# 5. Barcha qiymatlarni oling: Lug'atdagi barcha qiymatlarni o'z ichiga olgan ro'yxat yarating.\n",
    "# for key in students_dict:\n",
    "#     print(students_dict[key])\n",
    "students_dict.values()"
   ]
  },
  {
   "cell_type": "code",
   "execution_count": 23,
   "metadata": {},
   "outputs": [
    {
     "data": {
      "text/plain": [
       "{'name': 'Ali',\n",
       " 'age': 19,\n",
       " 'student': True,\n",
       " 'course': 3,\n",
       " 'get_married': False,\n",
       " 'lan': 'English and Russia',\n",
       " 'father': 'Hafiz',\n",
       " 'mother': 'Safiya',\n",
       " 'brothers': 2,\n",
       " 'sisters': 3,\n",
       " 'address': 'inTashkent'}"
      ]
     },
     "execution_count": 23,
     "metadata": {},
     "output_type": "execute_result"
    }
   ],
   "source": [
    "# 6. Lug'atlarni birlashtirish: Ikkita lug'at berilgan bo'lsa, ikkalasini birlashtirgan yangi lug'at yarating.\n",
    "information = {\n",
    "    'father': 'Hafiz',\n",
    "    'mother': 'Safiya',\n",
    "    'brothers': 2,\n",
    "    'sisters': 3,\n",
    "    'address': 'inTashkent'\n",
    "}\n",
    "\n",
    "full_data = students_dict | information\n",
    "full_data"
   ]
  },
  {
   "cell_type": "code",
   "execution_count": 25,
   "metadata": {},
   "outputs": [
    {
     "data": {
      "text/plain": [
       "{'name': 'Ali',\n",
       " 'student': True,\n",
       " 'course': 3,\n",
       " 'get_married': False,\n",
       " 'lan': 'English and Russia'}"
      ]
     },
     "execution_count": 25,
     "metadata": {},
     "output_type": "execute_result"
    }
   ],
   "source": [
    "# 7. Kalitni olib tashlash: Agar lug'at va kalit berilgan bo'lsa, agar mavjud bo'lsa, kalitni olib tashlang, agar mavjud bo'lmasa, ishni boshqaring.\n",
    "key_name\n",
    "if key_name in students_dict:\n",
    "    students_dict.pop(key_name)\n",
    "students_dict"
   ]
  },
  {
   "cell_type": "code",
   "execution_count": 28,
   "metadata": {},
   "outputs": [
    {
     "data": {
      "text/plain": [
       "{}"
      ]
     },
     "execution_count": 28,
     "metadata": {},
     "output_type": "execute_result"
    }
   ],
   "source": [
    "# 8. Yangi bo'sh dictionary yarating.\n",
    "new_dictionary = dict()\n",
    "full_data.clear()\n",
    "full_data"
   ]
  },
  {
   "cell_type": "code",
   "execution_count": 29,
   "metadata": {},
   "outputs": [
    {
     "name": "stdout",
     "output_type": "stream",
     "text": [
      "False\n",
      "True\n"
     ]
    }
   ],
   "source": [
    "# 9. Lug'at bo'sh yoki yo'qligini tekshiring: Lug'atda biron bir element mavjudligini aniqlang.\n",
    "print(bool(full_data))\n",
    "print(bool(information))"
   ]
  },
  {
   "cell_type": "code",
   "execution_count": 32,
   "metadata": {},
   "outputs": [
    {
     "name": "stdout",
     "output_type": "stream",
     "text": [
      "inTashkent\n"
     ]
    }
   ],
   "source": [
    "# 10. Kalit-qiymat juftligini oling: Agar lug'at va kalit berilgan bo'lsa, kalit mavjud bo'lsa, kalit-qiymat juftligini oling.\n",
    "address = 'address'\n",
    "if address in information:\n",
    "    print(information[address])\n"
   ]
  },
  {
   "cell_type": "code",
   "execution_count": 34,
   "metadata": {},
   "outputs": [
    {
     "data": {
      "text/plain": [
       "{'father': 'Hafiz',\n",
       " 'mother': 'Safiya',\n",
       " 'brothers': 2,\n",
       " 'sisters': 3,\n",
       " 'address': 'inTokio'}"
      ]
     },
     "execution_count": 34,
     "metadata": {},
     "output_type": "execute_result"
    }
   ],
   "source": [
    "# 11. Yangilash qiymati: Lug'at berilganda, belgilangan kalit uchun qiymatni yangilang.\n",
    "information.update({'inBorn' : 'Kashkadaryo'})\n",
    "information\n"
   ]
  },
  {
   "cell_type": "code",
   "execution_count": 39,
   "metadata": {},
   "outputs": [
    {
     "data": {
      "text/plain": [
       "1"
      ]
     },
     "execution_count": 39,
     "metadata": {},
     "output_type": "execute_result"
    }
   ],
   "source": [
    "# 12. Qiymatli hodisalarni hisoblash: Lug'at berilganda, ma'lum bir qiymat kalitlar bo'ylab necha marta paydo bo'lishini hisoblang.\n",
    "val = 'Safiya'\n",
    "a = list(information.values()).count(val)\n",
    "a"
   ]
  },
  {
   "cell_type": "code",
   "execution_count": 41,
   "metadata": {},
   "outputs": [
    {
     "data": {
      "text/plain": [
       "{'Hafiz': 'father',\n",
       " 'Safiya': 'mother',\n",
       " 2: 'brothers',\n",
       " 3: 'sisters',\n",
       " 'inTokio': 'address',\n",
       " 'Kashkadaryo': 'inBorn'}"
      ]
     },
     "execution_count": 41,
     "metadata": {},
     "output_type": "execute_result"
    }
   ],
   "source": [
    "# 13. Lug'atni o'zgartir: Lug'at berilgan bo'lsa, kalit va qiymatlarni almashtiradigan yangi lug'at yarating.\n",
    "personality = dict()\n",
    "inverted_dict = {value: key for key, value in information.items()}\n",
    "inverted_dict"
   ]
  },
  {
   "cell_type": "code",
   "execution_count": 47,
   "metadata": {},
   "outputs": [],
   "source": [
    "# 14. Qiymatli kalitlarni toping: Lug'at va qiymatni hisobga olgan holda, ushbu qiymatga ega bo'lgan barcha kalitlar ro'yxatini yarating.\n",
    "\n",
    "\n",
    "# Misolga juda yaxshi tushundim deya olmayman shu sababdan yecha olmadim yaxshiroq g'oya kemadi yo'nalish berib yuborsangiz yaxshi bo'lardi"
   ]
  },
  {
   "cell_type": "code",
   "execution_count": 50,
   "metadata": {},
   "outputs": [
    {
     "name": "stdout",
     "output_type": "stream",
     "text": [
      "{'olma': 'lion', 'olcha': 'tiger', 'gilos': 'wolf', 'uzum': 'fox', 'shaftoli': 'bear'} {'lion': 'olma', 'tiger': 'olcha', 'wolf': 'gilos', 'fox': 'uzum', 'bear': 'shaftoli'}\n"
     ]
    }
   ],
   "source": [
    "# 15. Roʻyxatlardan lugʻat yarating: ikkita roʻyxatni (bir kalit va bitta qiymat) hisobga olib, ularni juftlashtiruvchi lugʻat yarating.\n",
    "fruits = ['olma', 'olcha', 'gilos', 'uzum', 'shaftoli']\n",
    "animals = ['lion', 'tiger', 'wolf', 'fox', 'bear']\n",
    "\n",
    "a = dict(zip(fruits, animals)) # 1-yechim\n",
    "\n",
    "mix_dict = dict()              # 2-yechim\n",
    "for i in range(len(fruits)):\n",
    "    mix_dict[animals[i]] = fruits[i]\n",
    "print(a)\n",
    "print(mix_dict)"
   ]
  },
  {
   "cell_type": "code",
   "execution_count": 51,
   "metadata": {},
   "outputs": [
    {
     "data": {
      "text/plain": [
       "True"
      ]
     },
     "execution_count": 51,
     "metadata": {},
     "output_type": "execute_result"
    }
   ],
   "source": [
    "# 16. Ichki lug'atlarni tekshiring: Lug'at berilgan bo'lsa, qiymatlar ham lug'at ekanligini tekshiring.\n",
    "myfamily = {\n",
    "  \"child1\" : {\n",
    "    \"name\" : \"Emil\",\n",
    "    \"year\" : 2004\n",
    "  },\n",
    "  \"child2\" : {\n",
    "    \"name\" : \"Tobias\",\n",
    "    \"year\" : 2007\n",
    "  },\n",
    "  \"child3\" : {\n",
    "    \"name\" : \"Linus\",\n",
    "    \"year\" : 2011\n",
    "  }\n",
    "}\n",
    "\n",
    "any(isinstance(value, dict) for value in myfamily.values())"
   ]
  },
  {
   "cell_type": "code",
   "execution_count": 52,
   "metadata": {},
   "outputs": [
    {
     "data": {
      "text/plain": [
       "'Tobias'"
      ]
     },
     "execution_count": 52,
     "metadata": {},
     "output_type": "execute_result"
    }
   ],
   "source": [
    "# 17. Ichki qiymatni oling: Ichki lug'at berilgan bo'lsa, ichki lug'atlardan biridagi qiymatni oling.\n",
    "myfamily['child2']['name']"
   ]
  },
  {
   "cell_type": "code",
   "execution_count": 59,
   "metadata": {},
   "outputs": [
    {
     "ename": "IndexError",
     "evalue": "list index out of range",
     "output_type": "error",
     "traceback": [
      "\u001b[1;31m---------------------------------------------------------------------------\u001b[0m",
      "\u001b[1;31mIndexError\u001b[0m                                Traceback (most recent call last)",
      "Cell \u001b[1;32mIn[59], line 9\u001b[0m\n\u001b[0;32m      7\u001b[0m \u001b[38;5;28;01mfor\u001b[39;00m i \u001b[38;5;129;01min\u001b[39;00m \u001b[38;5;28mrange\u001b[39m(\u001b[38;5;28mlen\u001b[39m(animal)):\n\u001b[0;32m      8\u001b[0m     \u001b[38;5;28;01mif\u001b[39;00m fruit:\n\u001b[1;32m----> 9\u001b[0m         n_dict[\u001b[43mfruit\u001b[49m\u001b[43m[\u001b[49m\u001b[43mi\u001b[49m\u001b[43m]\u001b[49m] \u001b[38;5;241m=\u001b[39m animal[i]\n\u001b[0;32m     10\u001b[0m         fruit\u001b[38;5;241m.\u001b[39mpop(i)\n\u001b[0;32m     11\u001b[0m     \u001b[38;5;28;01melse\u001b[39;00m:\n",
      "\u001b[1;31mIndexError\u001b[0m: list index out of range"
     ]
    }
   ],
   "source": [
    "# 18. Standart lug'at yaratish: etishmayotgan kalitlar uchun standart qiymatni beruvchi lug'at yarating.\n",
    "fruit = ['olma', 'olcha', 'gilos', 'uzum', 'shaftoli']\n",
    "animal = ['lion', 'tiger', 'wolf', 'fox', 'bear', 'gepard', 'snake']\n",
    "n_dict = dict()\n",
    "key1_name = 'nok'\n",
    "\n",
    "for i in range(len(animal)):\n",
    "    if fruit:\n",
    "        n_dict[fruit[i]] = animal[i]\n",
    "        fruit.pop(i)\n",
    "    else:\n",
    "        n_dict[key1_name] = animal[i]\n",
    "        \n",
    "n_dict\n",
    "    "
   ]
  },
  {
   "cell_type": "code",
   "execution_count": null,
   "metadata": {},
   "outputs": [],
   "source": []
  },
  {
   "cell_type": "code",
   "execution_count": null,
   "metadata": {},
   "outputs": [],
   "source": []
  }
 ],
 "metadata": {
  "kernelspec": {
   "display_name": "Python 3",
   "language": "python",
   "name": "python3"
  },
  "language_info": {
   "codemirror_mode": {
    "name": "ipython",
    "version": 3
   },
   "file_extension": ".py",
   "mimetype": "text/x-python",
   "name": "python",
   "nbconvert_exporter": "python",
   "pygments_lexer": "ipython3",
   "version": "3.12.8"
  }
 },
 "nbformat": 4,
 "nbformat_minor": 2
}
