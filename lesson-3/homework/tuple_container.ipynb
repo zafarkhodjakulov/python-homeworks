{
 "cells": [
  {
   "cell_type": "code",
   "execution_count": 3,
   "metadata": {},
   "outputs": [
    {
     "data": {
      "text/plain": [
       "13"
      ]
     },
     "execution_count": 3,
     "metadata": {},
     "output_type": "execute_result"
    }
   ],
   "source": [
    "# 1. Voqealarni hisoblash: tuple va element berilgan bo'lsa, element tupleda necha marta paydo bo'lishini toping.\n",
    "number_tuple = (2, 1, 5, 7, 6, 3, 8, 15, 9, 45, 32, 75, 32)\n",
    "len(number_tuple)\n"
   ]
  },
  {
   "cell_type": "code",
   "execution_count": 4,
   "metadata": {},
   "outputs": [
    {
     "data": {
      "text/plain": [
       "75"
      ]
     },
     "execution_count": 4,
     "metadata": {},
     "output_type": "execute_result"
    }
   ],
   "source": [
    "# 2. Maksimal element: Berilgan kortejdan eng katta elementni aniqlang.\n",
    "max(number_tuple)"
   ]
  },
  {
   "cell_type": "code",
   "execution_count": 5,
   "metadata": {},
   "outputs": [
    {
     "data": {
      "text/plain": [
       "1"
      ]
     },
     "execution_count": 5,
     "metadata": {},
     "output_type": "execute_result"
    }
   ],
   "source": [
    "# 3. Min element: Berilgan kortejdan eng kichik elementni aniqlang.\n",
    "min(number_tuple)"
   ]
  },
  {
   "cell_type": "code",
   "execution_count": 6,
   "metadata": {},
   "outputs": [
    {
     "data": {
      "text/plain": [
       "True"
      ]
     },
     "execution_count": 6,
     "metadata": {},
     "output_type": "execute_result"
    }
   ],
   "source": [
    "# 4. Elementni tekshiring: kortej va element berilgan bo'lsa, element kortejda mavjudligini te\n",
    "bool(number_tuple)"
   ]
  },
  {
   "cell_type": "code",
   "execution_count": 10,
   "metadata": {},
   "outputs": [
    {
     "name": "stdout",
     "output_type": "stream",
     "text": [
      "2\n"
     ]
    }
   ],
   "source": [
    "# 5. Birinchi element: Agar kortej bo'sh bo'lsa, nimani qaytarish kerakligini hisobga olib, kortejning birinchi elementiga kiring.\n",
    "empty_tuple = tuple()\n",
    "if bool(number_tuple):\n",
    "    print(number_tuple[0])\n",
    "else:\n",
    "    print(None)"
   ]
  },
  {
   "cell_type": "code",
   "execution_count": 12,
   "metadata": {},
   "outputs": [
    {
     "name": "stdout",
     "output_type": "stream",
     "text": [
      "None\n"
     ]
    }
   ],
   "source": [
    "# 6. Oxirgi element: Agar kortej bo'sh bo'lsa, nimani qaytarish kerakligini hisobga olib, kortejning oxirgi elementiga kiring.\n",
    "if bool(empty_tuple):\n",
    "    print(number_tuple[-1])\n",
    "else:\n",
    "    print(None)"
   ]
  },
  {
   "cell_type": "code",
   "execution_count": 13,
   "metadata": {},
   "outputs": [
    {
     "data": {
      "text/plain": [
       "13"
      ]
     },
     "execution_count": 13,
     "metadata": {},
     "output_type": "execute_result"
    }
   ],
   "source": [
    "# 7. Tuple Length: Tupledagi elementlar sonini aniqlang.\n",
    "len(number_tuple)"
   ]
  },
  {
   "cell_type": "code",
   "execution_count": 18,
   "metadata": {},
   "outputs": [
    {
     "data": {
      "text/plain": [
       "(2, 1, 5)"
      ]
     },
     "execution_count": 18,
     "metadata": {},
     "output_type": "execute_result"
    }
   ],
   "source": [
    "# 8. Slice Tuple: Asl kortejning faqat birinchi uchta elementini o'z ichiga olgan yangi kortej yarating.\n",
    "slice_size = slice(0, 3, 1)\n",
    "slice_tuple = number_tuple[:3] # 1-yechim\n",
    "slice_tuple = number_tuple[slice_size] # 2-yechim\n",
    "slice_tuple"
   ]
  },
  {
   "cell_type": "code",
   "execution_count": 19,
   "metadata": {},
   "outputs": [
    {
     "data": {
      "text/plain": [
       "(2, 1, 5, 7, 6, 3, 8, 15, 9, 45, 32, 75, 32, 2, 1, 5)"
      ]
     },
     "execution_count": 19,
     "metadata": {},
     "output_type": "execute_result"
    }
   ],
   "source": [
    "# 9. Kortejlarni birlashtirish: ikkita kortej berilgan bo'lsa, ikkalasini birlashtiradigan yangi kortej yarating.\n",
    "new_tuple = number_tuple + slice_tuple\n",
    "new_tuple"
   ]
  },
  {
   "cell_type": "code",
   "execution_count": 20,
   "metadata": {},
   "outputs": [
    {
     "name": "stdout",
     "output_type": "stream",
     "text": [
      "(2, 1, 5, 7, 6, 3, 8, 15, 9, 45, 32, 75, 32, 2, 1, 5)\n"
     ]
    }
   ],
   "source": [
    "# 10. Tuple bo'sh yoki yo'qligini tekshiring: kortejda biron bir element mavjudligini aniqlang.\n",
    "if new_tuple:\n",
    "    print(new_tuple)\n",
    "else:\n",
    "    print(None)"
   ]
  },
  {
   "cell_type": "code",
   "execution_count": 25,
   "metadata": {},
   "outputs": [
    {
     "data": {
      "text/plain": [
       "8"
      ]
     },
     "execution_count": 25,
     "metadata": {},
     "output_type": "execute_result"
    }
   ],
   "source": [
    "# 11. Elementning barcha indekslarini oling: tuple va element berilgan bo'lsa, kortejdagi ushbu elementning barcha indekslarini toping.\n",
    "fruits = ('banan', 'olma', 'gilos', 'shaftoli', 'ananas', 'qovun', 'kivi', 'mandarin')\n",
    "animals_list = ('lion', 'tiger', 'wolf', 'dog', 'cow', 'monkey', 'donkey', 'eagle', 'goat', 'sheep', 'cat')\n",
    "animals_list.index('goat')"
   ]
  },
  {
   "cell_type": "code",
   "execution_count": 29,
   "metadata": {},
   "outputs": [
    {
     "data": {
      "text/plain": [
       "45"
      ]
     },
     "execution_count": 29,
     "metadata": {},
     "output_type": "execute_result"
    }
   ],
   "source": [
    "# 12. Ikkinchi eng katta elementni toping: Berilgan kortejdan ikkinchi eng katta elementni toping.\n",
    "maksimal = number_tuple[0]\n",
    "for i in number_tuple:\n",
    "    if maksimal < i and i < max(number_tuple):\n",
    "        maksimal = i\n",
    "maksimal"
   ]
  },
  {
   "cell_type": "code",
   "execution_count": 30,
   "metadata": {},
   "outputs": [
    {
     "data": {
      "text/plain": [
       "2"
      ]
     },
     "execution_count": 30,
     "metadata": {},
     "output_type": "execute_result"
    }
   ],
   "source": [
    "# 13. Ikkinchi eng kichik elementni toping: Berilgan kortejdan ikkinchi eng kichik elementni toping.\n",
    "minimum = number_tuple[0]\n",
    "for i in number_tuple:\n",
    "    if minimum > i and i > min(number_tuple):\n",
    "        minimum = i\n",
    "minimum"
   ]
  },
  {
   "cell_type": "code",
   "execution_count": 32,
   "metadata": {},
   "outputs": [
    {
     "data": {
      "text/plain": [
       "(7,)"
      ]
     },
     "execution_count": 32,
     "metadata": {},
     "output_type": "execute_result"
    }
   ],
   "source": [
    "# 14. Yagona element to'plamini yarating: bitta belgilangan elementni o'z ichiga olgan kortej yarating.\n",
    "single_tuple = (7,)\n",
    "single_tuple"
   ]
  },
  {
   "cell_type": "code",
   "execution_count": 33,
   "metadata": {},
   "outputs": [
    {
     "data": {
      "text/plain": [
       "('banan', 'olma', 'gilos', 'shaftoli', 'ananas', 'qovun', 'kivi', 'mandarin')"
      ]
     },
     "execution_count": 33,
     "metadata": {},
     "output_type": "execute_result"
    }
   ],
   "source": [
    "# 15. Ro'yxatni to'plamga aylantirish: Ro'yxat berilgan bo'lsa, bir xil elementlardan iborat kortej yarating.\n",
    "fruits_list = ['banan', 'olma', 'gilos', 'shaftoli', 'ananas', 'qovun', 'kivi', 'mandarin']\n",
    "fruits_tuple = tuple(fruits_list)\n",
    "fruits_tuple"
   ]
  },
  {
   "cell_type": "code",
   "execution_count": 35,
   "metadata": {},
   "outputs": [
    {
     "data": {
      "text/plain": [
       "(1, 1, 2, 2, 3, 5, 5, 6, 7, 8, 9, 15, 32, 32, 45, 75)"
      ]
     },
     "execution_count": 35,
     "metadata": {},
     "output_type": "execute_result"
    }
   ],
   "source": [
    "# 16. Tuple Saralangan yoki yo'qligini tekshiring: Kortej o'sish tartibida tartiblanganligini aniqlang va mantiqiy qiymatni qaytaring.\n",
    "a = tuple(sorted(new_tuple))\n",
    "a\n",
    "# Ushbu misolda saralanganmi yo'qmi ekanligini qanday check qilishni bilmadim "
   ]
  },
  {
   "cell_type": "code",
   "execution_count": 37,
   "metadata": {},
   "outputs": [
    {
     "data": {
      "text/plain": [
       "15"
      ]
     },
     "execution_count": 37,
     "metadata": {},
     "output_type": "execute_result"
    }
   ],
   "source": [
    "# 17. Subtuplening maksimalini toping: Kortej berilgan bo'lsa, belgilangan pastki qismning maksimal elementini toping.\n",
    "start = 4\n",
    "end = 9\n",
    "subtuple = number_tuple[start:end]\n",
    "max(subtuple)"
   ]
  },
  {
   "cell_type": "code",
   "execution_count": 38,
   "metadata": {},
   "outputs": [
    {
     "data": {
      "text/plain": [
       "3"
      ]
     },
     "execution_count": 38,
     "metadata": {},
     "output_type": "execute_result"
    }
   ],
   "source": [
    "# 18. Subtuplening minimalini toping: Kortej berilgan bo'lsa, belgilangan pastki qismning minimal elementini toping.\n",
    "min(subtuple)"
   ]
  },
  {
   "cell_type": "code",
   "execution_count": 40,
   "metadata": {},
   "outputs": [
    {
     "name": "stdout",
     "output_type": "stream",
     "text": [
      "(2, 1, 5, 7, 6, 3, 8, 15, 9, 45, 32, 75, 32)\n",
      "(1, 5, 7, 6, 3, 8, 15, 9, 45, 32, 75, 32)\n"
     ]
    }
   ],
   "source": [
    "# 19. Elementni qiymat bo'yicha olib tashlash: Kortej va elementni hisobga olgan holda, ushbu elementning birinchi paydo bo'lishini olib tashlaydigan yangi kortej yarating.\n",
    "remove_tuple = tuple(number_tuple[1:])\n",
    "print(number_tuple)\n",
    "print(remove_tuple)"
   ]
  },
  {
   "cell_type": "code",
   "execution_count": 48,
   "metadata": {},
   "outputs": [
    {
     "data": {
      "text/plain": [
       "((2, 1, 5, 7), (6, 3, 8, 15), (9, 45, 32, 75), (32,))"
      ]
     },
     "execution_count": 48,
     "metadata": {},
     "output_type": "execute_result"
    }
   ],
   "source": [
    "# 20. Nested kortej yaratish: har bir subtuple original kortejdan belgilangan elementlarni o'z ichiga olgan pastki qatorlarni o'z ichiga olgan yangi kortej yarating.   \n",
    "tpl_size = 4\n",
    "tpl = tuple()\n",
    "nested_tuple = tuple(number_tuple[i:i + tpl_size] for i in range(0, len(number_tuple), tpl_size))\n",
    "nested_tuple"
   ]
  },
  {
   "cell_type": "code",
   "execution_count": 59,
   "metadata": {},
   "outputs": [
    {
     "data": {
      "text/plain": [
       "(2,\n",
       " 2,\n",
       " 1,\n",
       " 1,\n",
       " 5,\n",
       " 5,\n",
       " 7,\n",
       " 7,\n",
       " 6,\n",
       " 6,\n",
       " 3,\n",
       " 3,\n",
       " 8,\n",
       " 8,\n",
       " 15,\n",
       " 15,\n",
       " 9,\n",
       " 9,\n",
       " 45,\n",
       " 45,\n",
       " 32,\n",
       " 32,\n",
       " 75,\n",
       " 75,\n",
       " 32,\n",
       " 32)"
      ]
     },
     "execution_count": 59,
     "metadata": {},
     "output_type": "execute_result"
    }
   ],
   "source": [
    "# 21. Elementlarni takrorlash: Kortej va raqam berilgan bo'lsa, har bir element shuncha marta takrorlanadigan yangi kortej yarating.\n",
    "digit = 77\n",
    "reapeat_number = 2\n",
    "repeated_tuple = tuple(element for element in number_tuple for i in range(reapeat_number))\n",
    "repeated_tuple"
   ]
  },
  {
   "cell_type": "code",
   "execution_count": 60,
   "metadata": {},
   "outputs": [
    {
     "data": {
      "text/plain": [
       "(1, 2, 3, 4, 5, 6, 7, 8, 9, 10)"
      ]
     },
     "execution_count": 60,
     "metadata": {},
     "output_type": "execute_result"
    }
   ],
   "source": [
    "# 22. Rang qatorini yaratish: Belgilangan diapazonda raqamlar majmuasini yarating (masalan, 1 dan 10 gacha).\n",
    "start = 1\n",
    "end = 10\n",
    "\n",
    "nw_tpl = tuple(range(start, end+1))\n",
    "nw_tpl\n",
    "    "
   ]
  },
  {
   "cell_type": "code",
   "execution_count": 62,
   "metadata": {},
   "outputs": [
    {
     "data": {
      "text/plain": [
       "(32, 75, 32, 45, 9, 15, 8, 3, 6, 7, 5, 1, 2)"
      ]
     },
     "execution_count": 62,
     "metadata": {},
     "output_type": "execute_result"
    }
   ],
   "source": [
    "# 23. Teskari kortej: Asl kortej elementlarini teskari tartibda o'z ichiga olgan yangi kortej yarating.\n",
    "n_tpl = number_tuple[::-1]\n",
    "n_tpl"
   ]
  },
  {
   "cell_type": "code",
   "execution_count": 65,
   "metadata": {},
   "outputs": [
    {
     "name": "stdout",
     "output_type": "stream",
     "text": [
      "False\n",
      "True\n"
     ]
    }
   ],
   "source": [
    "# 24. Palindromni tekshiring: kortej berilgan bo'lsa, kortej palindrom ekanligini tekshiring (xuddi shu narsani oldinga va orqaga o'qiydi).\n",
    "a = [1, 2, 3, 2, 1]\n",
    "print(bool(number_tuple == new_tuple))\n",
    "print(bool(a == a[::-1]))"
   ]
  },
  {
   "cell_type": "code",
   "execution_count": 69,
   "metadata": {},
   "outputs": [
    {
     "name": "stdout",
     "output_type": "stream",
     "text": [
      "[1, 1, 2, 2, 3, 3, 5, 5, 6, 6, 7, 7, 8, 8, 9, 9, 15, 15, 32, 32, 32, 32, 45, 45, 75, 75]\n",
      "[1, 2, 3, 5, 6, 7, 8, 9, 15, 32, 45, 75]\n"
     ]
    }
   ],
   "source": [
    "# 25. Noyob elementlarni oling: kortejni hisobga olgan holda, asl tartibni saqlab, faqat noyob elementlarni o'z ichiga olgan yangi kortej yarating.\n",
    "unique_tpl = tuple(set(repeated_tuple))\n",
    "print(sorted(repeated_tuple))\n",
    "print(sorted(unique_tpl))"
   ]
  }
 ],
 "metadata": {
  "kernelspec": {
   "display_name": "Python 3",
   "language": "python",
   "name": "python3"
  },
  "language_info": {
   "codemirror_mode": {
    "name": "ipython",
    "version": 3
   },
   "file_extension": ".py",
   "mimetype": "text/x-python",
   "name": "python",
   "nbconvert_exporter": "python",
   "pygments_lexer": "ipython3",
   "version": "3.12.8"
  }
 },
 "nbformat": 4,
 "nbformat_minor": 2
}
