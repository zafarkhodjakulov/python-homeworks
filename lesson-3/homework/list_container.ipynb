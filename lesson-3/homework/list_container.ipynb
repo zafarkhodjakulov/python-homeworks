{
 "cells": [
  {
   "cell_type": "code",
   "execution_count": 3,
   "metadata": {},
   "outputs": [
    {
     "data": {
      "text/plain": [
       "6"
      ]
     },
     "execution_count": 3,
     "metadata": {},
     "output_type": "execute_result"
    }
   ],
   "source": [
    "# 1. Count Occurrences**: Given a list and an element, find how many times the element appears in the list.\n",
    "animals = ['lion', 'tiger', 'wolf', 'dog', 'cow', 'monkey']\n",
    "len(animals)"
   ]
  },
  {
   "cell_type": "code",
   "execution_count": 12,
   "metadata": {},
   "outputs": [
    {
     "data": {
      "text/plain": [
       "1239"
      ]
     },
     "execution_count": 12,
     "metadata": {},
     "output_type": "execute_result"
    }
   ],
   "source": [
    "# 2. Sum of Elements: Given a list of numbers, calculate the total of all the elements.\n",
    "numbers = [ 2, 5, 64, 15, 87, 15, 32, 64, 955]\n",
    "sum(numbers)"
   ]
  },
  {
   "cell_type": "code",
   "execution_count": 6,
   "metadata": {},
   "outputs": [
    {
     "data": {
      "text/plain": [
       "955"
      ]
     },
     "execution_count": 6,
     "metadata": {},
     "output_type": "execute_result"
    }
   ],
   "source": [
    "# 3. Maksimal element: Berilgan ro'yxatdan eng katta elementni aniqlang.\n",
    "max(numbers)"
   ]
  },
  {
   "cell_type": "code",
   "execution_count": 7,
   "metadata": {},
   "outputs": [
    {
     "data": {
      "text/plain": [
       "2"
      ]
     },
     "execution_count": 7,
     "metadata": {},
     "output_type": "execute_result"
    }
   ],
   "source": [
    "# 4. Min element: Berilgan roʻyxatdan eng kichik elementni aniqlang.\n",
    "min(numbers)"
   ]
  },
  {
   "cell_type": "code",
   "execution_count": 8,
   "metadata": {},
   "outputs": [
    {
     "data": {
      "text/plain": [
       "False"
      ]
     },
     "execution_count": 8,
     "metadata": {},
     "output_type": "execute_result"
    }
   ],
   "source": [
    "# 5. Elementni tekshiring: Ro'yxat va element berilgan bo'lsa, element ro'yxatda mavjudligini tekshiring.\n",
    "a = 19\n",
    "a in numbers"
   ]
  },
  {
   "cell_type": "code",
   "execution_count": 13,
   "metadata": {},
   "outputs": [
    {
     "data": {
      "text/plain": [
       "2"
      ]
     },
     "execution_count": 13,
     "metadata": {},
     "output_type": "execute_result"
    }
   ],
   "source": [
    "# 6. Birinchi element: Roʻyxat boʻsh boʻlsa, nimani qaytarish kerakligini hisobga olib, roʻyxatning birinchi elementiga kiring.\n",
    "if numbers[0] in numbers:\n",
    "    numbers[0] == 71\n",
    "numbers[0]\n"
   ]
  },
  {
   "cell_type": "code",
   "execution_count": 14,
   "metadata": {},
   "outputs": [
    {
     "data": {
      "text/plain": [
       "955"
      ]
     },
     "execution_count": 14,
     "metadata": {},
     "output_type": "execute_result"
    }
   ],
   "source": [
    "# 7. Oxirgi element: Roʻyxat boʻsh boʻlsa, nimani qaytarish kerakligini hisobga olib, roʻyxatning oxirgi elementiga kiring.\n",
    "if numbers[-1] in numbers:\n",
    "    numbers[-1] == 71\n",
    "numbers[-1]"
   ]
  },
  {
   "cell_type": "code",
   "execution_count": 6,
   "metadata": {},
   "outputs": [
    {
     "data": {
      "text/plain": [
       "['lion', 'tiger', 'wolf']"
      ]
     },
     "execution_count": 6,
     "metadata": {},
     "output_type": "execute_result"
    }
   ],
   "source": [
    "# 8. Bo'limlar ro'yxati: Asl ro'yxatning faqat birinchi uchta elementini o'z ichiga olgan yangi ro'yxat yarating.\n",
    "wild_animals = []\n",
    "wild_animals.extend(animals[:3])\n",
    "wild_animals"
   ]
  },
  {
   "cell_type": "code",
   "execution_count": 21,
   "metadata": {},
   "outputs": [
    {
     "name": "stdout",
     "output_type": "stream",
     "text": [
      "['monkey', 'cow', 'dog', 'wolf', 'tiger', 'lion']\n"
     ]
    }
   ],
   "source": [
    "# 9. Teskari ro'yxat: Asl ro'yxat elementlarini teskari tartibda o'z ichiga olgan yangi ro'yxat yarating.\n",
    "animals.reverse()\n",
    "reverse_animals = animals\n",
    "print(reverse_animals)"
   ]
  },
  {
   "cell_type": "code",
   "execution_count": 23,
   "metadata": {},
   "outputs": [
    {
     "data": {
      "text/plain": [
       "['cow', 'dog', 'lion', 'monkey', 'tiger', 'wolf']"
      ]
     },
     "execution_count": 23,
     "metadata": {},
     "output_type": "execute_result"
    }
   ],
   "source": [
    "# 10. Saralash roʻyxati: Asl roʻyxat elementlarini tartiblangan tartibda oʻz ichiga olgan yangi roʻyxat yarating.\n",
    "animals.sort()\n",
    "sort_animals = animals\n",
    "sort_animals"
   ]
  },
  {
   "cell_type": "code",
   "execution_count": 7,
   "metadata": {},
   "outputs": [
    {
     "data": {
      "text/plain": [
       "['olma', 'shaftoli', 'gilos', 'ananas', 'banan', 'qovun', 'kivi', 'mandarin']"
      ]
     },
     "execution_count": 7,
     "metadata": {},
     "output_type": "execute_result"
    }
   ],
   "source": [
    "#  11. Dublikatlarni o'chirish: Ro'yxatni hisobga olgan holda, asl ro'yxatdagi faqat noyob elementlarni o'z ichiga olgan yangi ro'yxat yarating.\n",
    "fruits = ['banan', 'olma', 'gilos', 'shaftoli', 'ananas', 'qovun', 'kivi', 'mandarin']\n",
    "unique_fruits = list(set(fruits))\n",
    "unique_fruits"
   ]
  },
  {
   "cell_type": "code",
   "execution_count": 3,
   "metadata": {},
   "outputs": [
    {
     "data": {
      "text/plain": [
       "['ananas', 'nok', 'kivi']"
      ]
     },
     "execution_count": 3,
     "metadata": {},
     "output_type": "execute_result"
    }
   ],
   "source": [
    "# 12. Elementni qo'shish: Ro'yxat va elementni hisobga olgan holda, elementni belgilangan indeksga kiriting.\n",
    "unique_fruits.insert(1, 'nok')\n",
    "unique_fruits"
   ]
  },
  {
   "cell_type": "code",
   "execution_count": 5,
   "metadata": {},
   "outputs": [
    {
     "data": {
      "text/plain": [
       "5"
      ]
     },
     "execution_count": 5,
     "metadata": {},
     "output_type": "execute_result"
    }
   ],
   "source": [
    "# 13. Element indeksi: Roʻyxat va element berilgan boʻlsa, elementning birinchi paydo boʻlish indeksini toping.\n",
    "fruits.index('qovun')"
   ]
  },
  {
   "cell_type": "code",
   "execution_count": 6,
   "metadata": {},
   "outputs": [
    {
     "data": {
      "text/plain": [
       "True"
      ]
     },
     "execution_count": 6,
     "metadata": {},
     "output_type": "execute_result"
    }
   ],
   "source": [
    "#  14. Bo'sh ro'yxatni tekshiring: ro'yxat bo'sh yoki yo'qligini aniqlang va mantiqiy qiymatni qaytaring.\n",
    "bool(fruits)"
   ]
  },
  {
   "cell_type": "code",
   "execution_count": 11,
   "metadata": {},
   "outputs": [
    {
     "data": {
      "text/plain": [
       "8"
      ]
     },
     "execution_count": 11,
     "metadata": {},
     "output_type": "execute_result"
    }
   ],
   "source": [
    "# 15. Juft sonlarni sanash: Butun sonlar ro‘yxati berilgan bo‘lsa, ularning nechtasi juft ekanligini hisoblang.\n",
    "even_numbers = 0\n",
    "numbers = [12, 54, 25, 36, 54, 4, 65, 84, 74, 36]\n",
    "for i in numbers:\n",
    "    if i % 2 == 0:\n",
    "        even_numbers += 1\n",
    "even_numbers\n"
   ]
  },
  {
   "cell_type": "code",
   "execution_count": 16,
   "metadata": {},
   "outputs": [
    {
     "data": {
      "text/plain": [
       "[25, 65]"
      ]
     },
     "execution_count": 16,
     "metadata": {},
     "output_type": "execute_result"
    }
   ],
   "source": [
    "# 16. Toq sonlarni sanash: Butun sonlar roʻyxati berilgan boʻlsa, ularning qanchasi toq ekanligini hisoblang.\n",
    "numbers = [12, 54, 25, 36, 54, 4, 65, 84, 74, 36]\n",
    "odd_numbers = [son for son in numbers if son % 2 != 0]\n",
    "odd_numbers"
   ]
  },
  {
   "cell_type": "code",
   "execution_count": 14,
   "metadata": {},
   "outputs": [
    {
     "data": {
      "text/plain": [
       "[12,\n",
       " 54,\n",
       " 25,\n",
       " 36,\n",
       " 54,\n",
       " 4,\n",
       " 65,\n",
       " 84,\n",
       " 74,\n",
       " 36,\n",
       " 'banan',\n",
       " 'olma',\n",
       " 'gilos',\n",
       " 'shaftoli',\n",
       " 'ananas',\n",
       " 'qovun',\n",
       " 'kivi',\n",
       " 'mandarin']"
      ]
     },
     "execution_count": 14,
     "metadata": {},
     "output_type": "execute_result"
    }
   ],
   "source": [
    "# 17. Roʻyxatlarni birlashtirish: Ikki roʻyxatni hisobga olgan holda, ikkala roʻyxatni birlashtirgan yangi roʻyxat yarating.\n",
    "numbers.extend(fruits)\n",
    "numbers"
   ]
  },
  {
   "cell_type": "code",
   "execution_count": 16,
   "metadata": {},
   "outputs": [
    {
     "data": {
      "text/plain": [
       "False"
      ]
     },
     "execution_count": 16,
     "metadata": {},
     "output_type": "execute_result"
    }
   ],
   "source": [
    "# 18. Qo'shimcha ro'yxatni toping: Ro'yxat va pastki ro'yxatni hisobga olgan holda, ro'yxatda quyi ro'yxat mavjudligini tekshiring.\n",
    "list_add = ['kivi', 4, 'olcha']\n",
    "bool(list_add in numbers)"
   ]
  },
  {
   "cell_type": "code",
   "execution_count": 18,
   "metadata": {},
   "outputs": [
    {
     "data": {
      "text/plain": [
       "[12,\n",
       " 'gilos',\n",
       " 25,\n",
       " 36,\n",
       " 54,\n",
       " 4,\n",
       " 65,\n",
       " 54,\n",
       " 74,\n",
       " 36,\n",
       " 'banan',\n",
       " 'olma',\n",
       " 84,\n",
       " 'shaftoli',\n",
       " 'ananas',\n",
       " 'qovun',\n",
       " 'kivi',\n",
       " 'mandarin']"
      ]
     },
     "execution_count": 18,
     "metadata": {},
     "output_type": "execute_result"
    }
   ],
   "source": [
    "# 19. Elementni almashtirish: Roʻyxat berilgan boʻlsa, koʻrsatilgan elementning birinchi paydo boʻlishini boshqa element bilan almashtiring.\n",
    "a = numbers[1]\n",
    "numbers[1] = numbers[12]\n",
    "numbers[12] = a\n",
    "numbers"
   ]
  },
  {
   "cell_type": "code",
   "execution_count": 22,
   "metadata": {},
   "outputs": [
    {
     "data": {
      "text/plain": [
       "74"
      ]
     },
     "execution_count": 22,
     "metadata": {},
     "output_type": "execute_result"
    }
   ],
   "source": [
    "# 20. Ikkinchi eng katta elementni toping: Berilgan ro'yxatdan ikkinchi eng katta elementni toping\n",
    "digitals = [12, 54, 25, 36, 54, 4, 65, 84, 74, 36]\n",
    "a = max(digitals)\n",
    "digitals.remove(a)\n",
    "max(digitals)"
   ]
  },
  {
   "cell_type": "code",
   "execution_count": 23,
   "metadata": {},
   "outputs": [
    {
     "data": {
      "text/plain": [
       "12"
      ]
     },
     "execution_count": 23,
     "metadata": {},
     "output_type": "execute_result"
    }
   ],
   "source": [
    "# 21. Ikkinchi eng kichik elementni toping: Berilgan ro'yxatdan ikkinchi eng kichik elementni toping.\n",
    "b = min(digitals)\n",
    "digitals.remove(b)\n",
    "min(digitals)"
   ]
  },
  {
   "cell_type": "code",
   "execution_count": 24,
   "metadata": {},
   "outputs": [
    {
     "data": {
      "text/plain": [
       "[12, 54, 36, 54, 74, 36]"
      ]
     },
     "execution_count": 24,
     "metadata": {},
     "output_type": "execute_result"
    }
   ],
   "source": [
    "# 22. Juft sonlarni filtrlash: Butun sonlar ro‘yxatini hisobga olgan holda, faqat juft raqamlardan iborat yangi ro‘yxat yarating.\n",
    "even_digit = []\n",
    "for i in digitals:\n",
    "    if i % 2 == 0:\n",
    "        even_digit.append(i)\n",
    "even_digit"
   ]
  },
  {
   "cell_type": "code",
   "execution_count": 17,
   "metadata": {},
   "outputs": [
    {
     "data": {
      "text/plain": [
       "[25, 65]"
      ]
     },
     "execution_count": 17,
     "metadata": {},
     "output_type": "execute_result"
    }
   ],
   "source": [
    "# 23. Toq sonlarni filtrlash: Butun sonlar roʻyxatini hisobga olib, faqat toq raqamlardan iborat yangi roʻyxat yarating.\n",
    "numbers = [12, 54, 25, 36, 54, 4, 65, 84, 74, 36]\n",
    "odd_numbers = [son for son in numbers if son % 2 != 0]\n",
    "odd_numbers"
   ]
  },
  {
   "cell_type": "code",
   "execution_count": 26,
   "metadata": {},
   "outputs": [
    {
     "data": {
      "text/plain": [
       "8"
      ]
     },
     "execution_count": 26,
     "metadata": {},
     "output_type": "execute_result"
    }
   ],
   "source": [
    "# 24. Roʻyxat uzunligi: Roʻyxatdagi elementlar sonini aniqlang.\n",
    "len(digitals)"
   ]
  },
  {
   "cell_type": "code",
   "execution_count": 28,
   "metadata": {},
   "outputs": [
    {
     "data": {
      "text/plain": [
       "[12, 54, 25, 36, 54, 65, 74, 36]"
      ]
     },
     "execution_count": 28,
     "metadata": {},
     "output_type": "execute_result"
    }
   ],
   "source": [
    "# 25. Nusxa yaratish: Asl roʻyxatning nusxasi boʻlgan yangi roʻyxat yarating.\n",
    "copy_digitals = digitals.copy()\n",
    "copy_digitals"
   ]
  },
  {
   "cell_type": "code",
   "execution_count": 34,
   "metadata": {},
   "outputs": [
    {
     "name": "stdout",
     "output_type": "stream",
     "text": [
      "21\n"
     ]
    }
   ],
   "source": [
    "# 26. O'rta elementni oling: ro'yxat berilgan, o'rta elementni toping. Agar ro'yxatda juft sonli elementlar bo'lsa, \n",
    "# ikkita o'rta elementni qaytaring.\n",
    "all_numbers = [12, 54, 25, 55, 77, 29, 54, 21, 37, 36, 54, 65, 74, 36]\n",
    "x = len(all_numbers)\n",
    "if x % 2 == 0:\n",
    "    y = x // 2\n",
    "    print(all_numbers[y - 1], all_numbers[y])\n",
    "else:\n",
    "    y = x // 2\n",
    "    print(all_numbers[y])"
   ]
  },
  {
   "cell_type": "code",
   "execution_count": 35,
   "metadata": {},
   "outputs": [
    {
     "data": {
      "text/plain": [
       "78"
      ]
     },
     "execution_count": 35,
     "metadata": {},
     "output_type": "execute_result"
    }
   ],
   "source": [
    "# 27. Qo'shimcha ro'yxatning maksimal qismini toping: Ro'yxat berilgan bo'lsa, belgilangan pastki ro'yxatning maksimal elementini toping\n",
    "max(all_numbers)"
   ]
  },
  {
   "cell_type": "code",
   "execution_count": 36,
   "metadata": {},
   "outputs": [
    {
     "data": {
      "text/plain": [
       "12"
      ]
     },
     "execution_count": 36,
     "metadata": {},
     "output_type": "execute_result"
    }
   ],
   "source": [
    "# 28. Kichik roʻyxatni toping: Roʻyxat berilgan boʻlsa, koʻrsatilgan pastki roʻyxatning minimal elementini toping.\n",
    "min(all_numbers)"
   ]
  },
  {
   "cell_type": "code",
   "execution_count": 38,
   "metadata": {},
   "outputs": [
    {
     "data": {
      "text/plain": [
       "[12, 54, 25, 55, 77, 21, 37, 36, 54, 65, 74, 36, 78]"
      ]
     },
     "execution_count": 38,
     "metadata": {},
     "output_type": "execute_result"
    }
   ],
   "source": [
    "# 29. Elementni indeks bo'yicha olib tashlash: Ro'yxat va indeks berilgan bo'lsa, agar mavjud bo'lsa, ushbu indeksdagi elementni olib tashlang.\n",
    "all_numbers.pop(5)\n",
    "all_numbers"
   ]
  },
  {
   "cell_type": "code",
   "execution_count": 43,
   "metadata": {},
   "outputs": [
    {
     "data": {
      "text/plain": [
       "[12, 21, 25, 36, 36, 37, 54, 54, 55, 65, 74, 77, 78]"
      ]
     },
     "execution_count": 43,
     "metadata": {},
     "output_type": "execute_result"
    }
   ],
   "source": [
    "# 30. Ro'yxat tartiblanganligini tekshiring: Ro'yxat o'sish tartibida tartiblanganligini aniqlang va mantiqiy qiymatni qaytaring\n",
    "all_numbers.sort()\n",
    "all_numbers"
   ]
  },
  {
   "cell_type": "code",
   "execution_count": 45,
   "metadata": {},
   "outputs": [
    {
     "data": {
      "text/plain": [
       "['banan',\n",
       " 'olma',\n",
       " 'gilos',\n",
       " 'uzum',\n",
       " 'shaftoli',\n",
       " 'ananas',\n",
       " 'qovun',\n",
       " 'uzum',\n",
       " 'kivi',\n",
       " 'mandarin',\n",
       " 'uzum']"
      ]
     },
     "execution_count": 45,
     "metadata": {},
     "output_type": "execute_result"
    }
   ],
   "source": [
    "# 31. Elementlarni takrorlash: Roʻyxat va raqam berilgan boʻlsa, har bir element bir necha marta takrorlanadigan yangi roʻyxat yarating.\n",
    "fruit = 'uzum'\n",
    "fruits.insert(3, fruit)\n",
    "fruits.insert(7, fruit)\n",
    "fruits.append(fruit)\n",
    "fruits"
   ]
  },
  {
   "cell_type": "code",
   "execution_count": 48,
   "metadata": {},
   "outputs": [
    {
     "data": {
      "text/plain": [
       "[4,\n",
       " 12,\n",
       " 12,\n",
       " 21,\n",
       " 25,\n",
       " 25,\n",
       " 36,\n",
       " 36,\n",
       " 36,\n",
       " 36,\n",
       " 37,\n",
       " 54,\n",
       " 54,\n",
       " 54,\n",
       " 54,\n",
       " 55,\n",
       " 65,\n",
       " 65,\n",
       " 74,\n",
       " 74,\n",
       " 77,\n",
       " 78]"
      ]
     },
     "execution_count": 48,
     "metadata": {},
     "output_type": "execute_result"
    }
   ],
   "source": [
    "# 32. Birlashtirish va saralash: Ikki roʻyxatni hisobga olgan holda, ikkala roʻyxatni birlashtirgan yangi tartiblangan roʻyxat yarating.\n",
    "mix_list = []\n",
    "mix_list.extend(numbers)\n",
    "mix_list.extend(all_numbers)\n",
    "mix_list.sort()\n",
    "mix_list"
   ]
  },
  {
   "cell_type": "code",
   "execution_count": 50,
   "metadata": {},
   "outputs": [
    {
     "data": {
      "text/plain": [
       "4"
      ]
     },
     "execution_count": 50,
     "metadata": {},
     "output_type": "execute_result"
    }
   ],
   "source": [
    "# 33. Barcha indekslarni toping: Ro'yxat va element berilgan bo'lsa, ro'yxatdagi ushbu elementning barcha indekslarini toping.\n",
    "fruits.index('shaftoli')"
   ]
  },
  {
   "cell_type": "code",
   "execution_count": 54,
   "metadata": {},
   "outputs": [
    {
     "name": "stdout",
     "output_type": "stream",
     "text": [
      "['kivi', 'mandarin', 'uzum', 'banan', 'olma', 'gilos', 'uzum', 'shaftoli', 'ananas', 'qovun', 'uzum']\n",
      "['uzum', 'kivi', 'mandarin', 'uzum', 'banan', 'olma', 'gilos', 'uzum', 'shaftoli', 'ananas', 'qovun']\n"
     ]
    }
   ],
   "source": [
    "# 34. Ro'yxatni aylantirish: Ro'yxat berilgan bo'lsa, asl ro'yxatning aylantirilgan versiyasi bo'lgan yangi ro'yxat yarating (elementlarni o'ngga siljitish).\n",
    "# print(fruits)\n",
    "# last_fruit = fruits.pop(-1)\n",
    "# fruits.insert(0, last_fruit)\n",
    "# print(fruits)"
   ]
  },
  {
   "cell_type": "code",
   "execution_count": 55,
   "metadata": {},
   "outputs": [
    {
     "data": {
      "text/plain": [
       "[1, 2, 3, 4, 5, 6, 7, 8, 9, 10]"
      ]
     },
     "execution_count": 55,
     "metadata": {},
     "output_type": "execute_result"
    }
   ],
   "source": [
    "# 35. Ranglar roʻyxatini yaratish: Belgilangan diapazondagi raqamlar roʻyxatini yarating (masalan, 1 dan 10 gacha).\n",
    "start = 1\n",
    "end = 10\n",
    "\n",
    "number_list = list(range(start, end + 1))\n",
    "number_list"
   ]
  },
  {
   "cell_type": "code",
   "execution_count": 62,
   "metadata": {},
   "outputs": [
    {
     "data": {
      "text/plain": [
       "15"
      ]
     },
     "execution_count": 62,
     "metadata": {},
     "output_type": "execute_result"
    }
   ],
   "source": [
    "# 36. Ijobiy raqamlar yig'indisi: raqamlar ro'yxati berilgan, barcha ijobiy raqamlarning yig'indisini hisoblang.\n",
    "sum_number = 0\n",
    "numbers_list = [ 2, -7, 8, 5, -6]\n",
    "for i in numbers_list:\n",
    "    if i > 0:\n",
    "        sum_number += i\n",
    "sum_number"
   ]
  },
  {
   "cell_type": "code",
   "execution_count": null,
   "metadata": {},
   "outputs": [],
   "source": [
    "# 37. Negativ raqamlar yig'indisi: raqamlar ro'yxati berilgan, barcha negativ raqamlarning yig'indisini hisoblang.\n",
    "sum_number = 0\n",
    "numbers_list = [ 2, -7, 8, 5, -6]\n",
    "for i in numbers_list:\n",
    "    if i < 0:\n",
    "        sum_number += i\n",
    "sum_number"
   ]
  },
  {
   "cell_type": "code",
   "execution_count": 65,
   "metadata": {},
   "outputs": [
    {
     "name": "stdout",
     "output_type": "stream",
     "text": [
      "It is palindrome list\n",
      "It is not palindrome\n"
     ]
    }
   ],
   "source": [
    "# 38. Palindromni tekshiring: Roʻyxat berilgan boʻlsa, roʻyxat palindrom yoki yoʻqligini tekshiring (xuddi shu narsani oldinga va orqaga oʻqiydi).\n",
    "palindrome_list = [1, 2, 3, 2, 1]\n",
    "isnot_palindrome = [2, 7, 8, 5, 6]\n",
    "if palindrome_list == palindrome_list[::-1]:\n",
    "    print('It is palindrome list')\n",
    "else:\n",
    "    print('It is not palindrome')\n",
    "    \n",
    "if isnot_palindrome == isnot_palindrome[::-1]:\n",
    "    print('It is palindrome list')\n",
    "else:\n",
    "    print('It is not palindrome')\n",
    "\n",
    "        "
   ]
  },
  {
   "cell_type": "code",
   "execution_count": 11,
   "metadata": {},
   "outputs": [
    {
     "data": {
      "text/plain": [
       "[[12, 54, 25], [36, 54, 4], [65, 84, 74], [36]]"
      ]
     },
     "execution_count": 11,
     "metadata": {},
     "output_type": "execute_result"
    }
   ],
   "source": [
    "# 39. Ichki roʻyxat yaratish: Har bir quyi roʻyxatda asl roʻyxatdagi elementlarning belgilangan sonini oʻz ichiga oluvchi quyi roʻyxatlarni \n",
    "# oʻz ichiga olgan yangi roʻyxat yarating.\n",
    "sublist = 3\n",
    "nestled_list = [numbers[i:i + sublist] for i in range(0, len(numbers), sublist)]\n",
    "nestled_list\n",
    "\n"
   ]
  },
  {
   "cell_type": "code",
   "execution_count": 68,
   "metadata": {},
   "outputs": [
    {
     "data": {
      "text/plain": [
       "[1, 2, 3, 4, 5, 6]"
      ]
     },
     "execution_count": 68,
     "metadata": {},
     "output_type": "execute_result"
    }
   ],
   "source": [
    "# 40. Noyob elementlarni tartibda oling: ro'yxatni hisobga olgan holda, asl tartibni saqlagan holda noyob elementlarni o'z ichiga olgan \n",
    "# yangi ro'yxat yarating.\n",
    "example_list = [1, 2, 2, 3, 4, 4, 5, 1, 6]\n",
    "list(set(example_list))\n"
   ]
  }
 ],
 "metadata": {
  "kernelspec": {
   "display_name": "Python 3",
   "language": "python",
   "name": "python3"
  },
  "language_info": {
   "codemirror_mode": {
    "name": "ipython",
    "version": 3
   },
   "file_extension": ".py",
   "mimetype": "text/x-python",
   "name": "python",
   "nbconvert_exporter": "python",
   "pygments_lexer": "ipython3",
   "version": "3.12.8"
  }
 },
 "nbformat": 4,
 "nbformat_minor": 2
}
