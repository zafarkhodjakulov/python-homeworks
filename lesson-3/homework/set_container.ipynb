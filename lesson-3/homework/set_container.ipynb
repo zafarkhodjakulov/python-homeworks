{
 "cells": [
  {
   "cell_type": "code",
   "execution_count": 34,
   "metadata": {},
   "outputs": [
    {
     "data": {
      "text/plain": [
       "{'ananas',\n",
       " 'banan',\n",
       " 'bear',\n",
       " 'cow',\n",
       " 'deer',\n",
       " 'dog',\n",
       " 'fox',\n",
       " 'gepard',\n",
       " 'gilos',\n",
       " 'kivi',\n",
       " 'lion',\n",
       " 'mandarin',\n",
       " 'monkey',\n",
       " 'olma',\n",
       " 'qovun',\n",
       " 'shaftoli',\n",
       " 'tiger',\n",
       " 'wolf'}"
      ]
     },
     "execution_count": 34,
     "metadata": {},
     "output_type": "execute_result"
    }
   ],
   "source": [
    "# 1. To'plamlar ittifoqi: Ikki to'plamni hisobga olgan holda, ikkala to'plamdagi barcha noyob elementlarni o'z ichiga olgan yangi to'plam yarating.\n",
    "fruits = {'banan', 'olma', 'gilos', 'shaftoli', 'ananas', 'qovun', 'monkey', 'fox', 'kivi', 'mandarin'}\n",
    "animals = {'lion', 'tiger', 'wolf', 'dog', 'cow', 'ananas', 'qovun', 'monkey', 'fox', 'deer', 'bear', 'gepard'} \n",
    "set1 = fruits.union(animals)\n",
    "set1"
   ]
  },
  {
   "cell_type": "code",
   "execution_count": 12,
   "metadata": {},
   "outputs": [
    {
     "data": {
      "text/plain": [
       "{'ananas', 'fox', 'monkey', 'qovun'}"
      ]
     },
     "execution_count": 12,
     "metadata": {},
     "output_type": "execute_result"
    }
   ],
   "source": [
    "# 2. To'plamlarning kesishishi: Ikki to'plam berilgan bo'lsa, ikkala to'plam uchun umumiy elementlarni o'z ichiga olgan yangi to'plam yarating.\n",
    "set2 = fruits.intersection(animals)\n",
    "set2"
   ]
  },
  {
   "cell_type": "code",
   "execution_count": 13,
   "metadata": {},
   "outputs": [
    {
     "data": {
      "text/plain": [
       "{'banan', 'gilos', 'kivi', 'mandarin', 'olma', 'shaftoli'}"
      ]
     },
     "execution_count": 13,
     "metadata": {},
     "output_type": "execute_result"
    }
   ],
   "source": [
    "# 3. To'plamlarning farqi: Ikki to'plam berilgan bo'lsa, birinchi to'plamning ikkinchisida bo'lmagan elementlari bilan yangi to'plam yarating.\n",
    "set3 = fruits.difference(animals)\n",
    "set3"
   ]
  },
  {
   "cell_type": "code",
   "execution_count": 19,
   "metadata": {},
   "outputs": [
    {
     "name": "stdout",
     "output_type": "stream",
     "text": [
      "True\n",
      "True\n",
      "True\n"
     ]
    }
   ],
   "source": [
    "# 4. Pastki toʻplamni tekshiring: Ikki toʻplam berilgan boʻlsa, bir toʻplam boshqasining kichik toʻplami ekanligini tekshiring.\n",
    "subset = {'olma', 'qovun', 'ananas'}\n",
    "for i in subset:\n",
    "   if i in fruits:\n",
    "        print(True)\n"
   ]
  },
  {
   "cell_type": "code",
   "execution_count": 20,
   "metadata": {},
   "outputs": [
    {
     "name": "stdout",
     "output_type": "stream",
     "text": [
      "True\n"
     ]
    }
   ],
   "source": [
    "# 5. Elementni tekshiring: To'plam va element berilgan bo'lsa, to'plamda element mavjudligini tekshiring.\n",
    "fruit = 'mandarin'\n",
    "if fruit in fruits:\n",
    "    print(True)"
   ]
  },
  {
   "cell_type": "code",
   "execution_count": 21,
   "metadata": {},
   "outputs": [
    {
     "data": {
      "text/plain": [
       "10"
      ]
     },
     "execution_count": 21,
     "metadata": {},
     "output_type": "execute_result"
    }
   ],
   "source": [
    "# 6. To'plam uzunligi: to'plamdagi noyob elementlar sonini aniqlang.\n",
    "len(fruits)"
   ]
  },
  {
   "cell_type": "code",
   "execution_count": 40,
   "metadata": {},
   "outputs": [
    {
     "data": {
      "text/plain": [
       "{2, 27, 31, 34, 37, 43, 46, 48, 54, 62, 63, 75, 86, 91}"
      ]
     },
     "execution_count": 40,
     "metadata": {},
     "output_type": "execute_result"
    }
   ],
   "source": [
    "# 7. Roʻyxatni toʻplamga aylantirish: Roʻyxat berilgan boʻlsa, ushbu roʻyxatdagi faqat noyob elementlarni oʻz ichiga olgan yangi toʻplam yarating.\n",
    "number_list = [54, 2, 48, 63, 75, 37, 91, 31, 43, 86, 46, 34, 62, 43, 27, 75]\n",
    "set4 = set(number_list)\n",
    "set4"
   ]
  },
  {
   "cell_type": "code",
   "execution_count": 25,
   "metadata": {},
   "outputs": [
    {
     "data": {
      "text/plain": [
       "{'ananas',\n",
       " 'banan',\n",
       " 'fox',\n",
       " 'gilos',\n",
       " 'kivi',\n",
       " 'monkey',\n",
       " 'olma',\n",
       " 'qovun',\n",
       " 'shaftoli'}"
      ]
     },
     "execution_count": 25,
     "metadata": {},
     "output_type": "execute_result"
    }
   ],
   "source": [
    "# 8. Elementni olib tashlash: To'plam va element berilgan bo'lsa, agar mavjud bo'lsa, elementni olib tashlang.\n",
    "if fruit in fruits:\n",
    "    fruits.remove(fruit)\n",
    "fruits"
   ]
  },
  {
   "cell_type": "code",
   "execution_count": 30,
   "metadata": {},
   "outputs": [
    {
     "data": {
      "text/plain": [
       "set()"
      ]
     },
     "execution_count": 30,
     "metadata": {},
     "output_type": "execute_result"
    }
   ],
   "source": [
    "# 9. To‘plamni tozalash: Mavjud to‘plamdan yangi bo‘sh to‘plam yarating.\n",
    "set4.clear()\n",
    "set4"
   ]
  },
  {
   "cell_type": "code",
   "execution_count": 31,
   "metadata": {},
   "outputs": [
    {
     "name": "stdout",
     "output_type": "stream",
     "text": [
      "Set bo'sh\n"
     ]
    }
   ],
   "source": [
    "# 10. To'plam bo'sh yoki yo'qligini tekshiring: to'plamda biron bir element mavjudligini aniqlang.\n",
    "if len(set4) == 0:\n",
    "    print(\"Set bo'sh\")\n",
    "else:\n",
    "    print(\"bo'sh emas\")"
   ]
  },
  {
   "cell_type": "code",
   "execution_count": 36,
   "metadata": {},
   "outputs": [
    {
     "data": {
      "text/plain": [
       "{'banan',\n",
       " 'bear',\n",
       " 'cow',\n",
       " 'deer',\n",
       " 'dog',\n",
       " 'gepard',\n",
       " 'gilos',\n",
       " 'kivi',\n",
       " 'lion',\n",
       " 'mandarin',\n",
       " 'olma',\n",
       " 'shaftoli',\n",
       " 'tiger',\n",
       " 'wolf'}"
      ]
     },
     "execution_count": 36,
     "metadata": {},
     "output_type": "execute_result"
    }
   ],
   "source": [
    "# 11. Simmetrik farq: ikkita to'plam berilgan bo'lsa, ikkala to'plamda bo'lmagan, ammo ikkalasida ham bo'lmagan elementlarni o'z ichiga olgan yangi to'plam yarating.\n",
    "set5 = fruits.symmetric_difference(animals)\n",
    "set5"
   ]
  },
  {
   "cell_type": "code",
   "execution_count": 37,
   "metadata": {},
   "outputs": [
    {
     "data": {
      "text/plain": [
       "{'ananas',\n",
       " 'banan',\n",
       " 'fox',\n",
       " 'gilos',\n",
       " 'kivi',\n",
       " 'mandarin',\n",
       " 'monkey',\n",
       " 'olma',\n",
       " 'qovun',\n",
       " 'shaftoli'}"
      ]
     },
     "execution_count": 37,
     "metadata": {},
     "output_type": "execute_result"
    }
   ],
   "source": [
    "# 12. Element qo'shish: To'plam va elementni hisobga olgan holda, element mavjud bo'lmasa, to'plamga qo'shing.\n",
    "if fruit in fruits:\n",
    "    fruits.add(fruit)\n",
    "fruits"
   ]
  },
  {
   "cell_type": "code",
   "execution_count": 38,
   "metadata": {},
   "outputs": [
    {
     "data": {
      "text/plain": [
       "'ananas'"
      ]
     },
     "execution_count": 38,
     "metadata": {},
     "output_type": "execute_result"
    }
   ],
   "source": [
    "# 13. Pop Element: To'plam berilgan bo'lsa, to'plamdan ixtiyoriy elementni olib tashlang va qaytaring.\n",
    "z = fruits.pop()\n",
    "z"
   ]
  },
  {
   "cell_type": "code",
   "execution_count": 42,
   "metadata": {},
   "outputs": [
    {
     "data": {
      "text/plain": [
       "91"
      ]
     },
     "execution_count": 42,
     "metadata": {},
     "output_type": "execute_result"
    }
   ],
   "source": [
    "# 14. Maksimalni toping: Berilgan raqamlar to'plamidan maksimal elementni toping.\n",
    "number_set = set(number_list)\n",
    "max(number_set)\n"
   ]
  },
  {
   "cell_type": "code",
   "execution_count": 43,
   "metadata": {},
   "outputs": [
    {
     "data": {
      "text/plain": [
       "2"
      ]
     },
     "execution_count": 43,
     "metadata": {},
     "output_type": "execute_result"
    }
   ],
   "source": [
    "# 15. Minimalni toping: berilgan sonlar to‘plamidan minimal elementni toping.\n",
    "min(number_set)"
   ]
  },
  {
   "cell_type": "code",
   "execution_count": 44,
   "metadata": {},
   "outputs": [
    {
     "data": {
      "text/plain": [
       "{2, 34, 46, 48, 54, 62, 86}"
      ]
     },
     "execution_count": 44,
     "metadata": {},
     "output_type": "execute_result"
    }
   ],
   "source": [
    "# 16. Juft sonlarni filtrlash: Butun sonlar to‘plamini hisobga olgan holda, faqat juft sonlarni o‘z ichiga olgan yangi to‘plam yarating.\n",
    "even_numbers = {num for num in number_set if num % 2 == 0}\n",
    "even_numbers"
   ]
  },
  {
   "cell_type": "code",
   "execution_count": 45,
   "metadata": {},
   "outputs": [
    {
     "data": {
      "text/plain": [
       "{27, 31, 37, 43, 63, 75, 91}"
      ]
     },
     "execution_count": 45,
     "metadata": {},
     "output_type": "execute_result"
    }
   ],
   "source": [
    "# 17. Toq raqamlarni filtrlash: Butun sonlar to‘plamini hisobga olgan holda, faqat toq raqamlardan iborat yangi to‘plam yarating.\n",
    "odd_number = {num for num in number_set if num % 2 != 0}\n",
    "odd_number"
   ]
  },
  {
   "cell_type": "code",
   "execution_count": 46,
   "metadata": {},
   "outputs": [
    {
     "data": {
      "text/plain": [
       "{1, 2, 3, 4, 5, 6, 7, 8, 9, 10}"
      ]
     },
     "execution_count": 46,
     "metadata": {},
     "output_type": "execute_result"
    }
   ],
   "source": [
    "# 18. Diapazon to‘plamini yarating: Belgilangan diapazonda raqamlar to‘plamini yarating (masalan, 1 dan 10 gacha).\n",
    "set6 = set()\n",
    "for i in range(1, 11):\n",
    "    set6.add(i)\n",
    "set6"
   ]
  },
  {
   "cell_type": "code",
   "execution_count": 47,
   "metadata": {},
   "outputs": [
    {
     "data": {
      "text/plain": [
       "{1, 2, 3, 4, 5, 6, 7, 8}"
      ]
     },
     "execution_count": 47,
     "metadata": {},
     "output_type": "execute_result"
    }
   ],
   "source": [
    "# 19. Birlashtirish va takroriy nusxalash: Ikkita roʻyxatni hisobga olgan holda, ikkala roʻyxatni birlashtirgan va dublikatlarni olib tashlaydigan yangi toʻplam yarating.\n",
    "list1 = [1, 2, 3, 4, 5]\n",
    "list2 = [4, 5, 6, 7, 8]\n",
    "merged_set = set(list1) | set(list2)\n",
    "merged_set"
   ]
  },
  {
   "cell_type": "code",
   "execution_count": 48,
   "metadata": {},
   "outputs": [
    {
     "name": "stdout",
     "output_type": "stream",
     "text": [
      "{'monkey', 'fox', 'qovun'}\n"
     ]
    }
   ],
   "source": [
    "# 20. Ajratilgan to'plamlarni tekshiring: ikkita to'plam berilgan bo'lsa, ularda umumiy elementlar yo'qligini tekshiring.\n",
    "set7 = fruits & animals\n",
    "if len(set7) == 0:\n",
    "    print('Bir xil elementlar mavjud emas')\n",
    "else:\n",
    "    print(set7)"
   ]
  },
  {
   "cell_type": "code",
   "execution_count": 57,
   "metadata": {},
   "outputs": [
    {
     "data": {
      "text/plain": [
       "[2, 34, 37, 27, 75, 43, 46, 48, 54, 86, 91, 31, 62, 63]"
      ]
     },
     "execution_count": 57,
     "metadata": {},
     "output_type": "execute_result"
    }
   ],
   "source": [
    "# 21. Roʻyxatdagi dublikatlarni olib tashlash: Roʻyxat berilgan boʻlsa, undan dublikatlarni olib tashlash uchun toʻplam yarating, \n",
    "# soʻngra yana roʻyxatga aylantiring.\n",
    "number_list = list(set(number_list))\n",
    "number_list"
   ]
  },
  {
   "cell_type": "code",
   "execution_count": 56,
   "metadata": {},
   "outputs": [
    {
     "data": {
      "text/plain": [
       "14"
      ]
     },
     "execution_count": 56,
     "metadata": {},
     "output_type": "execute_result"
    }
   ],
   "source": [
    "# 22. Noyob elementlarni sanash: Ro'yxat berilgan, to'plamdan foydalanib noyob elementlar sonini aniqlang.\n",
    "len(number_list)"
   ]
  },
  {
   "cell_type": "code",
   "execution_count": 58,
   "metadata": {},
   "outputs": [
    {
     "data": {
      "text/plain": [
       "{3, 5, 7, 15, 19}"
      ]
     },
     "execution_count": 58,
     "metadata": {},
     "output_type": "execute_result"
    }
   ],
   "source": [
    "# 23. Tasodifiy to'plam yaratish: ma'lum bir diapazonda belgilangan tasodifiy butun sonlar bilan to'plam yarating.\n",
    "import random\n",
    "\n",
    "num_elements = 5  \n",
    "min_value = 1   \n",
    "max_value = 20   \n",
    "random_set = set(random.sample(range(min_value, max_value + 1), num_elements))\n",
    "random_set\n"
   ]
  }
 ],
 "metadata": {
  "kernelspec": {
   "display_name": "Python 3",
   "language": "python",
   "name": "python3"
  },
  "language_info": {
   "codemirror_mode": {
    "name": "ipython",
    "version": 3
   },
   "file_extension": ".py",
   "mimetype": "text/x-python",
   "name": "python",
   "nbconvert_exporter": "python",
   "pygments_lexer": "ipython3",
   "version": "3.12.8"
  }
 },
 "nbformat": 4,
 "nbformat_minor": 2
}
