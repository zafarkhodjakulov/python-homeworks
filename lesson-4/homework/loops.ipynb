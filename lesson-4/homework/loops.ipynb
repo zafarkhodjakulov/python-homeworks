{
 "cells": [
  {
   "cell_type": "markdown",
   "metadata": {},
   "source": [
    "### Questions"
   ]
  },
  {
   "cell_type": "code",
   "execution_count": 1,
   "metadata": {},
   "outputs": [
    {
     "name": "stdout",
     "output_type": "stream",
     "text": [
      "True\n",
      "ID a: 2639124063232\n",
      "ID b: 2639124063424\n",
      "ID c: 2639124063232\n"
     ]
    }
   ],
   "source": [
    "# 1. Python-da davom etish va break iboralari o'rtasidagi farq nima?"
   ]
  },
  {
   "cell_type": "code",
   "execution_count": 2,
   "metadata": {},
   "outputs": [
    {
     "name": "stdout",
     "output_type": "stream",
     "text": [
      "False\n"
     ]
    }
   ],
   "source": [
    "# 2. For loop va while loop o'rtasidagi farqni tushuntirib bera olasizmi?"
   ]
  },
  {
   "cell_type": "code",
   "execution_count": 3,
   "metadata": {},
   "outputs": [
    {
     "name": "stdout",
     "output_type": "stream",
     "text": [
      "True\n"
     ]
    }
   ],
   "source": [
    "# 3. Qanday qilib o'rnatilgan loop tizimini joriy qilgan bo'lardingiz? Misol keltiring."
   ]
  },
  {
   "cell_type": "markdown",
   "metadata": {},
   "source": [
    "### Homework"
   ]
  },
  {
   "cell_type": "code",
   "execution_count": 20,
   "metadata": {},
   "outputs": [
    {
     "data": {
      "text/plain": [
       "[0, 1, 3, 4, 5, 6, 7, 9]"
      ]
     },
     "execution_count": 20,
     "metadata": {},
     "output_type": "execute_result"
    }
   ],
   "source": [
    "# 1. Ro'yxatlarning noodatiy elementlarini qaytaring. Elementlarning tartibi muhim emas.\n",
    "list1 = [1, 2, 4, 6, 5, 8]\n",
    "list2 = [0, 2, 3, 7, 8, 9]\n",
    "result1 = [item for item in list1 if item not in list2]\n",
    "result2 = [item for item in list2 if item not in list1]\n",
    "result1.extend(result2)\n",
    "result1.sort()\n",
    "result1"
   ]
  },
  {
   "cell_type": "code",
   "execution_count": 21,
   "metadata": {},
   "outputs": [
    {
     "name": "stdout",
     "output_type": "stream",
     "text": [
      "0\n",
      "1\n",
      "4\n",
      "9\n",
      "16\n",
      "25\n",
      "36\n"
     ]
    }
   ],
   "source": [
    "# 2. \n",
    "number = int(input('Enter a number: '))\n",
    "for i in range(number):\n",
    "    print(i ** 2)"
   ]
  },
  {
   "cell_type": "code",
   "execution_count": 58,
   "metadata": {},
   "outputs": [
    {
     "name": "stdout",
     "output_type": "stream",
     "text": [
      "dmqsncz\n",
      "xnd_fso vm_dsdiwq_ejs_nrdied jn_fesiinfbc_vxz_\n"
     ]
    }
   ],
   "source": [
    "# 3. txt nomli string saqlovchi o'zgaruvchi berilgan. txtdagi har uchinchi belgidan keyin pastgi chiziqcha (underscore) qo'yilsin. \n",
    "# Agar belgi unli harf yoki orqasidan ostki chiziqcha qo'yilgan harf bo'lsa, ostki chiziqcha keyingi harfdan keyin qo'yilsin. \n",
    "# Agar belgi satrdagi oxirgi belgi bo'lsa chiziqcha qo'yilmasin.\n",
    "txt = 'xndfso vmsdiwqesnrdied jnfesiinfbcvxzla'\n",
    "vowels = 'aoiueAOUIE'\n",
    "text = ''\n",
    "skip = False \n",
    "\n",
    "for i in range(len(txt)):\n",
    "    text += txt[i]\n",
    "    if (i + 1) % 3 == 0 or skip:\n",
    "        if txt[i] in vowels or skip:\n",
    "            skip = False \n",
    "        else:\n",
    "            text += '_'\n",
    "            skip = True  \n",
    "text  \n"
   ]
  },
  {
   "cell_type": "code",
   "execution_count": null,
   "metadata": {},
   "outputs": [
    {
     "name": "stdout",
     "output_type": "stream",
     "text": [
      "Siz kiritgan son kichik, kattqroq son kiriting\n",
      "Siz kiritgan son kichik, kattqroq son kiriting\n",
      "Siz kiritgan son katta, kattaroq son kiriting\n",
      "Tabriklaymiz! Siz yutdingiz...\n",
      "O'yin qaytadan boshlandi!\n",
      "Siz kiritgan son kichik, kattqroq son kiriting\n",
      "Siz kiritgan son kichik, kattqroq son kiriting\n",
      "Siz kiritgan son katta, kattaroq son kiriting\n",
      "Siz kiritgan son katta, kattaroq son kiriting\n",
      "Siz kiritgan son kichik, kattqroq son kiriting\n",
      "Tabriklaymiz! Siz yutdingiz...\n",
      "Muvaffaqiyatli yakunlandi!\n"
     ]
    }
   ],
   "source": [
    "# 4. Oddiy raqamlarni taxmin qilish o'yinini yarating.\n",
    "import random\n",
    "son = random.randint(1, 100)\n",
    "urinishlar_soni = 0\n",
    "while urinishlar_soni < 10:\n",
    "    number = int(input('1 dan 100 gacha bo\\'lgan sonlar orasidan birorta son kiriting: ')) \n",
    "    if number < son:\n",
    "        print('Siz kiritgan son kichik, kattaroq son kiriting')\n",
    "        urinishlar_soni += 1\n",
    "    elif number > son:\n",
    "        print('Siz kiritgan son katta, kichikroq son kiriting')\n",
    "        urinishlar_soni += 1\n",
    "    elif number == son:\n",
    "        print('Tabriklaymiz! Siz yutdingiz...')\n",
    "        text = input('Yana o\\'ynashni xohlasangiz: \"y\", tugaatishni xohlasangiz: \"n\" ni bosing: ')\n",
    "        if text == \"y\":\n",
    "            print(\"O'yin qaytadan boshlandi!\")\n",
    "            urinishlar_soni = 0\n",
    "            son = random.randint(1, 100)\n",
    "        elif text == \"n\":\n",
    "            print('Muvaffaqiyatli yakunlandi!')\n",
    "            urinishlar_soni = 10\n",
    "            break\n",
    "    else:\n",
    "        print('Xato urinish')\n",
    "        urinishlar_soni += 1"
   ]
  },
  {
   "cell_type": "code",
   "execution_count": null,
   "metadata": {},
   "outputs": [
    {
     "name": "stdout",
     "output_type": "stream",
     "text": [
      "Parol uzunligi 8 tadan kam bolmasin\n",
      "Kamida bitta harf katta bolishi kerak\n",
      "Strong a password\n"
     ]
    }
   ],
   "source": [
    "# 5. Oddiy parol tekshirgich yarating.\n",
    "number = ''\n",
    "large = ['A', 'B', 'C', 'D', 'E', 'F', 'G', 'H', 'I', 'J', 'K', 'L', 'M', 'N', 'O', 'P', 'Q', 'R', 'S', 'T', 'U', 'V', 'W', 'X', 'Y', 'Z']\n",
    "while True:\n",
    "    parol = input(\"Parol kiriting: \")\n",
    "    if len(parol) > 8:\n",
    "        for i in parol:\n",
    "            if i in large:\n",
    "                number += '1'\n",
    "        if '1' in number:\n",
    "            print('Strong a password')\n",
    "            break\n",
    "        else:\n",
    "            print('Kamida bitta harf katta bolishi kerak')\n",
    "    else:\n",
    "        print('Parol uzunligi 8 tadan kam bolmasin')\n",
    "        \n",
    "    "
   ]
  },
  {
   "cell_type": "code",
   "execution_count": 21,
   "metadata": {},
   "outputs": [
    {
     "data": {
      "text/plain": [
       "25"
      ]
     },
     "execution_count": 21,
     "metadata": {},
     "output_type": "execute_result"
    }
   ],
   "source": [
    "# 6. 1 dan 100 gacha bo'lgan barcha tub sonlarni chop etadigan Python dasturini yozing.\n",
    "prime_count = 0\n",
    "for number in range(1, 101): \n",
    "    if number > 1:  \n",
    "        is_prime = True\n",
    "        for i in range(2, int(number**0.5) + 1): \n",
    "            if number % i == 0:\n",
    "                is_prime = False\n",
    "                break\n",
    "        if is_prime:\n",
    "            prime_count += 1\n",
    "prime_count\n"
   ]
  },
  {
   "cell_type": "code",
   "execution_count": null,
   "metadata": {},
   "outputs": [],
   "source": [
    "import random\n",
    "choice_list = ['rock', 'paper', 'scissors']\n",
    "numbers = random\n",
    "user_score = 0\n",
    "me_score = 0\n",
    "\n",
    "while user_score < 5 or me_score < 5:\n",
    "    choice = input('Enter a your choice: paper, rock or scissors ----')\n",
    "    me_choice = random.choice(choice_list)\n",
    "    if choice == choice_list[0]:\n",
    "        if me_choice == choice_list[2]:\n",
    "            print('tabriklaymiz! Siz 1 ochkoni qo\\'lga kiritdingiz')\n",
    "            user_score += 1\n",
    "        elif me_choice == choice_list[1]:\n",
    "            print('Siz yutqazdingiz...')\n",
    "            me_score += 1\n",
    "        elif me_choice == choice_list[0]:\n",
    "            print('Durang, ikki tomon ham 1 ochkoni qo\\'lga kiritdi...')\n",
    "            me_score += 1\n",
    "            user_score += 1\n",
    "        else:\n",
    "            print('Nimadir xatolik, qayta urining...')\n",
    "    elif choice == choice_list[1]:\n",
    "        if me_choice == choice_list[0]:\n",
    "            print('tabriklaymiz! Siz 1 ochkoni qo\\'lga kiritdingiz')\n",
    "            user_score += 1\n",
    "        elif me_choice == choice_list[2]:\n",
    "            print('Siz yutqazdingiz...')\n",
    "            me_score += 1\n",
    "        elif me_choice == choice_list[1]:\n",
    "            print('Durang, ikki tomon ham 1 ochkoni qo\\'lga kiritdi...')\n",
    "            me_score += 1\n",
    "            user_score += 1\n",
    "        else:\n",
    "            print('Nimadir xatolik, qayta urining...')\n",
    "    elif choice == choice_list[2]:\n",
    "        if me_choice == choice_list[1]:\n",
    "            print('tabriklaymiz! Siz 1 ochkoni qo\\'lga kiritdingiz')\n",
    "            user_score += 1\n",
    "        elif me_choice == choice_list[0]:\n",
    "            print('Siz yutqazdingiz...')\n",
    "            me_score += 1\n",
    "        elif me_choice == choice_list[2]:\n",
    "            print('Durang, ikki tomon ham 1 ochkoni qo\\'lga kiritdi...')\n",
    "            me_score += 1\n",
    "            user_score += 1\n",
    "        else:\n",
    "            print('Nimadir xatolik, qayta urining...')\n",
    "    else:\n",
    "        print('Nimadir xatolik, qayta urining...')\n",
    "    if me_score == 5:\n",
    "        a = input(\"Afsus siz yutqazdingiz, agar yana boshlashni xohlasangiz: 'y', toxtatmoqchi bolsangiz 'n' ni bosing\")\n",
    "        if a == 'y':\n",
    "            user_score = 0\n",
    "            me_score = 0\n",
    "        elif a == 'n':\n",
    "            print('Tashrifingiz uchun tashakkur...')\n",
    "            break\n",
    "        else:\n",
    "            print('Nimadir xato')\n",
    "    elif me_score == 5:\n",
    "        b = input(\"Siz yutdingiz, agar yana boshlashni xohlasangiz: 'y', toxtatmoqchi bolsangiz 'n' ni bosing\")\n",
    "        if b == 'y':\n",
    "            user_score = 0\n",
    "            me_score = 0\n",
    "        elif b == 'n':\n",
    "            print('Tashrifingiz uchun tashakkur...')\n",
    "            break\n",
    "        else:\n",
    "            print('Nimadir xato')\n",
    "\n"
   ]
  },
  {
   "cell_type": "code",
   "execution_count": null,
   "metadata": {},
   "outputs": [],
   "source": [
    " "
   ]
  }
 ],
 "metadata": {
  "kernelspec": {
   "display_name": "Python 3",
   "language": "python",
   "name": "python3"
  },
  "language_info": {
   "codemirror_mode": {
    "name": "ipython",
    "version": 3
   },
   "file_extension": ".py",
   "mimetype": "text/x-python",
   "name": "python",
   "nbconvert_exporter": "python",
   "pygments_lexer": "ipython3",
   "version": "3.12.8"
  }
 },
 "nbformat": 4,
 "nbformat_minor": 2
}
