{
 "cells": [
  {
   "cell_type": "code",
   "execution_count": 20,
   "metadata": {},
   "outputs": [],
   "source": [
    "import numpy as np\n",
    "import random"
   ]
  },
  {
   "cell_type": "code",
   "execution_count": 4,
   "metadata": {},
   "outputs": [
    {
     "data": {
      "text/plain": [
       "array([10, 11, 12, 13, 14, 15, 16, 17, 18, 19, 20, 21, 22, 23, 24, 25, 26,\n",
       "       27, 28, 29, 30, 31, 32, 33, 34, 35, 36, 37, 38, 39, 40, 41, 42, 43,\n",
       "       44, 45, 46, 47, 48, 49])"
      ]
     },
     "execution_count": 4,
     "metadata": {},
     "output_type": "execute_result"
    }
   ],
   "source": [
    "# 1. Qiymatlari 10 dan 49 gacha boʻlgan vektor yarating.\n",
    "array1 = np.arange(10, 50)\n",
    "array1"
   ]
  },
  {
   "cell_type": "code",
   "execution_count": 11,
   "metadata": {},
   "outputs": [
    {
     "data": {
      "text/plain": [
       "array([[0, 1, 2],\n",
       "       [3, 4, 5],\n",
       "       [6, 7, 8]])"
      ]
     },
     "execution_count": 11,
     "metadata": {},
     "output_type": "execute_result"
    }
   ],
   "source": [
    "# 2. 0 dan 8 gacha bo'lgan qiymatlarga ega 3x3 matritsa yarating.\n",
    "array2 = np.array([\n",
    "    [0, 1, 2],\n",
    "    [3, 4, 5],\n",
    "    [6, 7, 8]\n",
    "])\n",
    "array2"
   ]
  },
  {
   "cell_type": "code",
   "execution_count": null,
   "metadata": {},
   "outputs": [
    {
     "data": {
      "text/plain": [
       "array([[1, 0, 0],\n",
       "       [0, 1, 0],\n",
       "       [0, 0, 1]])"
      ]
     },
     "execution_count": 19,
     "metadata": {},
     "output_type": "execute_result"
    }
   ],
   "source": [
    "# 3. 3x3 identifikatsiya matritsasi yarating\n",
    "eyes = np.eye(3, 3, dtype=int)\n",
    "eyes"
   ]
  },
  {
   "cell_type": "code",
   "execution_count": 21,
   "metadata": {},
   "outputs": [
    {
     "data": {
      "text/plain": [
       "array([[[85, 47, 85],\n",
       "        [56,  5, 70],\n",
       "        [96, 89, 61]],\n",
       "\n",
       "       [[52, 85, 92],\n",
       "        [37,  2, 19],\n",
       "        [92, 85, 48]],\n",
       "\n",
       "       [[74, 38, 56],\n",
       "        [77, 47, 72],\n",
       "        [42,  6, 83]]], dtype=int32)"
      ]
     },
     "execution_count": 21,
     "metadata": {},
     "output_type": "execute_result"
    }
   ],
   "source": [
    "# 4. Tasodifiy qiymatlar bilan 3x3x3 massiv yarating.\n",
    "array4 = np.random.randint(1, 100, [3, 3, 3])\n",
    "array4"
   ]
  },
  {
   "cell_type": "code",
   "execution_count": 28,
   "metadata": {},
   "outputs": [
    {
     "name": "stdout",
     "output_type": "stream",
     "text": [
      "Maximum qiymati 98 ga teng\n",
      "Minumum qiymati 4 ga teng\n"
     ]
    }
   ],
   "source": [
    "# 5. Tasodifiy qiymatlar bilan 10x10 massiv yarating va minimal va maksimal qiymatlarni toping.\n",
    "array5 = np.random.randint(1, 100, [10, 10])\n",
    "print(f\"Maximum qiymati {array4.max()} ga teng\")\n",
    "print(f\"Minumum qiymati {array4.min()} ga teng\")"
   ]
  },
  {
   "cell_type": "code",
   "execution_count": 33,
   "metadata": {},
   "outputs": [
    {
     "name": "stdout",
     "output_type": "stream",
     "text": [
      "45.9\n"
     ]
    }
   ],
   "source": [
    "# 6. 30 o'lchamdagi tasodifiy vektorni yarating va o'rtacha qiymatni toping.\n",
    "array6 = np.random.randint(1, 100, 30)\n",
    "medium = sum(array6) / len(array6)\n",
    "print(medium)"
   ]
  },
  {
   "cell_type": "code",
   "execution_count": 37,
   "metadata": {},
   "outputs": [
    {
     "data": {
      "text/plain": [
       "array([[0.06212252, 0.02329594, 0.02502157, 0.05867127, 0.01725626],\n",
       "       [0.07161346, 0.03106126, 0.06988783, 0.01725626, 0.05780846],\n",
       "       [0.01035375, 0.04227783, 0.02070751, 0.05522002, 0.01984469],\n",
       "       [0.04400345, 0.07765315, 0.00258844, 0.02761001, 0.01639344],\n",
       "       [0.04141501, 0.04659189, 0.03710095, 0.04314064, 0.0811044 ]])"
      ]
     },
     "execution_count": 37,
     "metadata": {},
     "output_type": "execute_result"
    }
   ],
   "source": [
    "# 7. 5x5 tasodifiy matritsani normallashtiring.\n",
    "array7 = np.random.randint(1, 100, [5, 5])\n",
    "normalized_matrix = array7 / array7.sum()\n",
    "normalized_matrix"
   ]
  },
  {
   "cell_type": "code",
   "execution_count": 39,
   "metadata": {},
   "outputs": [
    {
     "data": {
      "text/plain": [
       "array([[206, 135],\n",
       "       [109,  98],\n",
       "       [134,  91],\n",
       "       [242, 168],\n",
       "       [115,  66]], dtype=int32)"
      ]
     },
     "execution_count": 39,
     "metadata": {},
     "output_type": "execute_result"
    }
   ],
   "source": [
    "# 8. 5x3 matritsani 3x2 matritsaga ko'paytiring (haqiqiy matritsa mahsuloti).\n",
    "\n",
    "arr81 = np.random.randint(1, 20, [5, 3])\n",
    "dot1 = np.random.randint(1, 20, [3, 2])\n",
    "a = np.dot(arr81, dot1)\n",
    "a"
   ]
  },
  {
   "cell_type": "code",
   "execution_count": 42,
   "metadata": {},
   "outputs": [
    {
     "data": {
      "text/plain": [
       "array([[ 89, 209,  59],\n",
       "       [155, 452, 176],\n",
       "       [159, 457, 163]], dtype=int32)"
      ]
     },
     "execution_count": 42,
     "metadata": {},
     "output_type": "execute_result"
    }
   ],
   "source": [
    "# 9. Ikkita 3x3 matritsa yarating va ularning nuqta mahsulotini hisoblang.\n",
    "arr91 = np.random.randint(1, 20, [3, 3])\n",
    "dot2 = np.random.randint(1, 20, [3, 3])\n",
    "b = np.dot(arr91, dot2)\n",
    "b"
   ]
  },
  {
   "cell_type": "code",
   "execution_count": 45,
   "metadata": {},
   "outputs": [
    {
     "name": "stdout",
     "output_type": "stream",
     "text": [
      "[[ 5 17  4 19]\n",
      " [ 2 16 11  6]\n",
      " [ 1 18  3 13]\n",
      " [ 7 16  3 17]] \n",
      "--------------------\n",
      "[[ 5  2  1  7]\n",
      " [17 16 18 16]\n",
      " [ 4 11  3  3]\n",
      " [19  6 13 17]]\n"
     ]
    }
   ],
   "source": [
    "# 10. 4x4 matritsa berilgan bo‘lsa, uning ko‘chirilishini toping.\n",
    "arr101 = np.random.randint(1, 20, [4, 4])\n",
    "tarnsposed = arr101.transpose()\n",
    "print(arr101, '\\n'+'-'*20)\n",
    "print(tarnsposed)"
   ]
  },
  {
   "cell_type": "code",
   "execution_count": 50,
   "metadata": {},
   "outputs": [
    {
     "name": "stdout",
     "output_type": "stream",
     "text": [
      "348.00000000000006\n"
     ]
    }
   ],
   "source": [
    "# 11. 3x3 matritsa tuzing va uning determinantini hisoblang.\n",
    "arr11 = np.random.randint(1, 20, [3, 3])\n",
    "determinant = np.linalg.det(arr11)\n",
    "print(determinant)\n"
   ]
  },
  {
   "cell_type": "code",
   "execution_count": 63,
   "metadata": {},
   "outputs": [
    {
     "data": {
      "text/plain": [
       "array([[ 862,  371,  492],\n",
       "       [ 970,  351,  603],\n",
       "       [1392,  558,  878]], dtype=int32)"
      ]
     },
     "execution_count": 63,
     "metadata": {},
     "output_type": "execute_result"
    }
   ],
   "source": [
    "# 12. Ikkita A(3x4) va B(4x3) matritsalarni yarating va matritsa mahsulotini A \\cdot B hisoblang.\n",
    "x = np.random.randint(1, 30, [3, 4])\n",
    "y = np.random.randint(1, 30, [4, 3])\n",
    "z = np.dot(x, y)\n",
    "z"
   ]
  },
  {
   "cell_type": "code",
   "execution_count": 62,
   "metadata": {},
   "outputs": [
    {
     "data": {
      "text/plain": [
       "array([[135],\n",
       "       [280],\n",
       "       [197]], dtype=int32)"
      ]
     },
     "execution_count": 62,
     "metadata": {},
     "output_type": "execute_result"
    }
   ],
   "source": [
    "# 13. 3x3 tasodifiy matritsa va 3 elementli ustun vektorini yarating. Matritsa-vektor mahsulotini hisoblang.\n",
    "matrix = np.random.randint(1, 20, [3, 3])\n",
    "a = np.random.randint(1, 20, [3, 1])\n",
    "result = np.dot(matrix, a)\n",
    "result\n"
   ]
  },
  {
   "cell_type": "code",
   "execution_count": 67,
   "metadata": {},
   "outputs": [
    {
     "data": {
      "text/plain": [
       "array([[ 0.26140031,  0.15981479, -0.1464852 ]])"
      ]
     },
     "execution_count": 67,
     "metadata": {},
     "output_type": "execute_result"
    }
   ],
   "source": [
    "# 14. Chiziqli sistemani Ax = b yeching, bu erda A 3x3 matritsa va b 3x1 ustunli vektor.\n",
    "A = np.random.randint(1, 30, [3, 3])\n",
    "B = np.random.randint(1, 30, [3, 1])\n",
    "x = np.linalg.solve(A, B)\n",
    "x.T"
   ]
  },
  {
   "cell_type": "code",
   "execution_count": 59,
   "metadata": {},
   "outputs": [
    {
     "name": "stdout",
     "output_type": "stream",
     "text": [
      "0-qatorni yigindisi 32\n",
      "1-qatorni yigindisi 67\n",
      "2-qatorni yigindisi 32\n",
      "3-qatorni yigindisi 27\n",
      "4-qatorni yigindisi 20\n",
      "--------------------\n",
      "0-ustunni yigindisi 32\n",
      "1-ustunni yigindisi 13\n",
      "2-ustunni yigindisi 52\n",
      "3-ustunni yigindisi 33\n",
      "4-ustunni yigindisi 48\n"
     ]
    }
   ],
   "source": [
    "# 15. 5x5 matritsa berilgan boʻlsa, qatorlar va ustunlar boʻyicha yigʻindilarni toping.\n",
    "arr15 = np.random.randint(1, 20, [5, 5])\n",
    "b = 0\n",
    "for i in arr15:\n",
    "    print(f'{b}-qatorni yigindisi {sum(i)}')\n",
    "    b += 1\n",
    "print('-'*20)\n",
    "for i in range(len(arr15)):\n",
    "    a = arr15[0, i] + arr15[1, i] + arr15[2, i] + arr15[3, i] + arr15[4, i]\n",
    "    print(f'{i}-ustunni yigindisi {a}')   \n",
    "    "
   ]
  },
  {
   "cell_type": "code",
   "execution_count": null,
   "metadata": {},
   "outputs": [],
   "source": []
  }
 ],
 "metadata": {
  "kernelspec": {
   "display_name": "Python 3",
   "language": "python",
   "name": "python3"
  },
  "language_info": {
   "codemirror_mode": {
    "name": "ipython",
    "version": 3
   },
   "file_extension": ".py",
   "mimetype": "text/x-python",
   "name": "python",
   "nbconvert_exporter": "python",
   "pygments_lexer": "ipython3",
   "version": "3.12.8"
  }
 },
 "nbformat": 4,
 "nbformat_minor": 2
}
