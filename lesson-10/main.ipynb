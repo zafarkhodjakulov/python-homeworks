{
 "cells": [
  {
   "cell_type": "markdown",
   "metadata": {},
   "source": [
    "### CSV"
   ]
  },
  {
   "cell_type": "code",
   "execution_count": 18,
   "metadata": {},
   "outputs": [
    {
     "name": "stdout",
     "output_type": "stream",
     "text": [
      "['Senior Python Developer', 'Energy engineer', 'Legal executive', 'Fitness centre manager', 'Product manager', 'Medical technical officer', 'Physiological scientist', 'Textile designer', 'Television floor manager', 'Waste management officer', 'Software Engineer (Python)', 'Interpreter', 'Architect', 'Meteorologist', 'Audiological scientist', 'English as a second language teacher', 'Surgeon', 'Equities trader', 'Newspaper journalist', 'Materials engineer', 'Python Programmer (Entry-Level)', 'Product/process development scientist', '\"Scientist', 'Ecologist', 'Materials engineer', 'Historic buildings inspector/conservation officer', 'Data scientist', 'Psychiatrist', 'Structural engineer', 'Immigration officer', 'Python Programmer (Entry-Level)', 'Neurosurgeon', 'Broadcast engineer', 'Make', '\"Nurse', 'Air broker', '\"Editor', '\"Production assistant', '\"Engineer', 'Sales executive', 'Software Developer (Python)', 'Futures trader', 'Tour manager', 'Cytogeneticist', '\"Designer', 'Trade union research officer', '\"Chemist', '\"Programmer', '\"Engineer', '\"Teacher', 'Python Developer', 'Manufacturing systems engineer', '\"Producer', '\"Scientist', 'Bonds trader', 'Editorial assistant', 'Photographer', 'Retail banker', 'Jewellery designer', 'Ophthalmologist', '\"Back-End Web Developer (Python', 'Licensed conveyancer', 'Futures trader', 'Counselling psychologist', 'Insurance underwriter', '\"Engineer', '\"Producer', 'Dispensing optician', '\"Designer', 'Chartered loss adjuster', '\"Back-End Web Developer (Python', 'Forest/woodland manager', 'Clinical cytogeneticist', 'Print production planner', 'Systems developer', 'Graphic designer', 'Writer', 'Field seismologist', 'Chief Strategy Officer', 'Air cabin crew', 'Python Programmer (Entry-Level)', 'Warden/ranger', 'Sports therapist', 'Arts development officer', 'Printmaker', 'Health and safety adviser', 'Manufacturing systems engineer', '\"Programmer', 'Medical physicist', 'Media planner', 'Software Developer (Python)', '\"Surveyor', 'Legal executive', '\"Librarian', 'Barrister', 'Museum/gallery exhibitions officer', '\"Radiographer', 'Database administrator', 'Furniture designer', 'Ship broker']\n"
     ]
    }
   ],
   "source": [
    "with open('D:\\\\bai and ai\\\\python-homeworks\\\\lesson-10\\\\jobs.csv') as f:\n",
    "    file = f.read().splitlines()\n",
    "    title = [i.split(',')[1] for i in file[1:]]\n",
    "    print(title)"
   ]
  },
  {
   "cell_type": "code",
   "execution_count": 1,
   "metadata": {},
   "outputs": [],
   "source": [
    "import csv"
   ]
  },
  {
   "cell_type": "code",
   "execution_count": null,
   "metadata": {},
   "outputs": [
    {
     "name": "stdout",
     "output_type": "stream",
     "text": [
      "['1', 'Senior Python Developer', 'Payne, Roberts and Davis', 'Stewartbury, AA', 'No description available', 'https://realpython.github.io/fake-jobs/jobs/senior-python-developer-0.html']\n",
      "['2', 'Energy engineer', 'Vasquez-Davidson', 'Christopherville, AA', 'No description available', 'https://realpython.github.io/fake-jobs/jobs/energy-engineer-1.html']\n",
      "['3', 'Legal executive', 'Jackson, Chambers and Levy', 'Port Ericaburgh, AA', 'No description available', 'https://realpython.github.io/fake-jobs/jobs/legal-executive-2.html']\n",
      "['4', 'Fitness centre manager', 'Savage-Bradley', 'East Seanview, AP', 'No description available', 'https://realpython.github.io/fake-jobs/jobs/fitness-centre-manager-3.html']\n",
      "['5', 'Product manager', 'Ramirez Inc', 'North Jamieview, AP', 'No description available', 'https://realpython.github.io/fake-jobs/jobs/product-manager-4.html']\n",
      "['6', 'Medical technical officer', 'Rogers-Yates', 'Davidville, AP', 'No description available', 'https://realpython.github.io/fake-jobs/jobs/medical-technical-officer-5.html']\n",
      "['7', 'Physiological scientist', 'Kramer-Klein', 'South Christopher, AE', 'No description available', 'https://realpython.github.io/fake-jobs/jobs/physiological-scientist-6.html']\n",
      "['8', 'Textile designer', 'Meyers-Johnson', 'Port Jonathan, AE', 'No description available', 'https://realpython.github.io/fake-jobs/jobs/textile-designer-7.html']\n",
      "['9', 'Television floor manager', 'Hughes-Williams', 'Osbornetown, AE', 'No description available', 'https://realpython.github.io/fake-jobs/jobs/television-floor-manager-8.html']\n",
      "['10', 'Waste management officer', 'Jones, Williams and Villa', 'Scotttown, AP', 'No description available', 'https://realpython.github.io/fake-jobs/jobs/waste-management-officer-9.html']\n",
      "['11', 'Software Engineer (Python)', 'Garcia PLC', 'Ericberg, AE', 'No description available', 'https://realpython.github.io/fake-jobs/jobs/software-engineer-python-10.html']\n",
      "['12', 'Interpreter', 'Gregory and Sons', 'Ramireztown, AE', 'No description available', 'https://realpython.github.io/fake-jobs/jobs/interpreter-11.html']\n",
      "['13', 'Architect', 'Clark, Garcia and Sosa', 'Figueroaview, AA', 'No description available', 'https://realpython.github.io/fake-jobs/jobs/architect-12.html']\n",
      "['14', 'Meteorologist', 'Bush PLC', 'Kelseystad, AA', 'No description available', 'https://realpython.github.io/fake-jobs/jobs/meteorologist-13.html']\n",
      "['15', 'Audiological scientist', 'Salazar-Meyers', 'Williamsburgh, AE', 'No description available', 'https://realpython.github.io/fake-jobs/jobs/audiological-scientist-14.html']\n",
      "['16', 'English as a second language teacher', 'Parker, Murphy and Brooks', 'Mitchellburgh, AE', 'No description available', 'https://realpython.github.io/fake-jobs/jobs/english-as-a-second-language-teacher-15.html']\n",
      "['17', 'Surgeon', 'Cruz-Brown', 'West Jessicabury, AA', 'No description available', 'https://realpython.github.io/fake-jobs/jobs/surgeon-16.html']\n",
      "['18', 'Equities trader', 'Macdonald-Ferguson', 'Maloneshire, AE', 'No description available', 'https://realpython.github.io/fake-jobs/jobs/equities-trader-17.html']\n",
      "['19', 'Newspaper journalist', 'Williams, Peterson and Rojas', 'Johnsonton, AA', 'No description available', 'https://realpython.github.io/fake-jobs/jobs/newspaper-journalist-18.html']\n",
      "['20', 'Materials engineer', 'Smith and Sons', 'South Davidtown, AP', 'No description available', 'https://realpython.github.io/fake-jobs/jobs/materials-engineer-19.html']\n",
      "['21', 'Python Programmer (Entry-Level)', 'Moss, Duncan and Allen', 'Port Sara, AE', 'No description available', 'https://realpython.github.io/fake-jobs/jobs/python-programmer-entry-level-20.html']\n",
      "['22', 'Product/process development scientist', 'Gomez-Carroll', 'Marktown, AA', 'No description available', 'https://realpython.github.io/fake-jobs/jobs/product-process-development-scientist-21.html']\n",
      "['23', 'Scientist, research (maths)', 'Manning, Welch and Herring', 'Laurenland, AE', 'No description available', 'https://realpython.github.io/fake-jobs/jobs/scientist-research-maths-22.html']\n",
      "['24', 'Ecologist', 'Lee, Gutierrez and Brown', 'Lauraton, AP', 'No description available', 'https://realpython.github.io/fake-jobs/jobs/ecologist-23.html']\n",
      "['25', 'Materials engineer', 'Davis, Serrano and Cook', 'South Tammyberg, AP', 'No description available', 'https://realpython.github.io/fake-jobs/jobs/materials-engineer-24.html']\n",
      "['26', 'Historic buildings inspector/conservation officer', 'Smith LLC', 'North Brandonville, AP', 'No description available', 'https://realpython.github.io/fake-jobs/jobs/historic-buildings-inspector-conservation-officer-25.html']\n",
      "['27', 'Data scientist', 'Thomas Group', 'Port Robertfurt, AA', 'No description available', 'https://realpython.github.io/fake-jobs/jobs/data-scientist-26.html']\n",
      "['28', 'Psychiatrist', 'Silva-King', 'Burnettbury, AE', 'No description available', 'https://realpython.github.io/fake-jobs/jobs/psychiatrist-27.html']\n",
      "['29', 'Structural engineer', 'Pierce-Long', 'Herbertside, AA', 'No description available', 'https://realpython.github.io/fake-jobs/jobs/structural-engineer-28.html']\n",
      "['30', 'Immigration officer', 'Walker-Simpson', 'Christopherport, AP', 'No description available', 'https://realpython.github.io/fake-jobs/jobs/immigration-officer-29.html']\n",
      "['31', 'Python Programmer (Entry-Level)', 'Cooper and Sons', 'West Victor, AE', 'No description available', 'https://realpython.github.io/fake-jobs/jobs/python-programmer-entry-level-30.html']\n",
      "['32', 'Neurosurgeon', 'Donovan, Gonzalez and Figueroa', 'Port Aaron, AP', 'No description available', 'https://realpython.github.io/fake-jobs/jobs/neurosurgeon-31.html']\n",
      "['33', 'Broadcast engineer', 'Morgan, Butler and Bennett', 'Loribury, AA', 'No description available', 'https://realpython.github.io/fake-jobs/jobs/broadcast-engineer-32.html']\n",
      "['34', 'Make', 'Snyder-Lee', 'Angelastad, AP', 'No description available', 'https://realpython.github.io/fake-jobs/jobs/make-33.html']\n",
      "['35', 'Nurse, adult', 'Harris PLC', 'Larrytown, AE', 'No description available', 'https://realpython.github.io/fake-jobs/jobs/nurse-adult-34.html']\n",
      "['36', 'Air broker', 'Washington PLC', 'West Colin, AP', 'No description available', 'https://realpython.github.io/fake-jobs/jobs/air-broker-35.html']\n",
      "['37', 'Editor, film/video', 'Brown, Price and Campbell', 'West Stephanie, AP', 'No description available', 'https://realpython.github.io/fake-jobs/jobs/editor-film-video-36.html']\n",
      "['38', 'Production assistant, radio', 'Mcgee PLC', 'Laurentown, AP', 'No description available', 'https://realpython.github.io/fake-jobs/jobs/production-assistant-radio-37.html']\n",
      "['39', 'Engineer, communications', 'Dixon Inc', 'Wrightberg, AP', 'No description available', 'https://realpython.github.io/fake-jobs/jobs/engineer-communications-38.html']\n",
      "['40', 'Sales executive', 'Thompson, Sheppard and Ward', 'Alberttown, AE', 'No description available', 'https://realpython.github.io/fake-jobs/jobs/sales-executive-39.html']\n",
      "['41', 'Software Developer (Python)', 'Adams-Brewer', 'Brockburgh, AE', 'No description available', 'https://realpython.github.io/fake-jobs/jobs/software-developer-python-40.html']\n",
      "['42', 'Futures trader', 'Schneider-Brady', 'North Jason, AE', 'No description available', 'https://realpython.github.io/fake-jobs/jobs/futures-trader-41.html']\n",
      "['43', 'Tour manager', 'Gonzales-Frank', 'Arnoldhaven, AE', 'No description available', 'https://realpython.github.io/fake-jobs/jobs/tour-manager-42.html']\n",
      "['44', 'Cytogeneticist', 'Smith-Wong', 'Lake Destiny, AP', 'No description available', 'https://realpython.github.io/fake-jobs/jobs/cytogeneticist-43.html']\n",
      "['45', 'Designer, multimedia', 'Pierce-Herrera', 'South Timothyburgh, AP', 'No description available', 'https://realpython.github.io/fake-jobs/jobs/designer-multimedia-44.html']\n",
      "['46', 'Trade union research officer', 'Aguilar, Rivera and Quinn', 'New Jimmyton, AE', 'No description available', 'https://realpython.github.io/fake-jobs/jobs/trade-union-research-officer-45.html']\n",
      "['47', 'Chemist, analytical', 'Lowe, Barnes and Thomas', 'New Lucasbury, AP', 'No description available', 'https://realpython.github.io/fake-jobs/jobs/chemist-analytical-46.html']\n",
      "['48', 'Programmer, multimedia', 'Lewis, Gonzalez and Vasquez', 'Port Cory, AE', 'No description available', 'https://realpython.github.io/fake-jobs/jobs/programmer-multimedia-47.html']\n",
      "['49', 'Engineer, broadcasting (operations)', 'Taylor PLC', 'Gileston, AA', 'No description available', 'https://realpython.github.io/fake-jobs/jobs/engineer-broadcasting-operations-48.html']\n",
      "['50', 'Teacher, primary school', 'Oliver, Jones and Ramirez', 'Cindyshire, AA', 'No description available', 'https://realpython.github.io/fake-jobs/jobs/teacher-primary-school-49.html']\n",
      "['51', 'Python Developer', 'Rivera and Sons', 'East Michaelfort, AA', 'No description available', 'https://realpython.github.io/fake-jobs/jobs/python-developer-50.html']\n",
      "['52', 'Manufacturing systems engineer', 'Garcia PLC', 'Joybury, AE', 'No description available', 'https://realpython.github.io/fake-jobs/jobs/manufacturing-systems-engineer-51.html']\n",
      "['53', 'Producer, television/film/video', 'Johnson, Wells and Kramer', 'Emmatown, AE', 'No description available', 'https://realpython.github.io/fake-jobs/jobs/producer-television-film-video-52.html']\n",
      "['54', 'Scientist, forensic', 'Gonzalez LLC', 'Colehaven, AP', 'No description available', 'https://realpython.github.io/fake-jobs/jobs/scientist-forensic-53.html']\n",
      "['55', 'Bonds trader', 'Morgan, White and Macdonald', 'Port Coryton, AE', 'No description available', 'https://realpython.github.io/fake-jobs/jobs/bonds-trader-54.html']\n",
      "['56', 'Editorial assistant', 'Robinson-Fitzpatrick', 'Amyborough, AA', 'No description available', 'https://realpython.github.io/fake-jobs/jobs/editorial-assistant-55.html']\n",
      "['57', 'Photographer', 'Waters, Wilson and Hoover', 'Reynoldsville, AA', 'No description available', 'https://realpython.github.io/fake-jobs/jobs/photographer-56.html']\n",
      "['58', 'Retail banker', 'Hill LLC', 'Port Billy, AP', 'No description available', 'https://realpython.github.io/fake-jobs/jobs/retail-banker-57.html']\n",
      "['59', 'Jewellery designer', 'Li-Gregory', 'Adamburgh, AA', 'No description available', 'https://realpython.github.io/fake-jobs/jobs/jewellery-designer-58.html']\n",
      "['60', 'Ophthalmologist', 'Fisher, Ryan and Coleman', 'Wilsonmouth, AA', 'No description available', 'https://realpython.github.io/fake-jobs/jobs/ophthalmologist-59.html']\n",
      "['61', 'Back-End Web Developer (Python, Django)', 'Stewart-Alexander', 'South Kimberly, AA', 'No description available', 'https://realpython.github.io/fake-jobs/jobs/back-end-web-developer-python-django-60.html']\n",
      "['62', 'Licensed conveyancer', 'Abbott and Sons', 'Benjaminland, AP', 'No description available', 'https://realpython.github.io/fake-jobs/jobs/licensed-conveyancer-61.html']\n",
      "['63', 'Futures trader', 'Bryant, Santana and Davenport', 'Zacharyport, AA', 'No description available', 'https://realpython.github.io/fake-jobs/jobs/futures-trader-62.html']\n",
      "['64', 'Counselling psychologist', 'Smith PLC', 'Port Devonville, AE', 'No description available', 'https://realpython.github.io/fake-jobs/jobs/counselling-psychologist-63.html']\n",
      "['65', 'Insurance underwriter', 'Patterson-Singh', 'East Thomas, AE', 'No description available', 'https://realpython.github.io/fake-jobs/jobs/insurance-underwriter-64.html']\n",
      "['66', 'Engineer, automotive', 'Martinez-Berry', 'New Jeffrey, AP', 'No description available', 'https://realpython.github.io/fake-jobs/jobs/engineer-automotive-65.html']\n",
      "['67', 'Producer, radio', 'May, Taylor and Fisher', 'Davidside, AA', 'No description available', 'https://realpython.github.io/fake-jobs/jobs/producer-radio-66.html']\n",
      "['68', 'Dispensing optician', 'Bailey, Owen and Thompson', 'Jamesville, AA', 'No description available', 'https://realpython.github.io/fake-jobs/jobs/dispensing-optician-67.html']\n",
      "['69', 'Designer, fashion/clothing', 'Vasquez Ltd', 'New Kelly, AP', 'No description available', 'https://realpython.github.io/fake-jobs/jobs/designer-fashion-clothing-68.html']\n",
      "['70', 'Chartered loss adjuster', 'Leblanc LLC', 'Lake Antonio, AA', 'No description available', 'https://realpython.github.io/fake-jobs/jobs/chartered-loss-adjuster-69.html']\n",
      "['71', 'Back-End Web Developer (Python, Django)', 'Jackson, Ali and Mckee', 'New Elizabethside, AA', 'No description available', 'https://realpython.github.io/fake-jobs/jobs/back-end-web-developer-python-django-70.html']\n",
      "['72', 'Forest/woodland manager', 'Blankenship, Knight and Powell', 'Millsbury, AE', 'No description available', 'https://realpython.github.io/fake-jobs/jobs/forest-woodland-manager-71.html']\n",
      "['73', 'Clinical cytogeneticist', 'Patton, Haynes and Jones', 'Lloydton, AP', 'No description available', 'https://realpython.github.io/fake-jobs/jobs/clinical-cytogeneticist-72.html']\n",
      "['74', 'Print production planner', 'Wood Inc', 'Port Jeremy, AA', 'No description available', 'https://realpython.github.io/fake-jobs/jobs/print-production-planner-73.html']\n",
      "['75', 'Systems developer', 'Collins Group', 'New Elizabethtown, AA', 'No description available', 'https://realpython.github.io/fake-jobs/jobs/systems-developer-74.html']\n",
      "['76', 'Graphic designer', 'Flores-Nelson', 'Charlesstad, AE', 'No description available', 'https://realpython.github.io/fake-jobs/jobs/graphic-designer-75.html']\n",
      "['77', 'Writer', 'Mitchell, Jones and Olson', 'Josephbury, AE', 'No description available', 'https://realpython.github.io/fake-jobs/jobs/writer-76.html']\n",
      "['78', 'Field seismologist', 'Howard Group', 'Seanfurt, AA', 'No description available', 'https://realpython.github.io/fake-jobs/jobs/field-seismologist-77.html']\n",
      "['79', 'Chief Strategy Officer', 'Kramer-Edwards', 'Williambury, AA', 'No description available', 'https://realpython.github.io/fake-jobs/jobs/chief-strategy-officer-78.html']\n",
      "['80', 'Air cabin crew', 'Berry-Houston', 'South Jorgeside, AP', 'No description available', 'https://realpython.github.io/fake-jobs/jobs/air-cabin-crew-79.html']\n",
      "['81', 'Python Programmer (Entry-Level)', 'Mathews Inc', 'Robertborough, AP', 'No description available', 'https://realpython.github.io/fake-jobs/jobs/python-programmer-entry-level-80.html']\n",
      "['82', 'Warden/ranger', 'Riley-Johnson', 'South Saratown, AP', 'No description available', 'https://realpython.github.io/fake-jobs/jobs/warden-ranger-81.html']\n",
      "['83', 'Sports therapist', 'Spencer and Sons', 'Hullview, AA', 'No description available', 'https://realpython.github.io/fake-jobs/jobs/sports-therapist-82.html']\n",
      "['84', 'Arts development officer', 'Camacho-Sanchez', 'Philipland, AP', 'No description available', 'https://realpython.github.io/fake-jobs/jobs/arts-development-officer-83.html']\n",
      "['85', 'Printmaker', 'Oliver and Sons', 'North Patty, AE', 'No description available', 'https://realpython.github.io/fake-jobs/jobs/printmaker-84.html']\n",
      "['86', 'Health and safety adviser', 'Eaton PLC', 'North Stephen, AE', 'No description available', 'https://realpython.github.io/fake-jobs/jobs/health-and-safety-adviser-85.html']\n",
      "['87', 'Manufacturing systems engineer', 'Stanley-Frederick', 'Stevensland, AP', 'No description available', 'https://realpython.github.io/fake-jobs/jobs/manufacturing-systems-engineer-86.html']\n",
      "['88', 'Programmer, applications', 'Bradley LLC', 'Reyesstad, AE', 'No description available', 'https://realpython.github.io/fake-jobs/jobs/programmer-applications-87.html']\n",
      "['89', 'Medical physicist', 'Parker, Goodwin and Zavala', 'Bellberg, AP', 'No description available', 'https://realpython.github.io/fake-jobs/jobs/medical-physicist-88.html']\n",
      "['90', 'Media planner', 'Kim-Miles', 'North Johnland, AE', 'No description available', 'https://realpython.github.io/fake-jobs/jobs/media-planner-89.html']\n",
      "['91', 'Software Developer (Python)', 'Moreno-Rodriguez', 'Martinezburgh, AE', 'No description available', 'https://realpython.github.io/fake-jobs/jobs/software-developer-python-90.html']\n",
      "['92', 'Surveyor, land/geomatics', 'Brown-Ortiz', 'Joshuatown, AE', 'No description available', 'https://realpython.github.io/fake-jobs/jobs/surveyor-land-geomatics-91.html']\n",
      "['93', 'Legal executive', 'Hartman PLC', 'West Ericstad, AA', 'No description available', 'https://realpython.github.io/fake-jobs/jobs/legal-executive-92.html']\n",
      "['94', 'Librarian, academic', 'Brooks Inc', 'Tuckertown, AE', 'No description available', 'https://realpython.github.io/fake-jobs/jobs/librarian-academic-93.html']\n",
      "['95', 'Barrister', 'Washington-Castillo', 'Perezton, AE', 'No description available', 'https://realpython.github.io/fake-jobs/jobs/barrister-94.html']\n",
      "['96', 'Museum/gallery exhibitions officer', 'Nguyen, Yoder and Petty', 'Lake Abigail, AE', 'No description available', 'https://realpython.github.io/fake-jobs/jobs/museum-gallery-exhibitions-officer-95.html']\n",
      "['97', 'Radiographer, diagnostic', 'Holder LLC', 'Jacobshire, AP', 'No description available', 'https://realpython.github.io/fake-jobs/jobs/radiographer-diagnostic-96.html']\n",
      "['98', 'Database administrator', 'Yates-Ferguson', 'Port Susan, AE', 'No description available', 'https://realpython.github.io/fake-jobs/jobs/database-administrator-97.html']\n",
      "['99', 'Furniture designer', 'Ortega-Lawrence', 'North Tiffany, AA', 'No description available', 'https://realpython.github.io/fake-jobs/jobs/furniture-designer-98.html']\n",
      "['100', 'Ship broker', 'Fuentes, Walls and Castro', 'Michelleville, AP', 'No description available', 'https://realpython.github.io/fake-jobs/jobs/ship-broker-99.html']\n"
     ]
    }
   ],
   "source": [
    "with open('D:\\\\bai and ai\\\\python-homeworks\\\\lesson-10\\\\jobs.csv') as f:\n",
    "    file = csv.reader(f, delimiter=',')\n",
    "    colums = next(file)\n",
    "    for row in file:\n",
    "        print(row)\n",
    "    "
   ]
  },
  {
   "cell_type": "code",
   "execution_count": null,
   "metadata": {},
   "outputs": [
    {
     "ename": "KeyError",
     "evalue": "0",
     "output_type": "error",
     "traceback": [
      "\u001b[1;31m---------------------------------------------------------------------------\u001b[0m",
      "\u001b[1;31mKeyError\u001b[0m                                  Traceback (most recent call last)",
      "Cell \u001b[1;32mIn[38], line 4\u001b[0m\n\u001b[0;32m      2\u001b[0m reader \u001b[38;5;241m=\u001b[39m csv\u001b[38;5;241m.\u001b[39mDictReader(f)\n\u001b[0;32m      3\u001b[0m \u001b[38;5;28;01mfor\u001b[39;00m row \u001b[38;5;129;01min\u001b[39;00m reader:\n\u001b[1;32m----> 4\u001b[0m     \u001b[38;5;28mprint\u001b[39m(\u001b[43mrow\u001b[49m\u001b[43m[\u001b[49m\u001b[38;5;241;43m0\u001b[39;49m\u001b[43m]\u001b[49m)\n",
      "\u001b[1;31mKeyError\u001b[0m: 0"
     ]
    }
   ],
   "source": [
    "with open('outputs.csv') as f:\n",
    "    reader = csv.DictReader(f)\n",
    "    for row in reader:\n",
    "        print(row)"
   ]
  },
  {
   "cell_type": "code",
   "execution_count": 2,
   "metadata": {},
   "outputs": [],
   "source": [
    "data = [\n",
    "    ['id', 'name', 'address', 'job'],\n",
    "    [0, 'iskandar', 'Shahar 12', 'arxitektur'],\n",
    "    [1, 'ulugbek', 'yangihayot 1', 'mashinist'],\n",
    "    [2, 'elyor', 'qoraqamish 23', 'tarixchi']\n",
    "]\n",
    "\n",
    "with open('output.csv', 'w', newline='') as f:\n",
    "    file = csv.writer(f, delimiter=',')\n",
    "    for row in data:\n",
    "        file.writerow(row)\n",
    "    file"
   ]
  },
  {
   "cell_type": "code",
   "execution_count": 34,
   "metadata": {},
   "outputs": [],
   "source": [
    "filenames = ['id', 'name', 'address', 'job']\n",
    "infor = [\n",
    "    {'id': 0, \"name\": 'iskandar', \"address\": 'Shahar 12', \"job\": 'arxitektur'},\n",
    "    {'id': 1, \"name\": 'ulugbek', \"address\": 'yangihayot 1', \"job\": 'mashinist'},\n",
    "    {'id': 2, \"name\": 'elyor', \"address\": 'qoraqamish 23', \"job\": 'tarixchi'},\n",
    "]\n",
    "\n",
    "with open('outputs.csv', 'w', newline='') as f:\n",
    "    writer = csv.DictWriter(f, fieldnames=filenames, delimiter=',')\n",
    "    writer.writeheader()\n",
    "    writer.writerows(infor)"
   ]
  },
  {
   "cell_type": "markdown",
   "metadata": {},
   "source": [
    "### JSON"
   ]
  },
  {
   "cell_type": "code",
   "execution_count": 40,
   "metadata": {},
   "outputs": [],
   "source": [
    "import json"
   ]
  },
  {
   "cell_type": "code",
   "execution_count": 39,
   "metadata": {},
   "outputs": [],
   "source": [
    "json_str = \"\"\"\n",
    "{\n",
    "    \"id\": 1,\n",
    "    \"name\": \"Alice Johnson\",\n",
    "    \"email\": \"alice.johnson@example.com\",\n",
    "    \"isActive\": true,\n",
    "    \"roles\": [\"admin\", \"editor\"],\n",
    "    \"profile\": {\n",
    "        \"age\": 30,\n",
    "        \"city\": \"New York\",\n",
    "        \"joined\": \"2023-01-15\"\n",
    "    }\n",
    "}\n",
    "\"\"\""
   ]
  },
  {
   "cell_type": "code",
   "execution_count": 45,
   "metadata": {},
   "outputs": [
    {
     "data": {
      "text/plain": [
       "{'id': 1,\n",
       " 'name': 'Alice Johnson',\n",
       " 'email': 'alice.johnson@example.com',\n",
       " 'isActive': True,\n",
       " 'roles': ['admin', 'editor'],\n",
       " 'profile': {'age': 30, 'city': 'New York', 'joined': '2023-01-15'}}"
      ]
     },
     "execution_count": 45,
     "metadata": {},
     "output_type": "execute_result"
    }
   ],
   "source": [
    "data = json.loads(json_str)\n",
    "data"
   ]
  },
  {
   "cell_type": "code",
   "execution_count": 46,
   "metadata": {},
   "outputs": [
    {
     "data": {
      "text/plain": [
       "'Alice Johnson'"
      ]
     },
     "execution_count": 46,
     "metadata": {},
     "output_type": "execute_result"
    }
   ],
   "source": [
    "data['name']"
   ]
  },
  {
   "cell_type": "code",
   "execution_count": 50,
   "metadata": {},
   "outputs": [
    {
     "name": "stdout",
     "output_type": "stream",
     "text": [
      "None\n"
     ]
    }
   ],
   "source": [
    "data = {\n",
    "    'name': 'Alisher',\n",
    "    'phone': 9012345678,\n",
    "    'address': 'Shayxontohur kochasi, 23',\n",
    "    'marride': True\n",
    "}\n",
    "\n",
    "with open('user.json', 'wt') as f:\n",
    "    json.dump(data, f, indent=4)\n",
    "\n",
    "\n",
    "    "
   ]
  },
  {
   "cell_type": "code",
   "execution_count": 56,
   "metadata": {},
   "outputs": [
    {
     "data": {
      "text/plain": [
       "str"
      ]
     },
     "execution_count": 56,
     "metadata": {},
     "output_type": "execute_result"
    }
   ],
   "source": [
    "data = {\n",
    "    \"name\": \"Charlie\",\n",
    "    \"age\": 35,\n",
    "    \"city\": \"Chicago\"\n",
    "}\n",
    "\n",
    "writer = json.dumps(data, indent=4)\n",
    "type(writer)"
   ]
  },
  {
   "cell_type": "code",
   "execution_count": 61,
   "metadata": {},
   "outputs": [
    {
     "data": {
      "text/plain": [
       "'{\"name\": \"Alisher\", \"phone\": 9012345678, \"address\": \"Shayxontohur kochasi, 23\", \"marride\": true}'"
      ]
     },
     "execution_count": 61,
     "metadata": {},
     "output_type": "execute_result"
    }
   ],
   "source": [
    "with open('user.json', 'rt') as f:\n",
    "    file = json.load(f)\n",
    "    writer = json.dumps(file)\n",
    "writer"
   ]
  },
  {
   "cell_type": "code",
   "execution_count": 63,
   "metadata": {},
   "outputs": [],
   "source": [
    "from datetime import datetime\n",
    "class DateEncoder(json.JSONEncoder):\n",
    "    def default(self, obj):\n",
    "        if isinstance(obj, datetime):\n",
    "            return obj.isoformat()\n",
    "        return super().default(obj)\n",
    "    \n",
    "data = {\n",
    "    \"name\": \"Akbar\",\n",
    "    \"date\": datetime.now()\n",
    "}\n",
    "\n",
    "with open('datetime.json', 'wt') as f:\n",
    "    json.dump(data, f, indent=4, cls=DateEncoder)"
   ]
  },
  {
   "cell_type": "code",
   "execution_count": null,
   "metadata": {},
   "outputs": [],
   "source": []
  }
 ],
 "metadata": {
  "kernelspec": {
   "display_name": "Python 3",
   "language": "python",
   "name": "python3"
  },
  "language_info": {
   "codemirror_mode": {
    "name": "ipython",
    "version": 3
   },
   "file_extension": ".py",
   "mimetype": "text/x-python",
   "name": "python",
   "nbconvert_exporter": "python",
   "pygments_lexer": "ipython3",
   "version": "3.12.8"
  }
 },
 "nbformat": 4,
 "nbformat_minor": 2
}
