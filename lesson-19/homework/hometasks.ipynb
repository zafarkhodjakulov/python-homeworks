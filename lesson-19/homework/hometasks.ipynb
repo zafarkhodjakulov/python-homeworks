{
 "cells": [
  {
   "cell_type": "code",
   "execution_count": 2,
   "metadata": {},
   "outputs": [],
   "source": [
    "import pandas as pd\n",
    "import numpy as np\n",
    "import sqlite3 as sql3"
   ]
  },
  {
   "cell_type": "markdown",
   "metadata": {},
   "source": [
    "**`Merging and Joining`**"
   ]
  },
  {
   "cell_type": "markdown",
   "metadata": {},
   "source": [
    "`1`"
   ]
  },
  {
   "cell_type": "code",
   "execution_count": 25,
   "metadata": {},
   "outputs": [
    {
     "data": {
      "text/plain": [
       "CustomerId           412\n",
       "FirstName            412\n",
       "LastName             412\n",
       "Company               70\n",
       "Address              412\n",
       "City                 412\n",
       "State                210\n",
       "Country              412\n",
       "PostalCode           384\n",
       "Phone                405\n",
       "Fax                   84\n",
       "Email                412\n",
       "SupportRepId         412\n",
       "InvoiceId            412\n",
       "InvoiceDate          412\n",
       "BillingAddress       412\n",
       "BillingCity          412\n",
       "BillingState         210\n",
       "BillingCountry       412\n",
       "BillingPostalCode    384\n",
       "Total                412\n",
       "dtype: int64"
      ]
     },
     "execution_count": 25,
     "metadata": {},
     "output_type": "execute_result"
    }
   ],
   "source": [
    "con = sql3.connect('../data/chinook.db')\n",
    "df1 = pd.read_sql('Select * from customers', con=con)\n",
    "df2 = pd.read_sql('Select * from invoices', con=con)\n",
    "new_df = pd.merge(df1, df2, how='inner', on='CustomerId')\n",
    "new_df.count()"
   ]
  },
  {
   "cell_type": "markdown",
   "metadata": {},
   "source": [
    "`2`"
   ]
  },
  {
   "cell_type": "code",
   "execution_count": null,
   "metadata": {},
   "outputs": [
    {
     "data": {
      "text/plain": [
       "director_name             19896\n",
       "color                     30062\n",
       "num_critic_for_reviews    29741\n",
       "dtype: int64"
      ]
     },
     "execution_count": 24,
     "metadata": {},
     "output_type": "execute_result"
    }
   ],
   "source": [
    "df = pd.read_csv('../data/movie.csv')\n",
    "df_1 = df[['director_name', 'color']]\n",
    "df_2 = df[['director_name', 'num_critic_for_reviews']]\n",
    "df_movie = pd.merge(df_1, df_2, on='director_name', how='outer')\n",
    "df_movie.count()"
   ]
  },
  {
   "cell_type": "markdown",
   "metadata": {},
   "source": [
    "**`Grouping and Aggregating`**"
   ]
  },
  {
   "cell_type": "markdown",
   "metadata": {},
   "source": [
    "`1`"
   ]
  },
  {
   "cell_type": "code",
   "execution_count": 44,
   "metadata": {},
   "outputs": [
    {
     "data": {
      "text/html": [
       "<div>\n",
       "<style scoped>\n",
       "    .dataframe tbody tr th:only-of-type {\n",
       "        vertical-align: middle;\n",
       "    }\n",
       "\n",
       "    .dataframe tbody tr th {\n",
       "        vertical-align: top;\n",
       "    }\n",
       "\n",
       "    .dataframe thead th {\n",
       "        text-align: right;\n",
       "    }\n",
       "</style>\n",
       "<table border=\"1\" class=\"dataframe\">\n",
       "  <thead>\n",
       "    <tr style=\"text-align: right;\">\n",
       "      <th></th>\n",
       "      <th>Pclass</th>\n",
       "      <th>Average_Age</th>\n",
       "      <th>Total_Fare</th>\n",
       "      <th>Passenger_Count</th>\n",
       "    </tr>\n",
       "  </thead>\n",
       "  <tbody>\n",
       "    <tr>\n",
       "      <th>0</th>\n",
       "      <td>1</td>\n",
       "      <td>38.233441</td>\n",
       "      <td>18177.4125</td>\n",
       "      <td>216</td>\n",
       "    </tr>\n",
       "    <tr>\n",
       "      <th>1</th>\n",
       "      <td>2</td>\n",
       "      <td>29.877630</td>\n",
       "      <td>3801.8417</td>\n",
       "      <td>184</td>\n",
       "    </tr>\n",
       "    <tr>\n",
       "      <th>2</th>\n",
       "      <td>3</td>\n",
       "      <td>25.140620</td>\n",
       "      <td>6714.6951</td>\n",
       "      <td>491</td>\n",
       "    </tr>\n",
       "  </tbody>\n",
       "</table>\n",
       "</div>"
      ],
      "text/plain": [
       "   Pclass  Average_Age  Total_Fare  Passenger_Count\n",
       "0       1    38.233441  18177.4125              216\n",
       "1       2    29.877630   3801.8417              184\n",
       "2       3    25.140620   6714.6951              491"
      ]
     },
     "execution_count": 44,
     "metadata": {},
     "output_type": "execute_result"
    }
   ],
   "source": [
    "titanic = pd.read_excel('../data/titanic.xlsx')\n",
    "\n",
    "titanic_grouped = titanic.groupby(\"Pclass\").agg(\n",
    "    Average_Age=(\"Age\", \"mean\"),\n",
    "    Total_Fare=(\"Fare\", \"sum\"),\n",
    "    Passenger_Count=(\"PassengerId\", \"count\")  \n",
    ").reset_index()\n",
    "titanic_grouped"
   ]
  },
  {
   "cell_type": "code",
   "execution_count": 46,
   "metadata": {},
   "outputs": [
    {
     "data": {
      "text/html": [
       "<div>\n",
       "<style scoped>\n",
       "    .dataframe tbody tr th:only-of-type {\n",
       "        vertical-align: middle;\n",
       "    }\n",
       "\n",
       "    .dataframe tbody tr th {\n",
       "        vertical-align: top;\n",
       "    }\n",
       "\n",
       "    .dataframe thead th {\n",
       "        text-align: right;\n",
       "    }\n",
       "</style>\n",
       "<table border=\"1\" class=\"dataframe\">\n",
       "  <thead>\n",
       "    <tr style=\"text-align: right;\">\n",
       "      <th></th>\n",
       "      <th>color</th>\n",
       "      <th>director_name</th>\n",
       "      <th>total</th>\n",
       "      <th>average</th>\n",
       "    </tr>\n",
       "  </thead>\n",
       "  <tbody>\n",
       "    <tr>\n",
       "      <th>0</th>\n",
       "      <td>Black and White</td>\n",
       "      <td>Akira Kurosawa</td>\n",
       "      <td>153.0</td>\n",
       "      <td>202.0</td>\n",
       "    </tr>\n",
       "    <tr>\n",
       "      <th>1</th>\n",
       "      <td>Black and White</td>\n",
       "      <td>Aleksey German</td>\n",
       "      <td>121.0</td>\n",
       "      <td>177.0</td>\n",
       "    </tr>\n",
       "    <tr>\n",
       "      <th>2</th>\n",
       "      <td>Black and White</td>\n",
       "      <td>Alex Garland</td>\n",
       "      <td>489.0</td>\n",
       "      <td>108.0</td>\n",
       "    </tr>\n",
       "    <tr>\n",
       "      <th>3</th>\n",
       "      <td>Black and White</td>\n",
       "      <td>Alexander Payne</td>\n",
       "      <td>433.0</td>\n",
       "      <td>115.0</td>\n",
       "    </tr>\n",
       "    <tr>\n",
       "      <th>4</th>\n",
       "      <td>Black and White</td>\n",
       "      <td>Alfred Hitchcock</td>\n",
       "      <td>434.0</td>\n",
       "      <td>119.0</td>\n",
       "    </tr>\n",
       "    <tr>\n",
       "      <th>...</th>\n",
       "      <td>...</td>\n",
       "      <td>...</td>\n",
       "      <td>...</td>\n",
       "      <td>...</td>\n",
       "    </tr>\n",
       "    <tr>\n",
       "      <th>2486</th>\n",
       "      <td>Color</td>\n",
       "      <td>Zoran Lisinac</td>\n",
       "      <td>17.0</td>\n",
       "      <td>108.0</td>\n",
       "    </tr>\n",
       "    <tr>\n",
       "      <th>2487</th>\n",
       "      <td>Color</td>\n",
       "      <td>Álex de la Iglesia</td>\n",
       "      <td>71.0</td>\n",
       "      <td>104.0</td>\n",
       "    </tr>\n",
       "    <tr>\n",
       "      <th>2488</th>\n",
       "      <td>Color</td>\n",
       "      <td>Émile Gaudreault</td>\n",
       "      <td>67.0</td>\n",
       "      <td>92.0</td>\n",
       "    </tr>\n",
       "    <tr>\n",
       "      <th>2489</th>\n",
       "      <td>Color</td>\n",
       "      <td>Éric Tessier</td>\n",
       "      <td>9.0</td>\n",
       "      <td>99.0</td>\n",
       "    </tr>\n",
       "    <tr>\n",
       "      <th>2490</th>\n",
       "      <td>Color</td>\n",
       "      <td>Étienne Faure</td>\n",
       "      <td>9.0</td>\n",
       "      <td>98.0</td>\n",
       "    </tr>\n",
       "  </tbody>\n",
       "</table>\n",
       "<p>2491 rows × 4 columns</p>\n",
       "</div>"
      ],
      "text/plain": [
       "                color       director_name  total  average\n",
       "0     Black and White      Akira Kurosawa  153.0    202.0\n",
       "1     Black and White      Aleksey German  121.0    177.0\n",
       "2     Black and White        Alex Garland  489.0    108.0\n",
       "3     Black and White     Alexander Payne  433.0    115.0\n",
       "4     Black and White    Alfred Hitchcock  434.0    119.0\n",
       "...               ...                 ...    ...      ...\n",
       "2486            Color       Zoran Lisinac   17.0    108.0\n",
       "2487            Color  Álex de la Iglesia   71.0    104.0\n",
       "2488            Color    Émile Gaudreault   67.0     92.0\n",
       "2489            Color        Éric Tessier    9.0     99.0\n",
       "2490            Color       Étienne Faure    9.0     98.0\n",
       "\n",
       "[2491 rows x 4 columns]"
      ]
     },
     "execution_count": 46,
     "metadata": {},
     "output_type": "execute_result"
    }
   ],
   "source": [
    "df = pd.read_csv('../data/movie.csv')\n",
    "movie_grouped = df.groupby(['color', 'director_name']).agg(\n",
    "    total=('num_critic_for_reviews', 'sum'),\n",
    "    average=('duration', 'mean')\n",
    ").reset_index()\n",
    "movie_grouped"
   ]
  },
  {
   "cell_type": "code",
   "execution_count": null,
   "metadata": {},
   "outputs": [],
   "source": []
  }
 ],
 "metadata": {
  "kernelspec": {
   "display_name": "Python 3",
   "language": "python",
   "name": "python3"
  },
  "language_info": {
   "codemirror_mode": {
    "name": "ipython",
    "version": 3
   },
   "file_extension": ".py",
   "mimetype": "text/x-python",
   "name": "python",
   "nbconvert_exporter": "python",
   "pygments_lexer": "ipython3",
   "version": "3.12.8"
  }
 },
 "nbformat": 4,
 "nbformat_minor": 2
}
